{
    "cells": [
        {
            "cell_type": "markdown",
            "metadata": {
                "id": "ElNaMbLnRdHR"
            },
            "source": [
                "# Sentence Reconstruction"
            ]
        },
        {
            "cell_type": "markdown",
            "metadata": {
                "id": "oXr4iGUGRms8"
            },
            "source": [
                "The purpose of this project is to take in input a sequence of words corresponding to a random permutation of a given english sentence, and reconstruct the original sentence. \n",
                "\n",
                "The otuput can be either produced in a single shot, or through an iterative (autoregressive) loop generating a single token at a time.\n",
                "\n",
                "CONSTRAINTS:\n",
                "* No pretrained model can be used.\n",
                "* The neural network models should have less the 20M parameters.\n"
            ]
        },
        {
            "attachments": {},
            "cell_type": "markdown",
            "metadata": {},
            "source": [
                "## Disclaimer\n",
                "Some of the cells have been taken from different notebooks because they were running in parallel. This is why sometimes the execution numbers might be incoherent. In any case the notebook is executable in one go with no problem."
            ]
        },
        {
            "cell_type": "markdown",
            "metadata": {
                "id": "StBJIg8yUiZ1"
            },
            "source": [
                "## Notebook Constants"
            ]
        },
        {
            "cell_type": "code",
            "execution_count": 11,
            "metadata": {
                "execution": {
                    "iopub.execute_input": "2023-06-10T08:46:53.723831Z",
                    "iopub.status.busy": "2023-06-10T08:46:53.723452Z",
                    "iopub.status.idle": "2023-06-10T08:46:53.728830Z",
                    "shell.execute_reply": "2023-06-10T08:46:53.727627Z",
                    "shell.execute_reply.started": "2023-06-10T08:46:53.723801Z"
                },
                "id": "QS_Obc3_Uoa9",
                "trusted": true
            },
            "outputs": [],
            "source": [
                "checkpoint_filepath = './DeepLearning/transformers_checkpoints/'\n",
                "VOCABULARY_SIZE = 10000\n",
                "SENTENCE_LENGTH = 32"
            ]
        },
        {
            "cell_type": "code",
            "execution_count": 12,
            "metadata": {
                "execution": {
                    "iopub.execute_input": "2023-06-10T08:47:45.749869Z",
                    "iopub.status.busy": "2023-06-10T08:47:45.749181Z",
                    "iopub.status.idle": "2023-06-10T08:47:45.754885Z",
                    "shell.execute_reply": "2023-06-10T08:47:45.753825Z",
                    "shell.execute_reply.started": "2023-06-10T08:47:45.749835Z"
                },
                "id": "FyTcT1s12ZEa",
                "trusted": true
            },
            "outputs": [],
            "source": [
                "colab = False\n",
                "if colab:\n",
                "  from google.colab import drive\n",
                "  drive.mount('/content/drive')\n",
                "  checkpoint_filepath = '/content/drive/MyDrive/DeepLearning/transformers_checkpoints/'"
            ]
        },
        {
            "cell_type": "markdown",
            "metadata": {
                "id": "iQ8k-L-WUK7l"
            },
            "source": [
                "## Dataset\n",
                "\n",
                "The dataset is composed by a snapshot of wikipedia. We restricted the vocabolary to the 10K most frequent words, and only took sentences making use of this vocabulary. In addition, we restricted to sequences with a length between 3 and 30 words.\n",
                "\n",
                "(Ignore the error, if any) "
            ]
        },
        {
            "cell_type": "code",
            "execution_count": 2,
            "metadata": {
                "colab": {
                    "base_uri": "https://localhost:8080/"
                },
                "execution": {
                    "iopub.execute_input": "2023-06-10T08:42:07.904335Z",
                    "iopub.status.busy": "2023-06-10T08:42:07.903976Z",
                    "iopub.status.idle": "2023-06-10T08:43:38.997483Z",
                    "shell.execute_reply": "2023-06-10T08:43:38.996253Z",
                    "shell.execute_reply.started": "2023-06-10T08:42:07.904288Z"
                },
                "id": "0xmXLLfaUKA6",
                "outputId": "20a69e0f-2b0c-4820-cb5f-2376b52e0019",
                "trusted": true
            },
            "outputs": [
                {
                    "name": "stdout",
                    "output_type": "stream",
                    "text": [
                        "\\u001b[33mWARNING: Running pip as the 'root' user can result in broken permissions and conflicting behaviour with the system package manager. It is recommended to use a virtual environment instead: https://pip.pypa.io/warnings/venv\\u001b[0m\\u001b[33m\n",
                        "\\u001b[0mRequirement already satisfied: protobuf~=3.20.3 in /opt/conda/lib/python3.10/site-packages (3.20.3)\n",
                        "\\u001b[33mWARNING: Running pip as the 'root' user can result in broken permissions and conflicting behaviour with the system package manager. It is recommended to use a virtual environment instead: https://pip.pypa.io/warnings/venv\\u001b[0m\\u001b[33m\n",
                        "\\u001b[0m\\u001b[33mWARNING: Running pip as the 'root' user can result in broken permissions and conflicting behaviour with the system package manager. It is recommended to use a virtual environment instead: https://pip.pypa.io/warnings/venv\\u001b[0m\\u001b[33m\n",
                        "\\u001b[0m\\u001b[33mWARNING: Running pip as the 'root' user can result in broken permissions and conflicting behaviour with the system package manager. It is recommended to use a virtual environment instead: https://pip.pypa.io/warnings/venv\\u001b[0m\\u001b[33m\n",
                        "\\u001b[0m"
                    ]
                }
            ],
            "source": [
                "!pip uninstall -y -q tensorflow keras tensorflow-estimator tensorflow-text\n",
                "!pip install protobuf~=3.20.3\n",
                "!pip install -q tensorflow_datasets\n",
                "!pip install -q -U tensorflow-text tensorflow"
            ]
        },
        {
            "cell_type": "code",
            "execution_count": 3,
            "metadata": {
                "colab": {
                    "base_uri": "https://localhost:8080/"
                },
                "execution": {
                    "iopub.execute_input": "2023-06-10T08:43:39.001657Z",
                    "iopub.status.busy": "2023-06-10T08:43:39.001341Z",
                    "iopub.status.idle": "2023-06-10T08:45:02.180326Z",
                    "shell.execute_reply": "2023-06-10T08:45:02.179173Z",
                    "shell.execute_reply.started": "2023-06-10T08:43:39.001628Z"
                },
                "id": "DnNrfToIdPNU",
                "outputId": "0e475b13-47e3-4cd9-e915-e873dae82007",
                "trusted": true
            },
            "outputs": [
                {
                    "name": "stdout",
                    "output_type": "stream",
                    "text": [
                        "Requirement already satisfied: datasets in /opt/conda/lib/python3.10/site-packages (2.1.0)\n",
                        "Requirement already satisfied: numpy>=1.17 in /opt/conda/lib/python3.10/site-packages (from datasets) (1.23.5)\n",
                        "Requirement already satisfied: pyarrow>=5.0.0 in /opt/conda/lib/python3.10/site-packages (from datasets) (10.0.1)\n",
                        "Requirement already satisfied: dill in /opt/conda/lib/python3.10/site-packages (from datasets) (0.3.6)\n",
                        "Requirement already satisfied: pandas in /opt/conda/lib/python3.10/site-packages (from datasets) (1.5.3)\n",
                        "Requirement already satisfied: requests>=2.19.0 in /opt/conda/lib/python3.10/site-packages (from datasets) (2.28.2)\n",
                        "Requirement already satisfied: tqdm>=4.62.1 in /opt/conda/lib/python3.10/site-packages (from datasets) (4.64.1)\n",
                        "Requirement already satisfied: xxhash in /opt/conda/lib/python3.10/site-packages (from datasets) (3.2.0)\n",
                        "Requirement already satisfied: multiprocess in /opt/conda/lib/python3.10/site-packages (from datasets) (0.70.14)\n",
                        "Requirement already satisfied: fsspec[http]>=2021.05.0 in /opt/conda/lib/python3.10/site-packages (from datasets) (2023.5.0)\n",
                        "Requirement already satisfied: aiohttp in /opt/conda/lib/python3.10/site-packages (from datasets) (3.8.4)\n",
                        "Requirement already satisfied: huggingface-hub<1.0.0,>=0.1.0 in /opt/conda/lib/python3.10/site-packages (from datasets) (0.14.1)\n",
                        "Requirement already satisfied: packaging in /opt/conda/lib/python3.10/site-packages (from datasets) (21.3)\n",
                        "Requirement already satisfied: responses<0.19 in /opt/conda/lib/python3.10/site-packages (from datasets) (0.18.0)\n",
                        "Requirement already satisfied: attrs>=17.3.0 in /opt/conda/lib/python3.10/site-packages (from aiohttp->datasets) (23.1.0)\n",
                        "Requirement already satisfied: charset-normalizer<4.0,>=2.0 in /opt/conda/lib/python3.10/site-packages (from aiohttp->datasets) (2.1.1)\n",
                        "Requirement already satisfied: multidict<7.0,>=4.5 in /opt/conda/lib/python3.10/site-packages (from aiohttp->datasets) (6.0.4)\n",
                        "Requirement already satisfied: async-timeout<5.0,>=4.0.0a3 in /opt/conda/lib/python3.10/site-packages (from aiohttp->datasets) (4.0.2)\n",
                        "Requirement already satisfied: yarl<2.0,>=1.0 in /opt/conda/lib/python3.10/site-packages (from aiohttp->datasets) (1.9.1)\n",
                        "Requirement already satisfied: frozenlist>=1.1.1 in /opt/conda/lib/python3.10/site-packages (from aiohttp->datasets) (1.3.3)\n",
                        "Requirement already satisfied: aiosignal>=1.1.2 in /opt/conda/lib/python3.10/site-packages (from aiohttp->datasets) (1.3.1)\n",
                        "Requirement already satisfied: filelock in /opt/conda/lib/python3.10/site-packages (from huggingface-hub<1.0.0,>=0.1.0->datasets) (3.12.0)\n",
                        "Requirement already satisfied: pyyaml>=5.1 in /opt/conda/lib/python3.10/site-packages (from huggingface-hub<1.0.0,>=0.1.0->datasets) (5.4.1)\n",
                        "Requirement already satisfied: typing-extensions>=3.7.4.3 in /opt/conda/lib/python3.10/site-packages (from huggingface-hub<1.0.0,>=0.1.0->datasets) (4.5.0)\n",
                        "Requirement already satisfied: pyparsing!=3.0.5,>=2.0.2 in /opt/conda/lib/python3.10/site-packages (from packaging->datasets) (3.0.9)\n",
                        "Requirement already satisfied: idna<4,>=2.5 in /opt/conda/lib/python3.10/site-packages (from requests>=2.19.0->datasets) (3.4)\n",
                        "Requirement already satisfied: urllib3<1.27,>=1.21.1 in /opt/conda/lib/python3.10/site-packages (from requests>=2.19.0->datasets) (1.26.15)\n",
                        "Requirement already satisfied: certifi>=2017.4.17 in /opt/conda/lib/python3.10/site-packages (from requests>=2.19.0->datasets) (2023.5.7)\n",
                        "Requirement already satisfied: python-dateutil>=2.8.1 in /opt/conda/lib/python3.10/site-packages (from pandas->datasets) (2.8.2)\n",
                        "Requirement already satisfied: pytz>=2020.1 in /opt/conda/lib/python3.10/site-packages (from pandas->datasets) (2023.3)\n",
                        "Requirement already satisfied: six>=1.5 in /opt/conda/lib/python3.10/site-packages (from python-dateutil>=2.8.1->pandas->datasets) (1.16.0)\n",
                        "\\u001b[33mWARNING: Running pip as the 'root' user can result in broken permissions and conflicting behaviour with the system package manager. It is recommended to use a virtual environment instead: https://pip.pypa.io/warnings/venv\\u001b[0m\\u001b[33m\n",
                        "\\u001b[0mRequirement already satisfied: apache-beam in /opt/conda/lib/python3.10/site-packages (2.46.0)\n",
                        "Requirement already satisfied: protobuf<4,>3.12.2 in /opt/conda/lib/python3.10/site-packages (from apache-beam) (3.20.3)\n",
                        "Requirement already satisfied: crcmod<2.0,>=1.7 in /opt/conda/lib/python3.10/site-packages (from apache-beam) (1.7)\n",
                        "Requirement already satisfied: orjson<4.0 in /opt/conda/lib/python3.10/site-packages (from apache-beam) (3.8.12)\n",
                        "Collecting dill<0.3.2,>=0.3.1.1 (from apache-beam)\n",
                        "  Downloading dill-0.3.1.1.tar.gz (151 kB)\n",
                        "\\u001b[2K     \\u001b[90m━━━━━━━━━━━━━━━━━━━━━━━━━━━━━━━━━━━━━━━\\u001b[0m \\u001b[32m152.0/152.0 kB\\u001b[0m \\u001b[31m5.4 MB/s\\u001b[0m eta \\u001b[36m0:00:00\\u001b[0m\n",
                        "\\u001b[?25h  Preparing metadata (setup.py) ... \\u001b[?25ldone\n",
                        "\\u001b[?25hRequirement already satisfied: cloudpickle~=2.2.1 in /opt/conda/lib/python3.10/site-packages (from apache-beam) (2.2.1)\n",
                        "Requirement already satisfied: fastavro<2,>=0.23.6 in /opt/conda/lib/python3.10/site-packages (from apache-beam) (1.7.4)\n",
                        "Requirement already satisfied: fasteners<1.0,>=0.3 in /opt/conda/lib/python3.10/site-packages (from apache-beam) (0.18)\n",
                        "Requirement already satisfied: grpcio!=1.48.0,<2,>=1.33.1 in /opt/conda/lib/python3.10/site-packages (from apache-beam) (1.51.1)\n",
                        "Requirement already satisfied: hdfs<3.0.0,>=2.1.0 in /opt/conda/lib/python3.10/site-packages (from apache-beam) (2.7.0)\n",
                        "Requirement already satisfied: httplib2<0.22.0,>=0.8 in /opt/conda/lib/python3.10/site-packages (from apache-beam) (0.21.0)\n",
                        "Requirement already satisfied: numpy<1.25.0,>=1.14.3 in /opt/conda/lib/python3.10/site-packages (from apache-beam) (1.23.5)\n",
                        "Requirement already satisfied: objsize<0.7.0,>=0.6.1 in /opt/conda/lib/python3.10/site-packages (from apache-beam) (0.6.1)\n",
                        "Requirement already satisfied: pymongo<4.0.0,>=3.8.0 in /opt/conda/lib/python3.10/site-packages (from apache-beam) (3.13.0)\n",
                        "Requirement already satisfied: proto-plus<2,>=1.7.1 in /opt/conda/lib/python3.10/site-packages (from apache-beam) (1.22.2)\n",
                        "Requirement already satisfied: pydot<2,>=1.2.0 in /opt/conda/lib/python3.10/site-packages (from apache-beam) (1.4.2)\n",
                        "Requirement already satisfied: python-dateutil<3,>=2.8.0 in /opt/conda/lib/python3.10/site-packages (from apache-beam) (2.8.2)\n",
                        "Requirement already satisfied: pytz>=2018.3 in /opt/conda/lib/python3.10/site-packages (from apache-beam) (2023.3)\n",
                        "Requirement already satisfied: regex>=2020.6.8 in /opt/conda/lib/python3.10/site-packages (from apache-beam) (2023.5.5)\n",
                        "Requirement already satisfied: requests<3.0.0,>=2.24.0 in /opt/conda/lib/python3.10/site-packages (from apache-beam) (2.28.2)\n",
                        "Requirement already satisfied: typing-extensions>=3.7.0 in /opt/conda/lib/python3.10/site-packages (from apache-beam) (4.5.0)\n",
                        "Requirement already satisfied: zstandard<1,>=0.18.0 in /opt/conda/lib/python3.10/site-packages (from apache-beam) (0.19.0)\n",
                        "Collecting pyarrow<10.0.0,>=3.0.0 (from apache-beam)\n",
                        "  Downloading pyarrow-9.0.0-cp310-cp310-manylinux_2_17_x86_64.manylinux2014_x86_64.whl (35.3 MB)\n",
                        "\\u001b[2K     \\u001b[90m━━━━━━━━━━━━━━━━━━━━━━━━━━━━━━━━━━━━━━━━\\u001b[0m \\u001b[32m35.3/35.3 MB\\u001b[0m \\u001b[31m38.2 MB/s\\u001b[0m eta \\u001b[36m0:00:00\\u001b[0m00:01\\u001b[0m00:01\\u001b[0m\n",
                        "\\u001b[?25hRequirement already satisfied: docopt in /opt/conda/lib/python3.10/site-packages (from hdfs<3.0.0,>=2.1.0->apache-beam) (0.6.2)\n",
                        "Requirement already satisfied: six>=1.9.0 in /opt/conda/lib/python3.10/site-packages (from hdfs<3.0.0,>=2.1.0->apache-beam) (1.16.0)\n",
                        "Requirement already satisfied: pyparsing!=3.0.0,!=3.0.1,!=3.0.2,!=3.0.3,<4,>=2.4.2 in /opt/conda/lib/python3.10/site-packages (from httplib2<0.22.0,>=0.8->apache-beam) (3.0.9)\n",
                        "Requirement already satisfied: charset-normalizer<4,>=2 in /opt/conda/lib/python3.10/site-packages (from requests<3.0.0,>=2.24.0->apache-beam) (2.1.1)\n",
                        "Requirement already satisfied: idna<4,>=2.5 in /opt/conda/lib/python3.10/site-packages (from requests<3.0.0,>=2.24.0->apache-beam) (3.4)\n",
                        "Requirement already satisfied: urllib3<1.27,>=1.21.1 in /opt/conda/lib/python3.10/site-packages (from requests<3.0.0,>=2.24.0->apache-beam) (1.26.15)\n",
                        "Requirement already satisfied: certifi>=2017.4.17 in /opt/conda/lib/python3.10/site-packages (from requests<3.0.0,>=2.24.0->apache-beam) (2023.5.7)\n",
                        "Building wheels for collected packages: dill\n",
                        "  Building wheel for dill (setup.py) ... \\u001b[?25ldone\n",
                        "\\u001b[?25h  Created wheel for dill: filename=dill-0.3.1.1-py3-none-any.whl size=78545 sha256=e84a153355a0458374d81f71d3b77205d49c92b48f4e756bcdc49aeb593815da\n",
                        "  Stored in directory: /root/.cache/pip/wheels/ea/e2/86/64980d90e297e7bf2ce588c2b96e818f5399c515c4bb8a7e4f\n",
                        "Successfully built dill\n",
                        "Installing collected packages: pyarrow, dill\n",
                        "  Attempting uninstall: pyarrow\n",
                        "    Found existing installation: pyarrow 10.0.1\n",
                        "    Uninstalling pyarrow-10.0.1:\n",
                        "      Successfully uninstalled pyarrow-10.0.1\n",
                        "  Attempting uninstall: dill\n",
                        "    Found existing installation: dill 0.3.6\n",
                        "    Uninstalling dill-0.3.6:\n",
                        "      Successfully uninstalled dill-0.3.6\n",
                        "\\u001b[31mERROR: pip's dependency resolver does not currently take into account all the packages that are installed. This behaviour is the source of the following dependency conflicts.\n",
                        "cudf 23.4.1 requires cupy-cuda11x<12.0.0a0,>=9.5.0, which is not installed.\n",
                        "cuml 23.4.1 requires cupy-cuda11x<12.0.0a0,>=9.5.0, which is not installed.\n",
                        "dask-cudf 23.4.1 requires cupy-cuda11x<12.0.0a0,>=9.5.0, which is not installed.\n",
                        "beatrix-jupyterlab 2023.58.190319 requires jupyter-server~=1.16, but you have jupyter-server 2.5.0 which is incompatible.\n",
                        "cudf 23.4.1 requires protobuf<4.22,>=4.21.6, but you have protobuf 3.20.3 which is incompatible.\n",
                        "cudf 23.4.1 requires pyarrow==10.*, but you have pyarrow 9.0.0 which is incompatible.\n",
                        "cuml 23.4.1 requires dask==2023.3.2, but you have dask 2023.5.0 which is incompatible.\n",
                        "dask-cudf 23.4.1 requires dask==2023.3.2, but you have dask 2023.5.0 which is incompatible.\n",
                        "multiprocess 0.70.14 requires dill>=0.3.6, but you have dill 0.3.1.1 which is incompatible.\n",
                        "pathos 0.3.0 requires dill>=0.3.6, but you have dill 0.3.1.1 which is incompatible.\n",
                        "pymc3 3.11.5 requires numpy<1.22.2,>=1.15.0, but you have numpy 1.23.5 which is incompatible.\n",
                        "pymc3 3.11.5 requires scipy<1.8.0,>=1.7.3, but you have scipy 1.10.1 which is incompatible.\\u001b[0m\\u001b[31m\n",
                        "\\u001b[0mSuccessfully installed dill-0.3.1.1 pyarrow-9.0.0\n",
                        "\\u001b[33mWARNING: Running pip as the 'root' user can result in broken permissions and conflicting behaviour with the system package manager. It is recommended to use a virtual environment instead: https://pip.pypa.io/warnings/venv\\u001b[0m\\u001b[33m\n",
                        "\\u001b[0mCollecting gdown\n",
                        "  Downloading gdown-4.7.1-py3-none-any.whl (15 kB)\n",
                        "Requirement already satisfied: filelock in /opt/conda/lib/python3.10/site-packages (from gdown) (3.12.0)\n",
                        "Requirement already satisfied: requests[socks] in /opt/conda/lib/python3.10/site-packages (from gdown) (2.28.2)\n",
                        "Requirement already satisfied: six in /opt/conda/lib/python3.10/site-packages (from gdown) (1.16.0)\n",
                        "Requirement already satisfied: tqdm in /opt/conda/lib/python3.10/site-packages (from gdown) (4.64.1)\n",
                        "Requirement already satisfied: beautifulsoup4 in /opt/conda/lib/python3.10/site-packages (from gdown) (4.12.2)\n",
                        "Requirement already satisfied: soupsieve>1.2 in /opt/conda/lib/python3.10/site-packages (from beautifulsoup4->gdown) (2.3.2.post1)\n",
                        "Requirement already satisfied: charset-normalizer<4,>=2 in /opt/conda/lib/python3.10/site-packages (from requests[socks]->gdown) (2.1.1)\n",
                        "Requirement already satisfied: idna<4,>=2.5 in /opt/conda/lib/python3.10/site-packages (from requests[socks]->gdown) (3.4)\n",
                        "Requirement already satisfied: urllib3<1.27,>=1.21.1 in /opt/conda/lib/python3.10/site-packages (from requests[socks]->gdown) (1.26.15)\n",
                        "Requirement already satisfied: certifi>=2017.4.17 in /opt/conda/lib/python3.10/site-packages (from requests[socks]->gdown) (2023.5.7)\n",
                        "Requirement already satisfied: PySocks!=1.5.7,>=1.5.6 in /opt/conda/lib/python3.10/site-packages (from requests[socks]->gdown) (1.7.1)\n",
                        "Installing collected packages: gdown\n",
                        "Successfully installed gdown-4.7.1\n",
                        "\\u001b[33mWARNING: Running pip as the 'root' user can result in broken permissions and conflicting behaviour with the system package manager. It is recommended to use a virtual environment instead: https://pip.pypa.io/warnings/venv\\u001b[0m\\u001b[33m\n",
                        "\\u001b[0mCollecting plot_keras_history\n",
                        "  Downloading plot_keras_history-1.1.38.tar.gz (11 kB)\n",
                        "  Preparing metadata (setup.py) ... \\u001b[?25ldone\n",
                        "\\u001b[?25hRequirement already satisfied: matplotlib in /opt/conda/lib/python3.10/site-packages (from plot_keras_history) (3.6.3)\n",
                        "Requirement already satisfied: pandas in /opt/conda/lib/python3.10/site-packages (from plot_keras_history) (1.5.3)\n",
                        "Requirement already satisfied: scipy in /opt/conda/lib/python3.10/site-packages (from plot_keras_history) (1.10.1)\n",
                        "Collecting support_developer>=1.0.2 (from plot_keras_history)\n",
                        "  Downloading support_developer-1.0.5.tar.gz (4.9 kB)\n",
                        "  Preparing metadata (setup.py) ... \\u001b[?25ldone\n",
                        "\\u001b[?25hCollecting sanitize_ml_labels>=1.0.48 (from plot_keras_history)\n",
                        "  Downloading sanitize_ml_labels-1.0.50.tar.gz (322 kB)\n",
                        "\\u001b[2K     \\u001b[90m━━━━━━━━━━━━━━━━━━━━━━━━━━━━━━━━━━━━━━━\\u001b[0m \\u001b[32m322.1/322.1 kB\\u001b[0m \\u001b[31m9.5 MB/s\\u001b[0m eta \\u001b[36m0:00:00\\u001b[0m\n",
                        "\\u001b[?25h  Preparing metadata (setup.py) ... \\u001b[?25ldone\n",
                        "\\u001b[?25hCollecting compress_json (from sanitize_ml_labels>=1.0.48->plot_keras_history)\n",
                        "  Downloading compress_json-1.0.8.tar.gz (4.7 kB)\n",
                        "  Preparing metadata (setup.py) ... \\u001b[?25ldone\n",
                        "\\u001b[?25hRequirement already satisfied: contourpy>=1.0.1 in /opt/conda/lib/python3.10/site-packages (from matplotlib->plot_keras_history) (1.0.7)\n",
                        "Requirement already satisfied: cycler>=0.10 in /opt/conda/lib/python3.10/site-packages (from matplotlib->plot_keras_history) (0.11.0)\n",
                        "Requirement already satisfied: fonttools>=4.22.0 in /opt/conda/lib/python3.10/site-packages (from matplotlib->plot_keras_history) (4.39.3)\n",
                        "Requirement already satisfied: kiwisolver>=1.0.1 in /opt/conda/lib/python3.10/site-packages (from matplotlib->plot_keras_history) (1.4.4)\n",
                        "Requirement already satisfied: numpy>=1.19 in /opt/conda/lib/python3.10/site-packages (from matplotlib->plot_keras_history) (1.23.5)\n",
                        "Requirement already satisfied: packaging>=20.0 in /opt/conda/lib/python3.10/site-packages (from matplotlib->plot_keras_history) (21.3)\n",
                        "Requirement already satisfied: pillow>=6.2.0 in /opt/conda/lib/python3.10/site-packages (from matplotlib->plot_keras_history) (9.5.0)\n",
                        "Requirement already satisfied: pyparsing>=2.2.1 in /opt/conda/lib/python3.10/site-packages (from matplotlib->plot_keras_history) (3.0.9)\n",
                        "Requirement already satisfied: python-dateutil>=2.7 in /opt/conda/lib/python3.10/site-packages (from matplotlib->plot_keras_history) (2.8.2)\n",
                        "Requirement already satisfied: pytz>=2020.1 in /opt/conda/lib/python3.10/site-packages (from pandas->plot_keras_history) (2023.3)\n",
                        "Requirement already satisfied: six>=1.5 in /opt/conda/lib/python3.10/site-packages (from python-dateutil>=2.7->matplotlib->plot_keras_history) (1.16.0)\n",
                        "Building wheels for collected packages: plot_keras_history, sanitize_ml_labels, support_developer, compress_json\n",
                        "  Building wheel for plot_keras_history (setup.py) ... \\u001b[?25ldone\n",
                        "\\u001b[?25h  Created wheel for plot_keras_history: filename=plot_keras_history-1.1.38-py3-none-any.whl size=9472 sha256=519f1500e7e9def8168ab3512eccd8c4592dc93f5b4e273581b226e510d28cf6\n",
                        "  Stored in directory: /root/.cache/pip/wheels/2f/31/6c/bbc9703b7baa8bd3802a8aedd9e2f9e66941b0cf0d456ab4cc\n",
                        "  Building wheel for sanitize_ml_labels (setup.py) ... \\u001b[?25ldone\n",
                        "\\u001b[?25h  Created wheel for sanitize_ml_labels: filename=sanitize_ml_labels-1.0.50-py3-none-any.whl size=320514 sha256=1c990c7da1e7a0dd2503cbd2c1f848827a7f1982233552d71501b1593eacc3a7\n",
                        "  Stored in directory: /root/.cache/pip/wheels/b7/f3/5d/748143833c99806921d4e1182c248876b83464746ef1e46f1d\n",
                        "  Building wheel for support_developer (setup.py) ... \\u001b[?25ldone\n",
                        "\\u001b[?25h  Created wheel for support_developer: filename=support_developer-1.0.5-py3-none-any.whl size=5650 sha256=1b5e605996b7c74a0f08b8263347888dee55603117f2ff1de9f3a01f9f8bd0df\n",
                        "  Stored in directory: /root/.cache/pip/wheels/b6/72/c8/3054a5897ba0713dfa7a941364d68cbd42b0755c8e2ec1c18c\n",
                        "  Building wheel for compress_json (setup.py) ... \\u001b[?25ldone\n",
                        "\\u001b[?25h  Created wheel for compress_json: filename=compress_json-1.0.8-py3-none-any.whl size=4730 sha256=6809f5cc63f272ea44203f4e8ba5da7ee1fddf9a09bbc0184a36728c6e4c4933\n",
                        "  Stored in directory: /root/.cache/pip/wheels/23/bf/70/8157c907edaa10b93c902b5e56f04e40ef00e0f0c62b277bf7\n",
                        "Successfully built plot_keras_history sanitize_ml_labels support_developer compress_json\n",
                        "Installing collected packages: support_developer, compress_json, sanitize_ml_labels, plot_keras_history\n",
                        "Successfully installed compress_json-1.0.8 plot_keras_history-1.1.38 sanitize_ml_labels-1.0.50 support_developer-1.0.5\n",
                        "\\u001b[33mWARNING: Running pip as the 'root' user can result in broken permissions and conflicting behaviour with the system package manager. It is recommended to use a virtual environment instead: https://pip.pypa.io/warnings/venv\\u001b[0m\\u001b[33m\n",
                        "\\u001b[0mCollecting keras-nlp\n",
                        "  Downloading keras_nlp-0.5.2-py3-none-any.whl (527 kB)\n",
                        "\\u001b[2K     \\u001b[90m━━━━━━━━━━━━━━━━━━━━━━━━━━━━━━━━━━━━━━\\u001b[0m \\u001b[32m527.7/527.7 kB\\u001b[0m \\u001b[31m12.9 MB/s\\u001b[0m eta \\u001b[36m0:00:00\\u001b[0m00:01\\u001b[0m\n",
                        "\\u001b[?25hRequirement already satisfied: absl-py in /opt/conda/lib/python3.10/site-packages (from keras-nlp) (1.4.0)\n",
                        "Requirement already satisfied: numpy in /opt/conda/lib/python3.10/site-packages (from keras-nlp) (1.23.5)\n",
                        "Requirement already satisfied: packaging in /opt/conda/lib/python3.10/site-packages (from keras-nlp) (21.3)\n",
                        "Requirement already satisfied: tensorflow-text in /opt/conda/lib/python3.10/site-packages (from keras-nlp) (2.12.1)\n",
                        "Requirement already satisfied: pyparsing!=3.0.5,>=2.0.2 in /opt/conda/lib/python3.10/site-packages (from packaging->keras-nlp) (3.0.9)\n",
                        "Requirement already satisfied: tensorflow-hub>=0.8.0 in /opt/conda/lib/python3.10/site-packages (from tensorflow-text->keras-nlp) (0.12.0)\n",
                        "Requirement already satisfied: tensorflow<2.13,>=2.12.0 in /opt/conda/lib/python3.10/site-packages (from tensorflow-text->keras-nlp) (2.12.0)\n",
                        "Requirement already satisfied: astunparse>=1.6.0 in /opt/conda/lib/python3.10/site-packages (from tensorflow<2.13,>=2.12.0->tensorflow-text->keras-nlp) (1.6.3)\n",
                        "Requirement already satisfied: flatbuffers>=2.0 in /opt/conda/lib/python3.10/site-packages (from tensorflow<2.13,>=2.12.0->tensorflow-text->keras-nlp) (23.3.3)\n",
                        "Requirement already satisfied: gast<=0.4.0,>=0.2.1 in /opt/conda/lib/python3.10/site-packages (from tensorflow<2.13,>=2.12.0->tensorflow-text->keras-nlp) (0.4.0)\n",
                        "Requirement already satisfied: google-pasta>=0.1.1 in /opt/conda/lib/python3.10/site-packages (from tensorflow<2.13,>=2.12.0->tensorflow-text->keras-nlp) (0.2.0)\n",
                        "Requirement already satisfied: grpcio<2.0,>=1.24.3 in /opt/conda/lib/python3.10/site-packages (from tensorflow<2.13,>=2.12.0->tensorflow-text->keras-nlp) (1.51.1)\n",
                        "Requirement already satisfied: h5py>=2.9.0 in /opt/conda/lib/python3.10/site-packages (from tensorflow<2.13,>=2.12.0->tensorflow-text->keras-nlp) (3.8.0)\n",
                        "Requirement already satisfied: jax>=0.3.15 in /opt/conda/lib/python3.10/site-packages (from tensorflow<2.13,>=2.12.0->tensorflow-text->keras-nlp) (0.4.10)\n",
                        "Requirement already satisfied: keras<2.13,>=2.12.0 in /opt/conda/lib/python3.10/site-packages (from tensorflow<2.13,>=2.12.0->tensorflow-text->keras-nlp) (2.12.0)\n",
                        "Requirement already satisfied: libclang>=13.0.0 in /opt/conda/lib/python3.10/site-packages (from tensorflow<2.13,>=2.12.0->tensorflow-text->keras-nlp) (16.0.0)\n",
                        "Requirement already satisfied: opt-einsum>=2.3.2 in /opt/conda/lib/python3.10/site-packages (from tensorflow<2.13,>=2.12.0->tensorflow-text->keras-nlp) (3.3.0)\n",
                        "Requirement already satisfied: protobuf!=4.21.0,!=4.21.1,!=4.21.2,!=4.21.3,!=4.21.4,!=4.21.5,<5.0.0dev,>=3.20.3 in /opt/conda/lib/python3.10/site-packages (from tensorflow<2.13,>=2.12.0->tensorflow-text->keras-nlp) (3.20.3)\n",
                        "Requirement already satisfied: setuptools in /opt/conda/lib/python3.10/site-packages (from tensorflow<2.13,>=2.12.0->tensorflow-text->keras-nlp) (59.8.0)\n",
                        "Requirement already satisfied: six>=1.12.0 in /opt/conda/lib/python3.10/site-packages (from tensorflow<2.13,>=2.12.0->tensorflow-text->keras-nlp) (1.16.0)\n",
                        "Requirement already satisfied: tensorboard<2.13,>=2.12 in /opt/conda/lib/python3.10/site-packages (from tensorflow<2.13,>=2.12.0->tensorflow-text->keras-nlp) (2.12.3)\n",
                        "Requirement already satisfied: tensorflow-estimator<2.13,>=2.12.0 in /opt/conda/lib/python3.10/site-packages (from tensorflow<2.13,>=2.12.0->tensorflow-text->keras-nlp) (2.12.0)\n",
                        "Requirement already satisfied: termcolor>=1.1.0 in /opt/conda/lib/python3.10/site-packages (from tensorflow<2.13,>=2.12.0->tensorflow-text->keras-nlp) (2.3.0)\n",
                        "Requirement already satisfied: typing-extensions>=3.6.6 in /opt/conda/lib/python3.10/site-packages (from tensorflow<2.13,>=2.12.0->tensorflow-text->keras-nlp) (4.5.0)\n",
                        "Requirement already satisfied: wrapt<1.15,>=1.11.0 in /opt/conda/lib/python3.10/site-packages (from tensorflow<2.13,>=2.12.0->tensorflow-text->keras-nlp) (1.14.1)\n",
                        "Requirement already satisfied: tensorflow-io-gcs-filesystem>=0.23.1 in /opt/conda/lib/python3.10/site-packages (from tensorflow<2.13,>=2.12.0->tensorflow-text->keras-nlp) (0.31.0)\n",
                        "Requirement already satisfied: wheel<1.0,>=0.23.0 in /opt/conda/lib/python3.10/site-packages (from astunparse>=1.6.0->tensorflow<2.13,>=2.12.0->tensorflow-text->keras-nlp) (0.40.0)\n",
                        "Requirement already satisfied: ml-dtypes>=0.1.0 in /opt/conda/lib/python3.10/site-packages (from jax>=0.3.15->tensorflow<2.13,>=2.12.0->tensorflow-text->keras-nlp) (0.1.0)\n",
                        "Requirement already satisfied: scipy>=1.7 in /opt/conda/lib/python3.10/site-packages (from jax>=0.3.15->tensorflow<2.13,>=2.12.0->tensorflow-text->keras-nlp) (1.10.1)\n",
                        "Requirement already satisfied: google-auth<3,>=1.6.3 in /opt/conda/lib/python3.10/site-packages (from tensorboard<2.13,>=2.12->tensorflow<2.13,>=2.12.0->tensorflow-text->keras-nlp) (2.17.3)\n",
                        "Requirement already satisfied: google-auth-oauthlib<1.1,>=0.5 in /opt/conda/lib/python3.10/site-packages (from tensorboard<2.13,>=2.12->tensorflow<2.13,>=2.12.0->tensorflow-text->keras-nlp) (1.0.0)\n",
                        "Requirement already satisfied: markdown>=2.6.8 in /opt/conda/lib/python3.10/site-packages (from tensorboard<2.13,>=2.12->tensorflow<2.13,>=2.12.0->tensorflow-text->keras-nlp) (3.4.3)\n",
                        "Requirement already satisfied: requests<3,>=2.21.0 in /opt/conda/lib/python3.10/site-packages (from tensorboard<2.13,>=2.12->tensorflow<2.13,>=2.12.0->tensorflow-text->keras-nlp) (2.28.2)\n",
                        "Requirement already satisfied: tensorboard-data-server<0.8.0,>=0.7.0 in /opt/conda/lib/python3.10/site-packages (from tensorboard<2.13,>=2.12->tensorflow<2.13,>=2.12.0->tensorflow-text->keras-nlp) (0.7.0)\n",
                        "Requirement already satisfied: werkzeug>=1.0.1 in /opt/conda/lib/python3.10/site-packages (from tensorboard<2.13,>=2.12->tensorflow<2.13,>=2.12.0->tensorflow-text->keras-nlp) (2.3.4)\n",
                        "Requirement already satisfied: cachetools<6.0,>=2.0.0 in /opt/conda/lib/python3.10/site-packages (from google-auth<3,>=1.6.3->tensorboard<2.13,>=2.12->tensorflow<2.13,>=2.12.0->tensorflow-text->keras-nlp) (4.2.4)\n",
                        "Requirement already satisfied: pyasn1-modules>=0.2.1 in /opt/conda/lib/python3.10/site-packages (from google-auth<3,>=1.6.3->tensorboard<2.13,>=2.12->tensorflow<2.13,>=2.12.0->tensorflow-text->keras-nlp) (0.2.7)\n",
                        "Requirement already satisfied: rsa<5,>=3.1.4 in /opt/conda/lib/python3.10/site-packages (from google-auth<3,>=1.6.3->tensorboard<2.13,>=2.12->tensorflow<2.13,>=2.12.0->tensorflow-text->keras-nlp) (4.9)\n",
                        "Requirement already satisfied: requests-oauthlib>=0.7.0 in /opt/conda/lib/python3.10/site-packages (from google-auth-oauthlib<1.1,>=0.5->tensorboard<2.13,>=2.12->tensorflow<2.13,>=2.12.0->tensorflow-text->keras-nlp) (1.3.1)\n",
                        "Requirement already satisfied: charset-normalizer<4,>=2 in /opt/conda/lib/python3.10/site-packages (from requests<3,>=2.21.0->tensorboard<2.13,>=2.12->tensorflow<2.13,>=2.12.0->tensorflow-text->keras-nlp) (2.1.1)\n",
                        "Requirement already satisfied: idna<4,>=2.5 in /opt/conda/lib/python3.10/site-packages (from requests<3,>=2.21.0->tensorboard<2.13,>=2.12->tensorflow<2.13,>=2.12.0->tensorflow-text->keras-nlp) (3.4)\n",
                        "Requirement already satisfied: urllib3<1.27,>=1.21.1 in /opt/conda/lib/python3.10/site-packages (from requests<3,>=2.21.0->tensorboard<2.13,>=2.12->tensorflow<2.13,>=2.12.0->tensorflow-text->keras-nlp) (1.26.15)\n",
                        "Requirement already satisfied: certifi>=2017.4.17 in /opt/conda/lib/python3.10/site-packages (from requests<3,>=2.21.0->tensorboard<2.13,>=2.12->tensorflow<2.13,>=2.12.0->tensorflow-text->keras-nlp) (2023.5.7)\n",
                        "Requirement already satisfied: MarkupSafe>=2.1.1 in /opt/conda/lib/python3.10/site-packages (from werkzeug>=1.0.1->tensorboard<2.13,>=2.12->tensorflow<2.13,>=2.12.0->tensorflow-text->keras-nlp) (2.1.2)\n",
                        "Requirement already satisfied: pyasn1<0.5.0,>=0.4.6 in /opt/conda/lib/python3.10/site-packages (from pyasn1-modules>=0.2.1->google-auth<3,>=1.6.3->tensorboard<2.13,>=2.12->tensorflow<2.13,>=2.12.0->tensorflow-text->keras-nlp) (0.4.8)\n",
                        "Requirement already satisfied: oauthlib>=3.0.0 in /opt/conda/lib/python3.10/site-packages (from requests-oauthlib>=0.7.0->google-auth-oauthlib<1.1,>=0.5->tensorboard<2.13,>=2.12->tensorflow<2.13,>=2.12.0->tensorflow-text->keras-nlp) (3.2.2)\n",
                        "Installing collected packages: keras-nlp\n",
                        "Successfully installed keras-nlp-0.5.2\n",
                        "\\u001b[33mWARNING: Running pip as the 'root' user can result in broken permissions and conflicting behaviour with the system package manager. It is recommended to use a virtual environment instead: https://pip.pypa.io/warnings/venv\\u001b[0m\\u001b[33m\n",
                        "\\u001b[0m"
                    ]
                }
            ],
            "source": [
                "!pip install datasets\n",
                "!pip install apache-beam\n",
                "!pip install gdown\n",
                "!pip install plot_keras_history\n",
                "!pip install keras-nlp"
            ]
        },
        {
            "cell_type": "code",
            "execution_count": 13,
            "metadata": {
                "execution": {
                    "iopub.execute_input": "2023-06-10T08:47:52.649639Z",
                    "iopub.status.busy": "2023-06-10T08:47:52.648917Z",
                    "iopub.status.idle": "2023-06-10T08:47:52.655160Z",
                    "shell.execute_reply": "2023-06-10T08:47:52.654013Z",
                    "shell.execute_reply.started": "2023-06-10T08:47:52.649605Z"
                },
                "id": "jRVmQCKdRb54",
                "trusted": true
            },
            "outputs": [],
            "source": [
                "from keras.preprocessing.text import Tokenizer\n",
                "from keras.utils import to_categorical, pad_sequences\n",
                "from time import time\n",
                "from math import floor\n",
                "from random import Random\n",
                "from datasets import load_dataset\n",
                "\n",
                "import numpy as np \n",
                "import pickle\n",
                "import gdown\n",
                "import random\n",
                "import tensorflow as tf"
            ]
        },
        {
            "cell_type": "code",
            "execution_count": 14,
            "metadata": {
                "execution": {
                    "iopub.execute_input": "2023-06-10T08:47:55.798388Z",
                    "iopub.status.busy": "2023-06-10T08:47:55.797990Z",
                    "iopub.status.idle": "2023-06-10T08:47:55.803257Z",
                    "shell.execute_reply": "2023-06-10T08:47:55.801875Z",
                    "shell.execute_reply.started": "2023-06-10T08:47:55.798354Z"
                },
                "id": "INZIMG8itLHh",
                "trusted": true
            },
            "outputs": [],
            "source": [
                "# Instantiate the Random instance with random seed = 42 to ensure reproducibility\n",
                "randomizer = Random(42)"
            ]
        },
        {
            "cell_type": "code",
            "execution_count": 15,
            "metadata": {
                "colab": {
                    "base_uri": "https://localhost:8080/",
                    "height": 263,
                    "referenced_widgets": [
                        "772066da53214f92a428aff111114ad6",
                        "fbe8d0e5be884c1b8260aa6fdc1affff",
                        "46b80da0724f4de08a852c5c80f89e89",
                        "9ef97fa579514de580f15b28172eb4b9",
                        "5626a318b09742c7ba5dbf0bcbbb429f",
                        "082f9625611146f18e7d8912a9e8ca43",
                        "3a20873302a34d4c9dc3ea8546f0db40",
                        "b2a0d66bfeee4756917866f7d5532d1d",
                        "64ea27974e524850b4a3be59afc47405",
                        "3c9f5123820e43f0ade4433e05f9f3ff",
                        "8496fdd7205e46dfa49aeda6ce8dec71",
                        "cb0b7920e4014cf48748ed70e3863d31",
                        "8ac281a10959401e80407877621a271c",
                        "17c12f9fe17d4ea893c59db04aa2ee49",
                        "4dbe38c6d32542b0bf1a0d637e783576",
                        "926f1c84bb90488e8c630c4ef6867559",
                        "2a0b9a19fa034a149be6cf016a7cbcdc",
                        "114a08e8c83046b097c5809afbadc6df",
                        "210932a190974591a6acd1a5cce865e3",
                        "b38e5f26ccbf4b9e9453f573e90f62b9",
                        "f6ed950827794754b3e6d746e73a34b3",
                        "555501d571054ced92a0d94f0b392798",
                        "8bff056f3c224fe39c25fc70a73281c2",
                        "c6953708fa9349f799916b4b317bf126",
                        "8ce4c886009d4a97b30925f07c1d94cb",
                        "f9975602fe2f46aab5510f362e46a08e",
                        "e48e0887bffb47199e70425a8b1ff67c",
                        "af26cd328b3741d5a2cb1795eae48f92",
                        "7d94b0167fca42148ff1600a9a960530",
                        "40a372cc2a174448aec933e0fa0c636a",
                        "c2308012c0944a9c9d8ebc6df8607c35",
                        "d5dc33a313e64e00957cd9f79aaaf813",
                        "373046c703dd4cf796ac7cc4f0bf7bf2",
                        "42be62a9c9a84099a0d3639946a56871",
                        "59c74c99698a4f01b5e9c26f3455eb37",
                        "dc8d33157d2942099229b7f247c50a49",
                        "28df5e8bc0ef488d89d38b18dd5b46aa",
                        "41277d226b2045b49737f89559baaa4f",
                        "5cfdf643d95b48deb30b269632530303",
                        "13275462dd67456d83fc33af7994d777",
                        "fd32dae5092a41a487c72c1b2c1af76f",
                        "71e07acdc6814c1e9e3ed44c8cb8a859",
                        "781816cc4b7c426f939063152d59d725",
                        "0216ff4082d5483e95f7c9c780527c98",
                        "383fc5349eca4e9caf61eea4046e3e2e",
                        "bd2b72ef0b904d819043a38ba10bf75a",
                        "d8d8576bee254023b6b33002b1f547ad",
                        "126e1fbe9fc54ec0b01a688a72391f34",
                        "49b4dfc045e84f86bda2a9c7ce97e45c",
                        "dd3fea6bee504e4fb71453513c997f1a",
                        "a4b34b62ebe1486cacab3485767ca14e",
                        "edc8cfe31657440d8ffae91b32ba4003",
                        "add990e6e6764322aca66ab705a91699",
                        "1e3eec34fdb9453ea17fe35600f27ad3",
                        "00044770e6bb497a8cd8cd696605e364",
                        "dac150f312e54f24b8b644ae21319883",
                        "4d01b4fda08e498a9ec6ce51cb0e0aa4",
                        "79b44e70d07041ca9f2a964d90d5024b",
                        "a4aa815730e84156801e5ce8a795b34f",
                        "e59a77ccd4c946abb2f7d84ca33711be",
                        "a77554a9da9347f1aeaf9b4ce940934a",
                        "833cd8ec4b9c46fe9e2aeb5ad40a8110",
                        "d9307b97fab34f7fab48d00765382795",
                        "e58355adf43a48d8b736c99e49666f18",
                        "5d7bd768999d4b93872231cbaf7873b4",
                        "6fb7a99b0fa54bb39ead1baec8032a62"
                    ]
                },
                "execution": {
                    "iopub.execute_input": "2023-06-10T08:47:55.942501Z",
                    "iopub.status.busy": "2023-06-10T08:47:55.942118Z",
                    "iopub.status.idle": "2023-06-10T08:47:56.593054Z",
                    "shell.execute_reply": "2023-06-10T08:47:56.592078Z",
                    "shell.execute_reply.started": "2023-06-10T08:47:55.942469Z"
                },
                "id": "AoeyVDv9uDwx",
                "outputId": "084568fb-f59c-4b03-f609-56065e9f34dd",
                "trusted": true
            },
            "outputs": [
                {
                    "data": {
                        "application/vnd.jupyter.widget-view+json": {
                            "model_id": "a9f2d5a1f2db4377a5f469688d7394fb",
                            "version_major": 2,
                            "version_minor": 0
                        },
                        "text/plain": [
                            "  0%|          | 0/1 [00:00<?, ?it/s]"
                        ]
                    },
                    "metadata": {},
                    "output_type": "display_data"
                }
            ],
            "source": [
                "dataset = load_dataset(\"wikipedia\", \"20220301.simple\")\n",
                "\n",
                "data = dataset['train'][:20000]['text']"
            ]
        },
        {
            "cell_type": "code",
            "execution_count": 16,
            "metadata": {
                "colab": {
                    "base_uri": "https://localhost:8080/"
                },
                "execution": {
                    "iopub.execute_input": "2023-06-10T08:47:57.755299Z",
                    "iopub.status.busy": "2023-06-10T08:47:57.754921Z",
                    "iopub.status.idle": "2023-06-10T08:48:24.027719Z",
                    "shell.execute_reply": "2023-06-10T08:48:24.026555Z",
                    "shell.execute_reply.started": "2023-06-10T08:47:57.755269Z"
                },
                "id": "OzcYlWm8trh9",
                "outputId": "fbe00796-ba8a-43fc-faee-e4703fe8be9d",
                "trusted": true
            },
            "outputs": [
                {
                    "name": "stdout",
                    "output_type": "stream",
                    "text": [
                        "corpus dim:  510023\n",
                        "filtered sentences:  137301\n"
                    ]
                }
            ],
            "source": [
                "#run this cell only the first time to create and save the tokenizer and the date\n",
                "dump = True\n",
                "\n",
                "tokenizer = Tokenizer(split=' ', filters='!\"#$%&()*+,-./:;=?@[\\\\]^_`{|}~\\t\\n', num_words=VOCABULARY_SIZE, oov_token='<unk>')\n",
                "\n",
                "corpus = []\n",
                "\n",
                "# Split of each piece of text into sentences\n",
                "for elem in data:\n",
                "  corpus += elem.lower().replace(\"\\n\", \"\").split(\".\")[:]\n",
                "\n",
                "print(\"corpus dim: \",len(corpus))\n",
                "\n",
                "#add a start and an end token\n",
                "corpus = ['<start> '+s+' <end>' for s in corpus]\n",
                "\n",
                "# Tokenization \n",
                "tokenizer.fit_on_texts(corpus)\n",
                "\n",
                "if dump:\n",
                "    with open('tokenizer.pickle', 'wb') as handle:\n",
                "        pickle.dump(tokenizer, handle, protocol=pickle.HIGHEST_PROTOCOL)\n",
                "\n",
                "original_data = [sen for sen in tokenizer.texts_to_sequences(corpus) if (len(sen) <= SENTENCE_LENGTH and len(sen)>4 and not(1 in sen))]\n",
                "\n",
                "if dump:\n",
                "    with open('original.pickle', 'wb') as handle:\n",
                "        pickle.dump(original_data, handle, protocol=pickle.HIGHEST_PROTOCOL)\n",
                "\n",
                "print (\"filtered sentences: \",len(original_data))\n",
                "\n",
                "sos = tokenizer.word_index['<start>']\n",
                "eos = tokenizer.word_index['<end>']\n",
                "\n",
                "tokenizer.word_index['<pad>'] = 0\n",
                "tokenizer.index_word[0] = '<pad>'"
            ]
        },
        {
            "cell_type": "code",
            "execution_count": 17,
            "metadata": {
                "execution": {
                    "iopub.execute_input": "2023-06-10T08:48:27.045037Z",
                    "iopub.status.busy": "2023-06-10T08:48:27.044659Z",
                    "iopub.status.idle": "2023-06-10T08:48:29.690892Z",
                    "shell.execute_reply": "2023-06-10T08:48:29.689878Z",
                    "shell.execute_reply.started": "2023-06-10T08:48:27.045005Z"
                },
                "id": "rs4cerfa4D15",
                "trusted": true
            },
            "outputs": [],
            "source": [
                "shuffled_data = [random.sample(s[1:-1],len(s)-2) for s in original_data]\n",
                "shuffled_data = [[sos]+s+[eos] for s in shuffled_data]\n",
                "target_data = [s[1:] for s in original_data]"
            ]
        },
        {
            "cell_type": "markdown",
            "metadata": {
                "id": "mGNwATns6hQ0"
            },
            "source": [
                "Let us look at some examples:"
            ]
        },
        {
            "cell_type": "code",
            "execution_count": 18,
            "metadata": {
                "colab": {
                    "base_uri": "https://localhost:8080/"
                },
                "execution": {
                    "iopub.execute_input": "2023-06-10T08:48:29.693476Z",
                    "iopub.status.busy": "2023-06-10T08:48:29.692854Z",
                    "iopub.status.idle": "2023-06-10T08:48:29.700405Z",
                    "shell.execute_reply": "2023-06-10T08:48:29.698359Z",
                    "shell.execute_reply.started": "2023-06-10T08:48:29.693443Z"
                },
                "id": "ChbvR6ue6lpj",
                "outputId": "0ae13310-cd16-4ad3-ae81-b15ddd1513e6",
                "trusted": true
            },
            "outputs": [
                {
                    "name": "stdout",
                    "output_type": "stream",
                    "text": [
                        "original sentence:  [2, 1167, 1913, 9, 60, 2321, 7, 4, 240, 16, 10, 365, 203, 9234, 1528, 1530, 3]\n",
                        "shuffled sentecen:  [2, 1913, 240, 2321, 203, 365, 1530, 4, 9, 9234, 10, 7, 1167, 60, 1528, 16, 3]\n"
                    ]
                }
            ],
            "source": [
                "i = np.random.randint(len(original_data))\n",
                "print(\"original sentence: \",original_data[i])\n",
                "print(\"shuffled sentecen: \",shuffled_data[i])"
            ]
        },
        {
            "cell_type": "markdown",
            "metadata": {
                "id": "er0FoTdc8sLq"
            },
            "source": [
                "Let us look at detokenized data:"
            ]
        },
        {
            "cell_type": "code",
            "execution_count": 19,
            "metadata": {
                "colab": {
                    "base_uri": "https://localhost:8080/"
                },
                "execution": {
                    "iopub.execute_input": "2023-06-10T08:48:29.702357Z",
                    "iopub.status.busy": "2023-06-10T08:48:29.701857Z",
                    "iopub.status.idle": "2023-06-10T08:48:29.712297Z",
                    "shell.execute_reply": "2023-06-10T08:48:29.711378Z",
                    "shell.execute_reply.started": "2023-06-10T08:48:29.702324Z"
                },
                "id": "OMKM9B1w8yWX",
                "outputId": "b9482c8a-f40a-498b-eee6-5d8d512de9e6",
                "trusted": true
            },
            "outputs": [
                {
                    "name": "stdout",
                    "output_type": "stream",
                    "text": [
                        "original sentence:  <start> margaret was married to otto i of burgundy <end>\n",
                        "shuffled sentence:  <start> burgundy of i otto married margaret to was <end>\n"
                    ]
                }
            ],
            "source": [
                "i = np.random.randint(len(original_data))\n",
                "print(\"original sentence: \",tokenizer.sequences_to_texts([original_data[i]])[0])\n",
                "print(\"shuffled sentence: \",tokenizer.sequences_to_texts([shuffled_data[i]])[0])"
            ]
        },
        {
            "cell_type": "markdown",
            "metadata": {
                "id": "MhD75oyt-AO8"
            },
            "source": [
                "Train - test split.\n",
                "Reserve at least 30% of data for testing.\n"
            ]
        },
        {
            "cell_type": "code",
            "execution_count": 20,
            "metadata": {
                "execution": {
                    "iopub.execute_input": "2023-06-10T08:48:29.795919Z",
                    "iopub.status.busy": "2023-06-10T08:48:29.795189Z",
                    "iopub.status.idle": "2023-06-10T08:48:30.338180Z",
                    "shell.execute_reply": "2023-06-10T08:48:30.337199Z",
                    "shell.execute_reply.started": "2023-06-10T08:48:29.795886Z"
                },
                "id": "dIDuV_Sj9oZo",
                "trusted": true
            },
            "outputs": [],
            "source": [
                "from sklearn.model_selection import train_test_split\n",
                "\n",
                "x_train, x_test, c_train, c_test, y_train, y_test = train_test_split(original_data, shuffled_data, target_data, test_size = 0.3, random_state = 42)"
            ]
        },
        {
            "cell_type": "markdown",
            "metadata": {
                "id": "eOjaBx8d-lEw"
            },
            "source": [
                "Input padding"
            ]
        },
        {
            "cell_type": "code",
            "execution_count": 21,
            "metadata": {
                "execution": {
                    "iopub.execute_input": "2023-06-10T08:48:30.992127Z",
                    "iopub.status.busy": "2023-06-10T08:48:30.991751Z",
                    "iopub.status.idle": "2023-06-10T08:48:32.928006Z",
                    "shell.execute_reply": "2023-06-10T08:48:32.926994Z",
                    "shell.execute_reply.started": "2023-06-10T08:48:30.992097Z"
                },
                "id": "cbZ1tSFN-kWj",
                "trusted": true
            },
            "outputs": [],
            "source": [
                "max_sequence_len = max([len(x) for x in original_data])\n",
                "\n",
                "x_train = pad_sequences(x_train, maxlen=max_sequence_len, padding='post')\n",
                "x_test = pad_sequences(x_test, maxlen=max_sequence_len, padding='post')\n",
                "c_train = pad_sequences(c_train, maxlen=max_sequence_len, padding='post')\n",
                "c_test = pad_sequences(c_test, maxlen=max_sequence_len, padding='post')\n",
                "y_train = pad_sequences(y_train, maxlen=max_sequence_len, padding='post')\n",
                "y_test = pad_sequences(y_test, maxlen=max_sequence_len, padding='post')"
            ]
        },
        {
            "cell_type": "code",
            "execution_count": 22,
            "metadata": {
                "colab": {
                    "base_uri": "https://localhost:8080/"
                },
                "execution": {
                    "iopub.execute_input": "2023-06-10T08:48:32.930394Z",
                    "iopub.status.busy": "2023-06-10T08:48:32.929997Z",
                    "iopub.status.idle": "2023-06-10T08:48:32.937699Z",
                    "shell.execute_reply": "2023-06-10T08:48:32.936736Z",
                    "shell.execute_reply.started": "2023-06-10T08:48:32.930361Z"
                },
                "id": "2PVzEwm8-8Yj",
                "outputId": "6e3075cb-47f6-4ea2-b3c7-9adb8f805aa2",
                "trusted": true
            },
            "outputs": [
                {
                    "name": "stdout",
                    "output_type": "stream",
                    "text": [
                        "Train shape: (96110, 32)\n",
                        "Test shape:  (41191, 32)\n"
                    ]
                }
            ],
            "source": [
                "assert(len(x_train)==len(c_train)==len(y_train))\n",
                "print(\"Train shape:\", x_train.shape)\n",
                "print(\"Test shape: \", x_test.shape)"
            ]
        },
        {
            "cell_type": "markdown",
            "metadata": {
                "id": "4jrATEiF_mMo"
            },
            "source": [
                "Distribution of data w.r.t. their lenght."
            ]
        },
        {
            "cell_type": "code",
            "execution_count": 23,
            "metadata": {
                "colab": {
                    "base_uri": "https://localhost:8080/",
                    "height": 430
                },
                "execution": {
                    "iopub.execute_input": "2023-06-10T08:48:33.228750Z",
                    "iopub.status.busy": "2023-06-10T08:48:33.227842Z",
                    "iopub.status.idle": "2023-06-10T08:48:34.125251Z",
                    "shell.execute_reply": "2023-06-10T08:48:34.124244Z",
                    "shell.execute_reply.started": "2023-06-10T08:48:33.228704Z"
                },
                "id": "KmzOMET9_jxp",
                "outputId": "c30f728f-799f-48d3-e5b2-e66388a34be7",
                "trusted": true
            },
            "outputs": [
                {
                    "data": {
                        "image/png": "[encoded data removed]",
                        "text/plain": [
                            "<Figure size 640x480 with 1 Axes>"
                        ]
                    },
                    "metadata": {},
                    "output_type": "display_data"
                }
            ],
            "source": [
                "import matplotlib.pyplot as plt\n",
                "plt.hist([len(x)-2 for x in original_data],27);"
            ]
        },
        {
            "cell_type": "markdown",
            "metadata": {
                "id": "G0NOkuO0CfPo"
            },
            "source": [
                "## Metric Definition\n",
                "Let s be the source string and p your prediction. The quality of the results will be measured according to the following metric:\n",
                "\n",
                "1.  look for the longest substring w between s and p\n",
                "2.  compute |w|/|s|\n",
                "\n",
                "If the match is exact, the score is 1. \n",
                "\n",
                "When computing the score, you should NON consider the start and end tokens.\n",
                "\n"
            ]
        },
        {
            "cell_type": "markdown",
            "metadata": {
                "id": "a-aUrdlXDdVf"
            },
            "source": [
                "The longest common substring can be computed with the SequenceMatcher function of difflib, that allows a simple definition of our metric."
            ]
        },
        {
            "cell_type": "code",
            "execution_count": 24,
            "metadata": {
                "execution": {
                    "iopub.execute_input": "2023-06-10T08:48:35.004846Z",
                    "iopub.status.busy": "2023-06-10T08:48:35.003868Z",
                    "iopub.status.idle": "2023-06-10T08:48:35.010937Z",
                    "shell.execute_reply": "2023-06-10T08:48:35.009781Z",
                    "shell.execute_reply.started": "2023-06-10T08:48:35.004799Z"
                },
                "id": "ulpTRdrF_huh",
                "trusted": true
            },
            "outputs": [],
            "source": [
                "from difflib import SequenceMatcher\n",
                "\n",
                "def score(s: str, p: str):\n",
                "  match_ = SequenceMatcher(None, s, p).find_longest_match()\n",
                "  return (match_.size/max(len(s), len(p)))"
            ]
        },
        {
            "cell_type": "markdown",
            "metadata": {
                "id": "BET8GqBvFugR"
            },
            "source": [
                "The score must be computed as an average of at least 10K random examples taken form the test set."
            ]
        },
        {
            "cell_type": "markdown",
            "metadata": {
                "id": "bhQDphhUhjLW"
            },
            "source": [
                "## Model"
            ]
        },
        {
            "attachments": {},
            "cell_type": "markdown",
            "metadata": {
                "id": "Rt_CnugvhsER"
            },
            "source": [
                "We want to use a modified transormer model. The difference between a regular tranformer and the one we're going to implement is the fact that in the input sequence we don't need any form of positional encoding. This is because our input is scambled at random and the network should not care about the position of each token.\n",
                "\n",
                "In addition to this change a proxy has been introduced for the inference part that mask out all the unwantend tokens that the network might try to generate. This final \"layer\" will be discussed in more detain when we define the Transformer class."
            ]
        },
        {
            "cell_type": "markdown",
            "metadata": {
                "id": "SlZzNADoi8tD"
            },
            "source": [
                "The code for defining the transtormer has been taken and adapted from https://www.tensorflow.org/text/tutorials/transformer"
            ]
        },
        {
            "attachments": {},
            "cell_type": "markdown",
            "metadata": {
                "id": "-M1LDSaajpcS"
            },
            "source": [
                "First of all we define a new layer for input embedding with position.\n",
                "This layer wants in input the size of the vocabulary (10K in our case), and the length of the input (32 in our case).\n",
                "What it does is computing a positional encoding using resonating sin and cos, create input embedding, and than adding everything togheter."
            ]
        },
        {
            "cell_type": "code",
            "execution_count": 25,
            "metadata": {
                "execution": {
                    "iopub.execute_input": "2023-06-10T08:48:36.129090Z",
                    "iopub.status.busy": "2023-06-10T08:48:36.128196Z",
                    "iopub.status.idle": "2023-06-10T08:48:36.200936Z",
                    "shell.execute_reply": "2023-06-10T08:48:36.199964Z",
                    "shell.execute_reply.started": "2023-06-10T08:48:36.129050Z"
                },
                "id": "ILhHlg9BiNE-",
                "trusted": true
            },
            "outputs": [],
            "source": [
                "class PositionalEmbedding(tf.keras.layers.Layer):\n",
                "\n",
                "  def __init__(self, vocab_size, d_model):\n",
                "    super().__init__()\n",
                "    self.d_model = d_model\n",
                "    self.embedding = tf.keras.layers.Embedding(vocab_size, d_model, mask_zero=True) \n",
                "    self.pos_encoding = self.positional_encoding(length=2048)\n",
                "\n",
                "  def compute_mask(self, *args, **kwargs):\n",
                "    return self.embedding.compute_mask(*args, **kwargs)\n",
                "\n",
                "  def call(self, x):\n",
                "    length = tf.shape(x)[1]\n",
                "    x = self.embedding(x)\n",
                "    # This factor sets the relative scale of the embedding and positonal_encoding.\n",
                "    x *= tf.math.sqrt(tf.cast(self.d_model, tf.float32))\n",
                "    x = x + self.pos_encoding[tf.newaxis, :length, :]\n",
                "\n",
                "    return x\n",
                "\n",
                "  def positional_encoding(self, length):\n",
                "    depth = self.d_model/2\n",
                "\n",
                "    positions = np.arange(length)[:, np.newaxis]     # (seq, 1)\n",
                "    depths = np.arange(depth)[np.newaxis, :]/depth   # (1, depth)\n",
                "    \n",
                "    angle_rates = 1 / (10000**depths)         # (1, depth)\n",
                "    angle_rads = positions * angle_rates      # (pos, depth)\n",
                "\n",
                "    pos_encoding = np.concatenate(\n",
                "        [np.sin(angle_rads), np.cos(angle_rads)],\n",
                "        axis=-1) \n",
                "\n",
                "    return tf.cast(pos_encoding, dtype=tf.float32)"
            ]
        },
        {
            "attachments": {},
            "cell_type": "markdown",
            "metadata": {
                "id": "BqIgPNLMpIAf"
            },
            "source": [
                "Here we define the attention layers."
            ]
        },
        {
            "cell_type": "code",
            "execution_count": 26,
            "metadata": {
                "execution": {
                    "iopub.execute_input": "2023-06-10T08:48:36.483863Z",
                    "iopub.status.busy": "2023-06-10T08:48:36.483118Z",
                    "iopub.status.idle": "2023-06-10T08:48:36.495954Z",
                    "shell.execute_reply": "2023-06-10T08:48:36.494852Z",
                    "shell.execute_reply.started": "2023-06-10T08:48:36.483813Z"
                },
                "id": "c9SmOfM1jxQI",
                "jupyter": {
                    "source_hidden": true
                },
                "trusted": true
            },
            "outputs": [],
            "source": [
                "class BaseAttention(tf.keras.layers.Layer):\n",
                "  def __init__(self, **kwargs):\n",
                "    super().__init__()\n",
                "    self.mha = tf.keras.layers.MultiHeadAttention(**kwargs)\n",
                "    self.layernorm = tf.keras.layers.LayerNormalization()\n",
                "    self.add = tf.keras.layers.Add()\n",
                "\n",
                "\n",
                "class CrossAttention(BaseAttention):\n",
                "  def call(self, x, context):\n",
                "    attn_output, attn_scores = self.mha(\n",
                "        query=x,\n",
                "        key=context,\n",
                "        value=context,\n",
                "        return_attention_scores=True)\n",
                "\n",
                "    x = self.add([x, attn_output])\n",
                "    x = self.layernorm(x)\n",
                "\n",
                "    return x\n",
                "\n",
                "\n",
                "class GlobalSelfAttention(BaseAttention):\n",
                "  def call(self, x):\n",
                "    attn_output = self.mha(\n",
                "        query=x,\n",
                "        value=x,\n",
                "        key=x)\n",
                "    x = self.add([x, attn_output])\n",
                "    x = self.layernorm(x)\n",
                "    return x\n",
                "\n",
                "\n",
                "class CausalSelfAttention(BaseAttention):\n",
                "  def call(self, x):\n",
                "    attn_output = self.mha(\n",
                "        query=x,\n",
                "        value=x,\n",
                "        key=x,\n",
                "        use_causal_mask = True)\n",
                "    x = self.add([x, attn_output])\n",
                "    x = self.layernorm(x)\n",
                "    return x"
            ]
        },
        {
            "cell_type": "markdown",
            "metadata": {
                "id": "Ok8oS7Czs5HZ"
            },
            "source": [
                "Here we define the feed forward layer with residual connections and layer normalization"
            ]
        },
        {
            "cell_type": "code",
            "execution_count": 27,
            "metadata": {
                "execution": {
                    "iopub.execute_input": "2023-06-10T08:48:36.863138Z",
                    "iopub.status.busy": "2023-06-10T08:48:36.862480Z",
                    "iopub.status.idle": "2023-06-10T08:48:36.870300Z",
                    "shell.execute_reply": "2023-06-10T08:48:36.869261Z",
                    "shell.execute_reply.started": "2023-06-10T08:48:36.863103Z"
                },
                "id": "2lvdOZp-tAU2",
                "jupyter": {
                    "source_hidden": true
                },
                "trusted": true
            },
            "outputs": [],
            "source": [
                "class FeedForward(tf.keras.layers.Layer):\n",
                "  def __init__(self, d_model, dff, dropout_rate=0.1):\n",
                "    super().__init__()\n",
                "    self.seq = tf.keras.Sequential([\n",
                "      tf.keras.layers.Dense(dff, activation='gelu'),\n",
                "      tf.keras.layers.Dense(d_model),\n",
                "      tf.keras.layers.Dropout(dropout_rate)\n",
                "    ])\n",
                "    self.add = tf.keras.layers.Add()\n",
                "    self.layer_norm = tf.keras.layers.LayerNormalization()\n",
                "\n",
                "  def call(self, x):\n",
                "    x = self.add([x, self.seq(x)])\n",
                "    x = self.layer_norm(x) \n",
                "    return x"
            ]
        },
        {
            "cell_type": "markdown",
            "metadata": {
                "id": "CDF4K2B7tNA1"
            },
            "source": [
                "Now that we have defined the building blocks of the transformers we can move on and create the encoder layer. \n",
                "\n",
                "Here we take the global self attention layer and the feed forward layer and we stack them to form the encoder layer.\n",
                "This will be stacked as many times as we decide to form the actual encoder."
            ]
        },
        {
            "cell_type": "code",
            "execution_count": 28,
            "metadata": {
                "execution": {
                    "iopub.execute_input": "2023-06-10T08:48:37.493064Z",
                    "iopub.status.busy": "2023-06-10T08:48:37.492691Z",
                    "iopub.status.idle": "2023-06-10T08:48:37.499463Z",
                    "shell.execute_reply": "2023-06-10T08:48:37.498503Z",
                    "shell.execute_reply.started": "2023-06-10T08:48:37.493035Z"
                },
                "id": "ugi5h4JqtGCo",
                "jupyter": {
                    "source_hidden": true
                },
                "trusted": true
            },
            "outputs": [],
            "source": [
                "class EncoderLayer(tf.keras.layers.Layer):\n",
                "  def __init__(self,*, d_model, num_heads, dff, dropout_rate=0.1):\n",
                "    super().__init__()\n",
                "\n",
                "    self.self_attention = GlobalSelfAttention(\n",
                "        num_heads=num_heads,\n",
                "        key_dim=d_model,\n",
                "        dropout=dropout_rate)\n",
                "\n",
                "    self.ffn = FeedForward(d_model, dff)\n",
                "\n",
                "  def call(self, x):\n",
                "    x = self.self_attention(x)\n",
                "    x = self.ffn(x)\n",
                "    return x"
            ]
        },
        {
            "attachments": {},
            "cell_type": "markdown",
            "metadata": {
                "id": "OcVwSIl2uCXj"
            },
            "source": [
                "Here we define the actual encoder.\n",
                "\n",
                "This is the first divergence from a classical transformer. In fact here we omit the positional embedding and just use a classical embedding. Why this is useful? Because without a positional embedding the network is simply getting a bag of words without any information on the position of the single words, and this is what we want. Now we are independent from the shuffuling and the network doen't need to understand it by its own."
            ]
        },
        {
            "cell_type": "code",
            "execution_count": 29,
            "metadata": {
                "execution": {
                    "iopub.execute_input": "2023-06-10T08:48:38.772759Z",
                    "iopub.status.busy": "2023-06-10T08:48:38.772054Z",
                    "iopub.status.idle": "2023-06-10T08:48:38.780814Z",
                    "shell.execute_reply": "2023-06-10T08:48:38.779743Z",
                    "shell.execute_reply.started": "2023-06-10T08:48:38.772723Z"
                },
                "id": "mM-c0U1RuBRj",
                "trusted": true
            },
            "outputs": [],
            "source": [
                "class Encoder(tf.keras.layers.Layer):\n",
                "  def __init__(self, *, num_layers, d_model, num_heads,\n",
                "               dff, vocab_size, dropout_rate=0.1):\n",
                "    super().__init__()\n",
                "\n",
                "    self.d_model = d_model\n",
                "    self.num_layers = num_layers\n",
                "\n",
                "    # Regular Embedding (NOT POSITIONAL)\n",
                "    self.embedding = tf.keras.layers.Embedding(vocab_size, d_model, mask_zero=True) \n",
                "\n",
                "    self.enc_layers = [\n",
                "        EncoderLayer(d_model=d_model,\n",
                "                     num_heads=num_heads,\n",
                "                     dff=dff,\n",
                "                     dropout_rate=dropout_rate)\n",
                "        for _ in range(num_layers)]\n",
                "    self.dropout = tf.keras.layers.Dropout(dropout_rate)\n",
                "\n",
                "  def call(self, x):\n",
                "    x = self.embedding(x)\n",
                "    x = self.dropout(x)\n",
                "    for i in range(self.num_layers):\n",
                "      x = self.enc_layers[i](x)\n",
                "    return x"
            ]
        },
        {
            "attachments": {},
            "cell_type": "markdown",
            "metadata": {
                "id": "QTHaA45mvCSe"
            },
            "source": [
                "Here we define the decoder layer that like the encoder's one will be repeated as many time as we want to form the acctual decoder."
            ]
        },
        {
            "cell_type": "code",
            "execution_count": 30,
            "metadata": {
                "execution": {
                    "iopub.execute_input": "2023-06-10T08:48:39.506984Z",
                    "iopub.status.busy": "2023-06-10T08:48:39.506597Z",
                    "iopub.status.idle": "2023-06-10T08:48:39.516856Z",
                    "shell.execute_reply": "2023-06-10T08:48:39.515398Z",
                    "shell.execute_reply.started": "2023-06-10T08:48:39.506952Z"
                },
                "id": "9WWWCTLMvOSQ",
                "trusted": true
            },
            "outputs": [],
            "source": [
                "class DecoderLayer(tf.keras.layers.Layer):\n",
                "  def __init__(self,\n",
                "               *,\n",
                "               d_model,\n",
                "               num_heads,\n",
                "               dff,\n",
                "               dropout_rate=0.1):\n",
                "    super(DecoderLayer, self).__init__()\n",
                "\n",
                "    self.causal_self_attention = CausalSelfAttention(\n",
                "        num_heads=num_heads,\n",
                "        key_dim=d_model,\n",
                "        dropout=dropout_rate)\n",
                "    \n",
                "    self.cross_attention = CrossAttention(\n",
                "        num_heads=num_heads,\n",
                "        key_dim=d_model,\n",
                "        dropout=dropout_rate)\n",
                "\n",
                "    self.ffn = FeedForward(d_model, dff)\n",
                "\n",
                "  def call(self, x, context):\n",
                "    x = self.causal_self_attention(x=x)\n",
                "    x = self.cross_attention(x=x, context=context)\n",
                "    x = self.ffn(x)\n",
                "    return x"
            ]
        },
        {
            "cell_type": "markdown",
            "metadata": {
                "id": "TFxeZLQVvqTF"
            },
            "source": [
                "Here we define the actual decoder.\n",
                "\n",
                "We just use the embedding and the decoder layer. This layer should not be modified for our specific task and it's good as is."
            ]
        },
        {
            "cell_type": "code",
            "execution_count": 31,
            "metadata": {
                "execution": {
                    "iopub.execute_input": "2023-06-10T08:48:40.181476Z",
                    "iopub.status.busy": "2023-06-10T08:48:40.181074Z",
                    "iopub.status.idle": "2023-06-10T08:48:40.190138Z",
                    "shell.execute_reply": "2023-06-10T08:48:40.189085Z",
                    "shell.execute_reply.started": "2023-06-10T08:48:40.181445Z"
                },
                "id": "MKBJ1mxzvO7w",
                "trusted": true
            },
            "outputs": [],
            "source": [
                "class Decoder(tf.keras.layers.Layer):\n",
                "  def __init__(self, *, num_layers, d_model, num_heads, dff, vocab_size,\n",
                "               dropout_rate=0.1):\n",
                "    super(Decoder, self).__init__()\n",
                "\n",
                "    self.d_model = d_model\n",
                "    self.num_layers = num_layers\n",
                "\n",
                "    self.pos_embedding = PositionalEmbedding(vocab_size=vocab_size,\n",
                "                                             d_model=d_model)\n",
                "    self.dropout = tf.keras.layers.Dropout(dropout_rate)\n",
                "    self.dec_layers = [\n",
                "        DecoderLayer(d_model=d_model, num_heads=num_heads,\n",
                "                     dff=dff, dropout_rate=dropout_rate)\n",
                "        for _ in range(num_layers)]\n",
                "\n",
                "  def call(self, x, context):\n",
                "    x = self.pos_embedding(x)\n",
                "    x = self.dropout(x)\n",
                "    for i in range(self.num_layers):\n",
                "      x  = self.dec_layers[i](x, context)\n",
                "    return x"
            ]
        },
        {
            "attachments": {},
            "cell_type": "markdown",
            "metadata": {
                "id": "mvi_FJBswHfK"
            },
            "source": [
                "Now we can create the actual transformer.\n",
                "\n",
                "The implementation of the transformer has been changed in order to include what we know about the problem. We know that the output of our model should be a reordered sentence starting from the shuffled one, so we can safely say that we need to restrict the set of words that the transformer should output, if we don't do this any words can be used and we could incur in some wrong prediction.\n",
                "\n",
                "But with this approach there is a limitation: the network is free to choose a word as many times as it likes regardless of the shuffled sequence. This is bad because if we use a word more that in the input we already know that we're making a mistake. To avoid this a \"smarter\" mask have been introduced. Essentially what it does is compute the number of each available tokens at each point in the sequence and mask out all the tokens that have already been consumed in the sentence. Doing this ensures that we're using the correct number of of each word. Mind that the network is free to cut the predicted sentence by adding a \\<end\\> token before all the words have been used. For a more detailed description of the implementation please refer to the commented code below."
            ]
        },
        {
            "attachments": {},
            "cell_type": "markdown",
            "metadata": {},
            "source": [
                "Now that we have this mask wouldn't be more reasonable to use it even when training? The answer is no and the reasoning behind is not something that I can prove.\n",
                "\n",
                "The idea is that when we're training having a mask like this is a problem for the loss function. Essentially the network doesn't know anything about this layer because it has no learnable parameters, it's not differentiable, and it's doing a non linear operation. The loss function then will be computed only on the restricted set of words that changes for every sentence and the rest of the network output is not considered. \n",
                "\n",
                "For example if the logits of the dense layer are [10, 5, 3, 23, 7] and the sentence only includes tokens 2, 4 we end up with an output of [0, 0, 3, 0, 7] completely omitting the fact that we're giving a very high score to a word that doesn't make sense. We're simply not letting the network know what is doing wrong outside the allowed tokens.\n",
                "\n",
                "But then why is this a problem if we always use the mask? Because if in the test set there is novelty the network is not able to generalize well and it will incur in wrong prediction thus lowering the final score. Our objective in the training is to get a network that understands the relationships in language and to effectively doing this it needs the freedom of choosing all the words."
            ]
        },
        {
            "cell_type": "code",
            "execution_count": 32,
            "metadata": {
                "execution": {
                    "iopub.execute_input": "2023-06-10T08:48:40.762609Z",
                    "iopub.status.busy": "2023-06-10T08:48:40.761452Z",
                    "iopub.status.idle": "2023-06-10T08:48:40.775359Z",
                    "shell.execute_reply": "2023-06-10T08:48:40.774217Z",
                    "shell.execute_reply.started": "2023-06-10T08:48:40.762566Z"
                },
                "id": "iM2d__EWwHNa",
                "trusted": true
            },
            "outputs": [],
            "source": [
                "class Transformer(tf.keras.Model):\n",
                "  def __init__(self, *, num_enc_layers, num_dec_layers, d_model, num_heads, dff,\n",
                "               input_vocab_size, target_vocab_size, dropout_rate=0.1):\n",
                "    super().__init__()\n",
                "    self.encoder = Encoder(num_layers=num_enc_layers, d_model=d_model,\n",
                "                           num_heads=num_heads, dff=dff,\n",
                "                           vocab_size=input_vocab_size,\n",
                "                           dropout_rate=dropout_rate)\n",
                "\n",
                "    self.decoder = Decoder(num_layers=num_dec_layers, d_model=d_model,\n",
                "                           num_heads=num_heads, dff=dff,\n",
                "                           vocab_size=target_vocab_size,\n",
                "                           dropout_rate=dropout_rate)\n",
                "\n",
                "    self.final_layer = tf.keras.layers.Dense(target_vocab_size)\n",
                "\n",
                "  def call(self, inputs, use_mask=False):\n",
                "    # To use a Keras model with `.fit` you must pass all your inputs in the\n",
                "    # first argument.\n",
                "    context = inputs[0]\n",
                "    x = inputs[1]\n",
                "    \n",
                "    if use_mask:\n",
                "\n",
                "        # OLD MASK\n",
                "        # ohe_context = tf.one_hot(context, depth=VOCABULARY_SIZE)\n",
                "        # mask = tf.reduce_any(tf.cast(ohe_context, dtype=tf.bool), axis=1)\n",
                "        # mask = tf.tile(tf.expand_dims(mask, axis=1), [1, SENTENCE_LENGTH, 1])\n",
                "\n",
                "        # --- MASKING ---\n",
                "        # To mask using x we first need the 1HE of each sentence in the batch, shape (batch_size, seq_len, 1he_len)\n",
                "        ohe_x = tf.one_hot(x, depth=VOCABULARY_SIZE)\n",
                "        ohe_context = tf.one_hot(context, depth=VOCABULARY_SIZE)\n",
                "\n",
                "        # Now we need to sum them to get again a shape of (batch_size, seq_len, 1he_len)\n",
                "        # This is because what we want is to have a cumulative sum that at each position of the sentence\n",
                "        # indicates what words have been used until that point\n",
                "        # if we have something like [2, 10, 47, 3]\n",
                "        # we expect [[2], [2, 10], [2, 10, 47], [2, 10, 47, 3]] but instead of using raw indexes we use 1HE\n",
                "        # to keep the shape at (batch_size, seq_len, 1he_len)\n",
                "        cum_x = tf.cumsum(ohe_x, axis=1)\n",
                "\n",
                "        # Once we have that matrix we need to know if we're under the limit of the words or not.\n",
                "        # To do this we need to sum the 1HE of the shuffled sentences\n",
                "        count_context = tf.math.reduce_sum(ohe_context, axis=1)\n",
                "\n",
                "        # Now we need that count_context match the dimensions of cum_x, because now its (batch_size, 1, 1he_len)\n",
                "        count_exp_context = tf.tile(tf.expand_dims(count_context, axis=1), [1, SENTENCE_LENGTH, 1])\n",
                "\n",
                "        # Once we have this we can simply check if the x mask is < than the shuffled mask\n",
                "        # Doing so we output a tensor that has true if we can use that token again in the sentence\n",
                "        mask = cum_x < count_exp_context\n",
                "        # --- END MASKING ---\n",
                "    \n",
                "    context = self.encoder(context)  # (batch_size, context_len, d_model)\n",
                "\n",
                "    x = self.decoder(x, context)  # (batch_size, target_len, d_model)\n",
                "\n",
                "    # Final linear layer output.\n",
                "    logits = self.final_layer(x)  # (batch_size, target_len, target_vocab_size)\n",
                "    \n",
                "    if use_mask:\n",
                "        # Mask logits to use only the word we want and to all the possible words\n",
                "        logits = tf.multiply(logits, tf.cast(mask, dtype=tf.float32))\n",
                "    \n",
                "    try:\n",
                "      # Drop the keras mask, so it doesn't scale the losses/metrics.\n",
                "      # b/250038731\n",
                "      del logits._keras_mask\n",
                "    except AttributeError:\n",
                "      pass\n",
                "\n",
                "    return logits"
            ]
        },
        {
            "cell_type": "markdown",
            "metadata": {
                "id": "5xzqMjcmxBQU"
            },
            "source": [
                "## Hyperparameters"
            ]
        },
        {
            "attachments": {},
            "cell_type": "markdown",
            "metadata": {
                "id": "JOJy7OyYxG1l"
            },
            "source": [
                "We define the following hyperparameters:\n",
                "- `num_layers`: the number of encoder and decoder layers to use\n",
                "- `d_model`: the dimensionality of the embeddings\n",
                "- `dff`: the dimension of the dense layers in the ff layers\n",
                "- `num_heads`: number of self attention heads\n",
                "- `dropout_rate`: rate that is used in the dropout layers\n",
                "\n",
                "After some evaluations I found the following as the best performing parameters."
            ]
        },
        {
            "cell_type": "code",
            "execution_count": 33,
            "metadata": {
                "execution": {
                    "iopub.execute_input": "2023-06-10T08:48:41.962139Z",
                    "iopub.status.busy": "2023-06-10T08:48:41.961165Z",
                    "iopub.status.idle": "2023-06-10T08:48:41.967334Z",
                    "shell.execute_reply": "2023-06-10T08:48:41.966373Z",
                    "shell.execute_reply.started": "2023-06-10T08:48:41.962106Z"
                },
                "id": "EQEfWz1SxFPM",
                "trusted": true
            },
            "outputs": [],
            "source": [
                "num_enc_layers = 8\n",
                "num_dec_layers = 8\n",
                "d_model = 128\n",
                "dff = 1024\n",
                "num_heads = 4\n",
                "dropout_rate = 0.1\n",
                "\n",
                "EPOCHS = 200\n",
                "BATCH_SIZE = 128\n",
                "\n",
                "learning_rate = 0.0005"
            ]
        },
        {
            "cell_type": "markdown",
            "metadata": {
                "id": "LCe5_Tgmx6PW"
            },
            "source": [
                "## Training"
            ]
        },
        {
            "attachments": {},
            "cell_type": "markdown",
            "metadata": {
                "id": "0vGf94MV0BF5"
            },
            "source": [
                "In the original paper \"Attention is all you need\" a custom LR scheduler has been proposed. This gave a good starting point for our LR but to fine tune the model we need a reduction based on the validation accuracy, this is why I fixed the LR and not use the scheduler."
            ]
        },
        {
            "cell_type": "code",
            "execution_count": 34,
            "metadata": {
                "execution": {
                    "iopub.execute_input": "2023-06-10T08:48:44.943073Z",
                    "iopub.status.busy": "2023-06-10T08:48:44.942712Z",
                    "iopub.status.idle": "2023-06-10T08:48:46.832763Z",
                    "shell.execute_reply": "2023-06-10T08:48:46.831788Z",
                    "shell.execute_reply.started": "2023-06-10T08:48:44.943044Z"
                },
                "id": "2lm1RmhtzIIU",
                "trusted": true
            },
            "outputs": [],
            "source": [
                "optimizer = tf.keras.optimizers.Adam(learning_rate, beta_1=0.9, beta_2=0.98,\n",
                "                                     epsilon=1e-9)"
            ]
        },
        {
            "cell_type": "markdown",
            "metadata": {
                "id": "vi6JJ8HA09kR"
            },
            "source": [
                "We need to define a masked version of the loss (`SparseCategoricalCrossentropy`) because the target sequences are padded."
            ]
        },
        {
            "cell_type": "code",
            "execution_count": 35,
            "metadata": {
                "execution": {
                    "iopub.execute_input": "2023-06-10T08:48:46.880240Z",
                    "iopub.status.busy": "2023-06-10T08:48:46.879884Z",
                    "iopub.status.idle": "2023-06-10T08:48:46.888920Z",
                    "shell.execute_reply": "2023-06-10T08:48:46.887832Z",
                    "shell.execute_reply.started": "2023-06-10T08:48:46.880208Z"
                },
                "id": "2km4tMjy0yxk",
                "trusted": true
            },
            "outputs": [],
            "source": [
                "def masked_loss(label, pred):\n",
                "  mask = label != 0\n",
                "  loss_object = tf.keras.losses.SparseCategoricalCrossentropy(\n",
                "    from_logits=True, reduction='none')\n",
                "  loss = loss_object(label, pred)\n",
                "\n",
                "  mask = tf.cast(mask, dtype=loss.dtype)\n",
                "  loss *= mask\n",
                "\n",
                "  loss = tf.reduce_sum(loss)/tf.reduce_sum(mask)\n",
                "  return loss\n",
                "\n",
                "\n",
                "def masked_accuracy(label, pred):\n",
                "  pred = tf.argmax(pred, axis=2)\n",
                "  label = tf.cast(label, pred.dtype)\n",
                "  match = label == pred\n",
                "\n",
                "  mask = label != 0\n",
                "\n",
                "  match = match & mask\n",
                "\n",
                "  match = tf.cast(match, dtype=tf.float32)\n",
                "  mask = tf.cast(mask, dtype=tf.float32)\n",
                "  return tf.reduce_sum(match)/tf.reduce_sum(mask)"
            ]
        },
        {
            "attachments": {},
            "cell_type": "markdown",
            "metadata": {
                "id": "aa4UFo-1URMy"
            },
            "source": [
                "Callback definition.\n",
                "\n",
                "We just use them to stop the training or reduce the LR if the accuracy is not improving."
            ]
        },
        {
            "cell_type": "code",
            "execution_count": 90,
            "metadata": {
                "execution": {
                    "iopub.execute_input": "2023-06-09T13:50:55.112843Z",
                    "iopub.status.busy": "2023-06-09T13:50:55.112475Z",
                    "iopub.status.idle": "2023-06-09T13:50:55.120280Z",
                    "shell.execute_reply": "2023-06-09T13:50:55.119376Z",
                    "shell.execute_reply.started": "2023-06-09T13:50:55.112815Z"
                },
                "id": "5AEjEumiUTfZ",
                "trusted": true
            },
            "outputs": [],
            "source": [
                "model_checkpoint_callback = tf.keras.callbacks.ModelCheckpoint(\n",
                "    filepath=checkpoint_filepath + 'callback_checkpts/' + f'{floor(time())}/' +'weights.{epoch:02d}-{val_masked_accuracy:.4f}.hdf5',\n",
                "    save_weights_only=True,\n",
                "    monitor='val_masked_accuracy',\n",
                "    verbose=1,\n",
                "    mode='max',\n",
                "    save_best_only=True\n",
                ")\n",
                "\n",
                "early_stopping_callback = tf.keras.callbacks.EarlyStopping(\n",
                "    monitor=\"val_masked_accuracy\",\n",
                "    min_delta=0.001,\n",
                "    patience=10,\n",
                "    verbose=1,\n",
                "    mode=\"max\",\n",
                "    baseline=None,\n",
                "    restore_best_weights=True,\n",
                "    start_from_epoch=5\n",
                ")\n",
                "\n",
                "reduce_lr_callback = tf.keras.callbacks.ReduceLROnPlateau(\n",
                "    monitor='val_masked_accuracy', \n",
                "    factor=0.2,\n",
                "    verbose=1,\n",
                "    patience=3,\n",
                "    min_lr=0.0000001,\n",
                "    mode='max',\n",
                "    min_delta=0.001\n",
                ")"
            ]
        },
        {
            "cell_type": "markdown",
            "metadata": {
                "id": "PUEIM58SWmXK"
            },
            "source": [
                "Model creation"
            ]
        },
        {
            "cell_type": "code",
            "execution_count": 91,
            "metadata": {
                "execution": {
                    "iopub.execute_input": "2023-06-09T13:50:55.466544Z",
                    "iopub.status.busy": "2023-06-09T13:50:55.465879Z",
                    "iopub.status.idle": "2023-06-09T13:50:55.663545Z",
                    "shell.execute_reply": "2023-06-09T13:50:55.662643Z",
                    "shell.execute_reply.started": "2023-06-09T13:50:55.466506Z"
                },
                "id": "JekR_SiZx7bp",
                "trusted": true
            },
            "outputs": [],
            "source": [
                "transformer = Transformer(\n",
                "    num_enc_layers=num_enc_layers,\n",
                "    num_dec_layers=num_dec_layers,\n",
                "    d_model=d_model,\n",
                "    num_heads=num_heads,\n",
                "    dff=dff,\n",
                "    input_vocab_size=VOCABULARY_SIZE,\n",
                "    target_vocab_size=VOCABULARY_SIZE,\n",
                "    dropout_rate=dropout_rate)"
            ]
        },
        {
            "cell_type": "code",
            "execution_count": 92,
            "metadata": {
                "execution": {
                    "iopub.execute_input": "2023-06-09T13:50:55.665742Z",
                    "iopub.status.busy": "2023-06-09T13:50:55.665389Z",
                    "iopub.status.idle": "2023-06-09T13:50:55.676759Z",
                    "shell.execute_reply": "2023-06-09T13:50:55.675887Z",
                    "shell.execute_reply.started": "2023-06-09T13:50:55.665710Z"
                },
                "id": "QW06HPPHuH-O",
                "trusted": true
            },
            "outputs": [],
            "source": [
                "transformer.compile(\n",
                "    loss=masked_loss,\n",
                "    optimizer=optimizer,\n",
                "    metrics=[masked_accuracy])"
            ]
        },
        {
            "cell_type": "markdown",
            "metadata": {
                "id": "DFoabJvTWq11"
            },
            "source": [
                "Training loop"
            ]
        },
        {
            "cell_type": "code",
            "execution_count": 93,
            "metadata": {
                "colab": {
                    "base_uri": "https://localhost:8080/",
                    "height": 409
                },
                "execution": {
                    "iopub.execute_input": "2023-06-09T13:50:56.039451Z",
                    "iopub.status.busy": "2023-06-09T13:50:56.038829Z",
                    "iopub.status.idle": "2023-06-09T15:21:28.720924Z",
                    "shell.execute_reply": "2023-06-09T15:21:28.719992Z",
                    "shell.execute_reply.started": "2023-06-09T13:50:56.039392Z"
                },
                "id": "MCAgnstj1VpJ",
                "outputId": "f6e03b0b-01fc-4bb5-c1a2-47426a265f2f",
                "trusted": true
            },
            "outputs": [
                {
                    "name": "stdout",
                    "output_type": "stream",
                    "text": [
                        "Epoch 1/200\n",
                        "601/601 [==============================] - ETA: 0s - loss: 5.4208 - masked_accuracy: 0.2826\n",
                        "Epoch 1: val_masked_accuracy improved from -inf to 0.40939, saving model to ./DeepLearning/transformers_checkpoints/callback_checkpts/1686318655/weights.01-0.4094.hdf5\n",
                        "601/601 [==============================] - 239s 280ms/step - loss: 5.4208 - masked_accuracy: 0.2826 - val_loss: 4.1578 - val_masked_accuracy: 0.4094 - lr: 5.0000e-04\n",
                        "Epoch 2/200\n",
                        "601/601 [==============================] - ETA: 0s - loss: 3.6625 - masked_accuracy: 0.4543\n",
                        "Epoch 2: val_masked_accuracy improved from 0.40939 to 0.51785, saving model to ./DeepLearning/transformers_checkpoints/callback_checkpts/1686318655/weights.02-0.5179.hdf5\n",
                        "601/601 [==============================] - 141s 234ms/step - loss: 3.6625 - masked_accuracy: 0.4543 - val_loss: 3.1267 - val_masked_accuracy: 0.5179 - lr: 5.0000e-04\n",
                        "Epoch 3/200\n",
                        "601/601 [==============================] - ETA: 0s - loss: 2.8231 - masked_accuracy: 0.5408\n",
                        "Epoch 3: val_masked_accuracy improved from 0.51785 to 0.58158, saving model to ./DeepLearning/transformers_checkpoints/callback_checkpts/1686318655/weights.03-0.5816.hdf5\n",
                        "601/601 [==============================] - 138s 229ms/step - loss: 2.8231 - masked_accuracy: 0.5408 - val_loss: 2.5274 - val_masked_accuracy: 0.5816 - lr: 5.0000e-04\n",
                        "Epoch 4/200\n",
                        "601/601 [==============================] - ETA: 0s - loss: 2.2736 - masked_accuracy: 0.5962\n",
                        "Epoch 4: val_masked_accuracy improved from 0.58158 to 0.61932, saving model to ./DeepLearning/transformers_checkpoints/callback_checkpts/1686318655/weights.04-0.6193.hdf5\n",
                        "601/601 [==============================] - 138s 230ms/step - loss: 2.2736 - masked_accuracy: 0.5962 - val_loss: 2.1550 - val_masked_accuracy: 0.6193 - lr: 5.0000e-04\n",
                        "Epoch 5/200\n",
                        "601/601 [==============================] - ETA: 0s - loss: 1.8899 - masked_accuracy: 0.6378\n",
                        "Epoch 5: val_masked_accuracy improved from 0.61932 to 0.64219, saving model to ./DeepLearning/transformers_checkpoints/callback_checkpts/1686318655/weights.05-0.6422.hdf5\n",
                        "601/601 [==============================] - 139s 231ms/step - loss: 1.8899 - masked_accuracy: 0.6378 - val_loss: 1.9284 - val_masked_accuracy: 0.6422 - lr: 5.0000e-04\n",
                        "Epoch 6/200\n",
                        "601/601 [==============================] - ETA: 0s - loss: 1.6204 - masked_accuracy: 0.6680\n",
                        "Epoch 6: val_masked_accuracy improved from 0.64219 to 0.66992, saving model to ./DeepLearning/transformers_checkpoints/callback_checkpts/1686318655/weights.06-0.6699.hdf5\n",
                        "601/601 [==============================] - 131s 217ms/step - loss: 1.6204 - masked_accuracy: 0.6680 - val_loss: 1.6913 - val_masked_accuracy: 0.6699 - lr: 5.0000e-04\n",
                        "Epoch 7/200\n",
                        "601/601 [==============================] - ETA: 0s - loss: 1.4261 - masked_accuracy: 0.6913\n",
                        "Epoch 7: val_masked_accuracy did not improve from 0.66992\n",
                        "601/601 [==============================] - 136s 227ms/step - loss: 1.4261 - masked_accuracy: 0.6913 - val_loss: 1.7349 - val_masked_accuracy: 0.6645 - lr: 5.0000e-04\n",
                        "Epoch 8/200\n",
                        "601/601 [==============================] - ETA: 0s - loss: 1.2800 - masked_accuracy: 0.7108\n",
                        "Epoch 8: val_masked_accuracy improved from 0.66992 to 0.68465, saving model to ./DeepLearning/transformers_checkpoints/callback_checkpts/1686318655/weights.08-0.6847.hdf5\n",
                        "601/601 [==============================] - 138s 230ms/step - loss: 1.2800 - masked_accuracy: 0.7108 - val_loss: 1.5780 - val_masked_accuracy: 0.6847 - lr: 5.0000e-04\n",
                        "Epoch 9/200\n",
                        "601/601 [==============================] - ETA: 0s - loss: 1.1604 - masked_accuracy: 0.7267\n",
                        "Epoch 9: val_masked_accuracy improved from 0.68465 to 0.70007, saving model to ./DeepLearning/transformers_checkpoints/callback_checkpts/1686318655/weights.09-0.7001.hdf5\n",
                        "601/601 [==============================] - 137s 228ms/step - loss: 1.1604 - masked_accuracy: 0.7267 - val_loss: 1.4650 - val_masked_accuracy: 0.7001 - lr: 5.0000e-04\n",
                        "Epoch 10/200\n",
                        "601/601 [==============================] - ETA: 0s - loss: 1.0669 - masked_accuracy: 0.7414\n",
                        "Epoch 10: val_masked_accuracy improved from 0.70007 to 0.70336, saving model to ./DeepLearning/transformers_checkpoints/callback_checkpts/1686318655/weights.10-0.7034.hdf5\n",
                        "601/601 [==============================] - 138s 230ms/step - loss: 1.0669 - masked_accuracy: 0.7414 - val_loss: 1.4511 - val_masked_accuracy: 0.7034 - lr: 5.0000e-04\n",
                        "Epoch 11/200\n",
                        "601/601 [==============================] - ETA: 0s - loss: 0.9862 - masked_accuracy: 0.7541\n",
                        "Epoch 11: val_masked_accuracy improved from 0.70336 to 0.70832, saving model to ./DeepLearning/transformers_checkpoints/callback_checkpts/1686318655/weights.11-0.7083.hdf5\n",
                        "601/601 [==============================] - 137s 228ms/step - loss: 0.9862 - masked_accuracy: 0.7541 - val_loss: 1.4370 - val_masked_accuracy: 0.7083 - lr: 5.0000e-04\n",
                        "Epoch 12/200\n",
                        "601/601 [==============================] - ETA: 0s - loss: 0.9158 - masked_accuracy: 0.7656\n",
                        "Epoch 12: val_masked_accuracy improved from 0.70832 to 0.71258, saving model to ./DeepLearning/transformers_checkpoints/callback_checkpts/1686318655/weights.12-0.7126.hdf5\n",
                        "601/601 [==============================] - 138s 229ms/step - loss: 0.9158 - masked_accuracy: 0.7656 - val_loss: 1.3875 - val_masked_accuracy: 0.7126 - lr: 5.0000e-04\n",
                        "Epoch 13/200\n",
                        "601/601 [==============================] - ETA: 0s - loss: 0.8587 - masked_accuracy: 0.7766\n",
                        "Epoch 13: val_masked_accuracy did not improve from 0.71258\n",
                        "601/601 [==============================] - 137s 228ms/step - loss: 0.8587 - masked_accuracy: 0.7766 - val_loss: 1.4216 - val_masked_accuracy: 0.7083 - lr: 5.0000e-04\n",
                        "Epoch 14/200\n",
                        "601/601 [==============================] - ETA: 0s - loss: 0.8043 - masked_accuracy: 0.7865\n",
                        "Epoch 14: val_masked_accuracy did not improve from 0.71258\n",
                        "601/601 [==============================] - 137s 228ms/step - loss: 0.8043 - masked_accuracy: 0.7865 - val_loss: 1.4484 - val_masked_accuracy: 0.7095 - lr: 5.0000e-04\n",
                        "Epoch 15/200\n",
                        "601/601 [==============================] - ETA: 0s - loss: 0.7556 - masked_accuracy: 0.7964\n",
                        "Epoch 15: val_masked_accuracy improved from 0.71258 to 0.71811, saving model to ./DeepLearning/transformers_checkpoints/callback_checkpts/1686318655/weights.15-0.7181.hdf5\n",
                        "601/601 [==============================] - 138s 229ms/step - loss: 0.7556 - masked_accuracy: 0.7964 - val_loss: 1.4022 - val_masked_accuracy: 0.7181 - lr: 5.0000e-04\n",
                        "Epoch 16/200\n",
                        "601/601 [==============================] - ETA: 0s - loss: 0.7124 - masked_accuracy: 0.8056\n",
                        "Epoch 16: val_masked_accuracy did not improve from 0.71811\n",
                        "601/601 [==============================] - 137s 228ms/step - loss: 0.7124 - masked_accuracy: 0.8056 - val_loss: 1.4521 - val_masked_accuracy: 0.7137 - lr: 5.0000e-04\n",
                        "Epoch 17/200\n",
                        "601/601 [==============================] - ETA: 0s - loss: 0.6725 - masked_accuracy: 0.8144\n",
                        "Epoch 17: val_masked_accuracy improved from 0.71811 to 0.72019, saving model to ./DeepLearning/transformers_checkpoints/callback_checkpts/1686318655/weights.17-0.7202.hdf5\n",
                        "601/601 [==============================] - 130s 217ms/step - loss: 0.6725 - masked_accuracy: 0.8144 - val_loss: 1.4345 - val_masked_accuracy: 0.7202 - lr: 5.0000e-04\n",
                        "Epoch 18/200\n",
                        "601/601 [==============================] - ETA: 0s - loss: 0.6365 - masked_accuracy: 0.8219\n",
                        "Epoch 18: val_masked_accuracy did not improve from 0.72019\n",
                        "601/601 [==============================] - 137s 228ms/step - loss: 0.6365 - masked_accuracy: 0.8219 - val_loss: 1.4928 - val_masked_accuracy: 0.7178 - lr: 5.0000e-04\n",
                        "Epoch 19/200\n",
                        "601/601 [==============================] - ETA: 0s - loss: 0.6090 - masked_accuracy: 0.8284\n",
                        "Epoch 19: val_masked_accuracy improved from 0.72019 to 0.72486, saving model to ./DeepLearning/transformers_checkpoints/callback_checkpts/1686318655/weights.19-0.7249.hdf5\n",
                        "601/601 [==============================] - 137s 228ms/step - loss: 0.6090 - masked_accuracy: 0.8284 - val_loss: 1.4308 - val_masked_accuracy: 0.7249 - lr: 5.0000e-04\n",
                        "Epoch 20/200\n",
                        "601/601 [==============================] - ETA: 0s - loss: 0.5754 - masked_accuracy: 0.8361\n",
                        "Epoch 20: val_masked_accuracy improved from 0.72486 to 0.72765, saving model to ./DeepLearning/transformers_checkpoints/callback_checkpts/1686318655/weights.20-0.7277.hdf5\n",
                        "601/601 [==============================] - 137s 228ms/step - loss: 0.5754 - masked_accuracy: 0.8361 - val_loss: 1.4385 - val_masked_accuracy: 0.7277 - lr: 5.0000e-04\n",
                        "Epoch 21/200\n",
                        "601/601 [==============================] - ETA: 0s - loss: 0.5507 - masked_accuracy: 0.8420\n",
                        "Epoch 21: val_masked_accuracy did not improve from 0.72765\n",
                        "601/601 [==============================] - 137s 229ms/step - loss: 0.5507 - masked_accuracy: 0.8420 - val_loss: 1.4897 - val_masked_accuracy: 0.7224 - lr: 5.0000e-04\n",
                        "Epoch 22/200\n",
                        "601/601 [==============================] - ETA: 0s - loss: 0.5249 - masked_accuracy: 0.8485\n",
                        "Epoch 22: val_masked_accuracy did not improve from 0.72765\n",
                        "601/601 [==============================] - 137s 228ms/step - loss: 0.5249 - masked_accuracy: 0.8485 - val_loss: 1.5076 - val_masked_accuracy: 0.7243 - lr: 5.0000e-04\n",
                        "Epoch 23/200\n",
                        "601/601 [==============================] - ETA: 0s - loss: 0.5031 - masked_accuracy: 0.8539\n",
                        "Epoch 23: val_masked_accuracy did not improve from 0.72765\n",
                        "\n",
                        "Epoch 23: ReduceLROnPlateau reducing learning rate to 0.00010000000474974513.\n",
                        "601/601 [==============================] - 137s 227ms/step - loss: 0.5031 - masked_accuracy: 0.8539 - val_loss: 1.4977 - val_masked_accuracy: 0.7276 - lr: 5.0000e-04\n",
                        "Epoch 24/200\n",
                        "601/601 [==============================] - ETA: 0s - loss: 0.3129 - masked_accuracy: 0.9033\n",
                        "Epoch 24: val_masked_accuracy improved from 0.72765 to 0.74660, saving model to ./DeepLearning/transformers_checkpoints/callback_checkpts/1686318655/weights.24-0.7466.hdf5\n",
                        "601/601 [==============================] - 137s 228ms/step - loss: 0.3129 - masked_accuracy: 0.9033 - val_loss: 1.3977 - val_masked_accuracy: 0.7466 - lr: 1.0000e-04\n",
                        "Epoch 25/200\n",
                        "601/601 [==============================] - ETA: 0s - loss: 0.2515 - masked_accuracy: 0.9205\n",
                        "Epoch 25: val_masked_accuracy improved from 0.74660 to 0.74855, saving model to ./DeepLearning/transformers_checkpoints/callback_checkpts/1686318655/weights.25-0.7486.hdf5\n",
                        "601/601 [==============================] - 137s 228ms/step - loss: 0.2515 - masked_accuracy: 0.9205 - val_loss: 1.4154 - val_masked_accuracy: 0.7486 - lr: 1.0000e-04\n",
                        "Epoch 26/200\n",
                        "601/601 [==============================] - ETA: 0s - loss: 0.2274 - masked_accuracy: 0.9277\n",
                        "Epoch 26: val_masked_accuracy did not improve from 0.74855\n",
                        "601/601 [==============================] - 137s 227ms/step - loss: 0.2274 - masked_accuracy: 0.9277 - val_loss: 1.4441 - val_masked_accuracy: 0.7480 - lr: 1.0000e-04\n",
                        "Epoch 27/200\n",
                        "601/601 [==============================] - ETA: 0s - loss: 0.2101 - masked_accuracy: 0.9333\n",
                        "Epoch 27: val_masked_accuracy did not improve from 0.74855\n",
                        "601/601 [==============================] - 137s 227ms/step - loss: 0.2101 - masked_accuracy: 0.9333 - val_loss: 1.4706 - val_masked_accuracy: 0.7469 - lr: 1.0000e-04\n",
                        "Epoch 28/200\n",
                        "601/601 [==============================] - ETA: 0s - loss: 0.1951 - masked_accuracy: 0.9381\n",
                        "Epoch 28: val_masked_accuracy did not improve from 0.74855\n",
                        "\n",
                        "Epoch 28: ReduceLROnPlateau reducing learning rate to 2.0000000949949027e-05.\n",
                        "601/601 [==============================] - 137s 228ms/step - loss: 0.1951 - masked_accuracy: 0.9381 - val_loss: 1.4879 - val_masked_accuracy: 0.7472 - lr: 1.0000e-04\n",
                        "Epoch 29/200\n",
                        "601/601 [==============================] - ETA: 0s - loss: 0.1651 - masked_accuracy: 0.9481\n",
                        "Epoch 29: val_masked_accuracy improved from 0.74855 to 0.75117, saving model to ./DeepLearning/transformers_checkpoints/callback_checkpts/1686318655/weights.29-0.7512.hdf5\n",
                        "601/601 [==============================] - 137s 228ms/step - loss: 0.1651 - masked_accuracy: 0.9481 - val_loss: 1.4790 - val_masked_accuracy: 0.7512 - lr: 2.0000e-05\n",
                        "Epoch 30/200\n",
                        "601/601 [==============================] - ETA: 0s - loss: 0.1558 - masked_accuracy: 0.9512\n",
                        "Epoch 30: val_masked_accuracy improved from 0.75117 to 0.75119, saving model to ./DeepLearning/transformers_checkpoints/callback_checkpts/1686318655/weights.30-0.7512.hdf5\n",
                        "601/601 [==============================] - 137s 228ms/step - loss: 0.1558 - masked_accuracy: 0.9512 - val_loss: 1.4912 - val_masked_accuracy: 0.7512 - lr: 2.0000e-05\n",
                        "Epoch 31/200\n",
                        "601/601 [==============================] - ETA: 0s - loss: 0.1511 - masked_accuracy: 0.9528\n",
                        "Epoch 31: val_masked_accuracy improved from 0.75119 to 0.75213, saving model to ./DeepLearning/transformers_checkpoints/callback_checkpts/1686318655/weights.31-0.7521.hdf5\n",
                        "601/601 [==============================] - 137s 228ms/step - loss: 0.1511 - masked_accuracy: 0.9528 - val_loss: 1.4867 - val_masked_accuracy: 0.7521 - lr: 2.0000e-05\n",
                        "Epoch 32/200\n",
                        "601/601 [==============================] - ETA: 0s - loss: 0.1484 - masked_accuracy: 0.9532\n",
                        "Epoch 32: val_masked_accuracy did not improve from 0.75213\n",
                        "\n",
                        "Epoch 32: ReduceLROnPlateau reducing learning rate to 4.000000262749381e-06.\n",
                        "601/601 [==============================] - 137s 227ms/step - loss: 0.1484 - masked_accuracy: 0.9532 - val_loss: 1.4903 - val_masked_accuracy: 0.7520 - lr: 2.0000e-05\n",
                        "Epoch 33/200\n",
                        "601/601 [==============================] - ETA: 0s - loss: 0.1424 - masked_accuracy: 0.9554\n",
                        "Epoch 33: val_masked_accuracy did not improve from 0.75213\n",
                        "601/601 [==============================] - 137s 228ms/step - loss: 0.1424 - masked_accuracy: 0.9554 - val_loss: 1.4978 - val_masked_accuracy: 0.7518 - lr: 4.0000e-06\n",
                        "Epoch 34/200\n",
                        "601/601 [==============================] - ETA: 0s - loss: 0.1407 - masked_accuracy: 0.9563\n",
                        "Epoch 34: val_masked_accuracy did not improve from 0.75213\n",
                        "601/601 [==============================] - 130s 216ms/step - loss: 0.1407 - masked_accuracy: 0.9563 - val_loss: 1.5029 - val_masked_accuracy: 0.7514 - lr: 4.0000e-06\n",
                        "Epoch 35/200\n",
                        "601/601 [==============================] - ETA: 0s - loss: 0.1385 - masked_accuracy: 0.9571\n",
                        "Epoch 35: val_masked_accuracy improved from 0.75213 to 0.75214, saving model to ./DeepLearning/transformers_checkpoints/callback_checkpts/1686318655/weights.35-0.7521.hdf5\n",
                        "\n",
                        "Epoch 35: ReduceLROnPlateau reducing learning rate to 8.000000889296644e-07.\n",
                        "601/601 [==============================] - 137s 228ms/step - loss: 0.1385 - masked_accuracy: 0.9571 - val_loss: 1.5009 - val_masked_accuracy: 0.7521 - lr: 4.0000e-06\n",
                        "Epoch 36/200\n",
                        "601/601 [==============================] - ETA: 0s - loss: 0.1383 - masked_accuracy: 0.9570\n",
                        "Epoch 36: val_masked_accuracy did not improve from 0.75214\n",
                        "601/601 [==============================] - 136s 227ms/step - loss: 0.1383 - masked_accuracy: 0.9570 - val_loss: 1.5019 - val_masked_accuracy: 0.7520 - lr: 8.0000e-07\n",
                        "Epoch 37/200\n",
                        "601/601 [==============================] - ETA: 0s - loss: 0.1373 - masked_accuracy: 0.9575\n",
                        "Epoch 37: val_masked_accuracy did not improve from 0.75214\n",
                        "601/601 [==============================] - 136s 226ms/step - loss: 0.1373 - masked_accuracy: 0.9575 - val_loss: 1.5012 - val_masked_accuracy: 0.7521 - lr: 8.0000e-07\n",
                        "Epoch 38/200\n",
                        "601/601 [==============================] - ETA: 0s - loss: 0.1371 - masked_accuracy: 0.9575\n",
                        "Epoch 38: val_masked_accuracy improved from 0.75214 to 0.75216, saving model to ./DeepLearning/transformers_checkpoints/callback_checkpts/1686318655/weights.38-0.7522.hdf5\n",
                        "\n",
                        "Epoch 38: ReduceLROnPlateau reducing learning rate to 1.6000001323845936e-07.\n",
                        "601/601 [==============================] - 137s 228ms/step - loss: 0.1371 - masked_accuracy: 0.9575 - val_loss: 1.5006 - val_masked_accuracy: 0.7522 - lr: 8.0000e-07\n",
                        "Epoch 39/200\n",
                        "601/601 [==============================] - ETA: 0s - loss: 0.1372 - masked_accuracy: 0.9572\n",
                        "Epoch 39: val_masked_accuracy did not improve from 0.75216\n",
                        "Restoring model weights from the end of the best epoch: 29.\n",
                        "601/601 [==============================] - 136s 227ms/step - loss: 0.1372 - masked_accuracy: 0.9572 - val_loss: 1.5024 - val_masked_accuracy: 0.7520 - lr: 1.6000e-07\n",
                        "Epoch 39: early stopping\n"
                    ]
                }
            ],
            "source": [
                "history = transformer.fit(x=[c_train, x_train],\n",
                "                          y =y_train,\n",
                "                          # validation_data=val_data,\n",
                "                          batch_size=BATCH_SIZE,\n",
                "                          validation_split=0.2,\n",
                "                          epochs=EPOCHS,\n",
                "                          callbacks=[\n",
                "                              model_checkpoint_callback,\n",
                "                              early_stopping_callback,\n",
                "                              reduce_lr_callback\n",
                "                          ])"
            ]
        },
        {
            "attachments": {},
            "cell_type": "markdown",
            "metadata": {},
            "source": [
                "Unfortunately I cannot run the summary before the training because the model is not implementing the `build` method. This is not a big problem but if we want to restore weights we need to first run some steps on the training so that the model gets built."
            ]
        },
        {
            "cell_type": "code",
            "execution_count": 97,
            "metadata": {
                "colab": {
                    "base_uri": "https://localhost:8080/"
                },
                "execution": {
                    "iopub.execute_input": "2023-06-09T15:21:28.755721Z",
                    "iopub.status.busy": "2023-06-09T15:21:28.755241Z",
                    "iopub.status.idle": "2023-06-09T15:21:55.129267Z",
                    "shell.execute_reply": "2023-06-09T15:21:55.128319Z",
                    "shell.execute_reply.started": "2023-06-09T15:21:28.755689Z"
                },
                "id": "lI4x5piVpeyk",
                "outputId": "390f9254-483f-47c9-d14a-ee0941b67e54",
                "trusted": true
            },
            "outputs": [
                {
                    "name": "stdout",
                    "output_type": "stream",
                    "text": [
                        "Model: \"transformer_2\"\n",
                        "_________________________________________________________________\n",
                        " Layer (type)                Output Shape              Param #   \n",
                        "=================================================================\n",
                        " encoder_2 (Encoder)         multiple                  5500928   \n",
                        "                                                                 \n",
                        " decoder_2 (Decoder)         multiple                  7613440   \n",
                        "                                                                 \n",
                        " dense_90 (Dense)            multiple                  1290000   \n",
                        "                                                                 \n",
                        "=================================================================\n",
                        "Total params: 14,404,368\n",
                        "Trainable params: 14,404,368\n",
                        "Non-trainable params: 0\n",
                        "_________________________________________________________________\n"
                    ]
                }
            ],
            "source": [
                "transformer.summary()"
            ]
        },
        {
            "attachments": {},
            "cell_type": "markdown",
            "metadata": {},
            "source": [
                "As we can see from the plots the model tends to have a divergence between train and validation accuracy and loss.\n",
                "This can be a sign of overfitting but I don't this this is the case. Usually when overfitting kicks in we have that the performances on the validation set starts to degrade and we get a network that is not able to generalize. This is not our case, it seems like the network is learning new (harder) things from the training set but it's not loosing it's ability to generalize with unseen data. To understand why this could be the case we need to look at the dataset and where it is coming from.\n",
                "\n",
                "We have a dataset of sentences taken from wikipedia, this means that they probably hold a good amount of information in them and they're not just common sentences. What the network is probably doing is \"learning\" the concepts behind the training sentence. This could explain why it's not losing performance on unseen data and for the same reason why it's not gaining any significant uplift in accuracy (it just doesn't know what the sentence is about, it's missing the concept).\n",
                "\n",
                "As a final note it would be interesting to see how the network performs with a larger training set and to have a test set that holds similar high level concepts but with different words. "
            ]
        },
        {
            "cell_type": "code",
            "execution_count": 98,
            "metadata": {
                "execution": {
                    "iopub.execute_input": "2023-06-09T15:21:55.131386Z",
                    "iopub.status.busy": "2023-06-09T15:21:55.130790Z",
                    "iopub.status.idle": "2023-06-09T15:21:56.085077Z",
                    "shell.execute_reply": "2023-06-09T15:21:56.084165Z",
                    "shell.execute_reply.started": "2023-06-09T15:21:55.131351Z"
                },
                "trusted": true
            },
            "outputs": [
                {
                    "data": {
                        "image/png": "[encoded data removed]",
                        "text/plain": [
                            "<Figure size 1500x500 with 3 Axes>"
                        ]
                    },
                    "metadata": {},
                    "output_type": "display_data"
                }
            ],
            "source": [
                "from plot_keras_history import show_history\n",
                "show_history(history)"
            ]
        },
        {
            "attachments": {},
            "cell_type": "markdown",
            "metadata": {},
            "source": [
                "Scoring and inference definition.\n",
                "\n",
                "To do inference we use the `BeamSampler` from keras nlp. This is an improvement from a greedy sampler (that takes as next word always the highest scoring one) because we're considering more than one possible sentence and we output the one with highest probability."
            ]
        },
        {
            "cell_type": "code",
            "execution_count": 37,
            "metadata": {
                "execution": {
                    "iopub.execute_input": "2023-06-10T08:49:01.617138Z",
                    "iopub.status.busy": "2023-06-10T08:49:01.616780Z",
                    "iopub.status.idle": "2023-06-10T08:49:01.887851Z",
                    "shell.execute_reply": "2023-06-10T08:49:01.884536Z",
                    "shell.execute_reply.started": "2023-06-10T08:49:01.617107Z"
                },
                "id": "iZMY_v0VuH-Q",
                "trusted": true
            },
            "outputs": [],
            "source": [
                "import keras_nlp\n",
                "\n",
                "def decode_sequences(shuf_batch, sampler='greedy'):\n",
                "    # Here we have that we pass a batch of shuffuled sentences and we get in\n",
                "    # output a list of senteces.\n",
                "\n",
                "    batch_size = tf.shape(shuf_batch)[0]\n",
                "\n",
                "    # Define a function that outputs the next token's scores given the\n",
                "    # input sequence (x).\n",
                "    def next(x, cache, index):\n",
                "        # This is only used when using the beam search\n",
                "        # It duplicate the shuf_batch to match dimension with x\n",
                "        if sampler == 'beam':\n",
                "            beam_size = tf.shape(x)[0]\n",
                "            shuf_next = tf.repeat(shuf_batch, repeats=beam_size//batch_size, axis=0)\n",
                "        else:\n",
                "            shuf_next = shuf_batch\n",
                "\n",
                "        logits = transformer([shuf_next, x], use_mask=True)[:, index - 1, :]\n",
                "\n",
                "        hidden_states = None  # with these samplers we don't need this\n",
                "        return logits, hidden_states, cache\n",
                "\n",
                "    length = SENTENCE_LENGTH\n",
                "    start = tf.fill((batch_size, 1), sos)\n",
                "    pad = tf.fill((batch_size, length - 1), 0) # 0 -> padding\n",
                "    prompt = tf.concat((start, pad), axis=-1)\n",
                "\n",
                "\n",
                "\n",
                "    if sampler == 'beam':\n",
                "        samp = keras_nlp.samplers.BeamSampler(5) \n",
                "    elif sampler == 'greedy':\n",
                "        samp = keras_nlp.samplers.GreedySampler()\n",
                "    \n",
                "    generated_tokens = samp(\n",
                "        next=next,\n",
                "        prompt=prompt,\n",
                "        end_token_id=eos,\n",
                "        index=1,  # Start sampling after start token.\n",
                "    )\n",
                "\n",
                "    generated_sentences = tokenizer.sequences_to_texts(generated_tokens.numpy())\n",
                "    return generated_sentences"
            ]
        },
        {
            "cell_type": "code",
            "execution_count": 38,
            "metadata": {
                "execution": {
                    "iopub.execute_input": "2023-06-10T08:49:02.392167Z",
                    "iopub.status.busy": "2023-06-10T08:49:02.391766Z",
                    "iopub.status.idle": "2023-06-10T08:49:02.398453Z",
                    "shell.execute_reply": "2023-06-10T08:49:02.396974Z",
                    "shell.execute_reply.started": "2023-06-10T08:49:02.392124Z"
                },
                "id": "P-QC658c79Y6",
                "trusted": true
            },
            "outputs": [],
            "source": [
                "def create_string(sentences: list[str]):\n",
                "  # we start from 8 because we have the start token\n",
                "  # we find the <end> token and we stop one char before it to delete the space\n",
                "  return [s[8:s.index('<end>')-1] for s in sentences]"
            ]
        },
        {
            "cell_type": "code",
            "execution_count": 39,
            "metadata": {
                "execution": {
                    "iopub.execute_input": "2023-06-10T08:49:02.733793Z",
                    "iopub.status.busy": "2023-06-10T08:49:02.733433Z",
                    "iopub.status.idle": "2023-06-10T08:49:02.744072Z",
                    "shell.execute_reply": "2023-06-10T08:49:02.743174Z",
                    "shell.execute_reply.started": "2023-06-10T08:49:02.733764Z"
                },
                "id": "JZHjUN1K3g2D",
                "trusted": true
            },
            "outputs": [],
            "source": [
                "def compute_final_score_batch(test_shuf, test_original, sampler='beam', indx_list=None, verbose=0):\n",
                "  # Compute the final score on a batch of samples taken from the test_shuf array\n",
                "  # This is because running inference on more than that gives OOM exception\n",
                "\n",
                "  # First we start by sampling if no sample have been provided\n",
                "  if indx_list is None:\n",
                "    indx_list = np.random.choice(np.arange(len(test_shuf)), 100, replace=False)\n",
                "  \n",
                "  test_shuf = test_shuf[indx_list]\n",
                "  test_original = test_original[indx_list]\n",
                "\n",
                "  # Than we can create a tensor object for the shuf version\n",
                "  # If we try to do directly with 3000 we get OOM exception so we need to split them\n",
                "  test_tensor = tf.convert_to_tensor(test_shuf)\n",
                "  # We predict\n",
                "  if verbose >= 1:\n",
                "    print(\"Starting prediction...\")\n",
                "  \n",
                "  test_prediction_str = decode_sequences(test_tensor, sampler=sampler)\n",
                "  \n",
                "  if verbose >= 1:\n",
                "    print(\"Predictoin completed\")\n",
                "\n",
                "  # We detokenize the output of the original data\n",
                "  test_og_str = tokenizer.sequences_to_texts(test_original)\n",
                "  \n",
                "  # for both we create a list of raw strings\n",
                "  test_prediction_raw = create_string(test_prediction_str)\n",
                "  test_og_raw = create_string(test_og_str)\n",
                "\n",
                "  # for each of the pairs we compute the score and take the mean\n",
                "  if verbose >= 1:\n",
                "    print(\"Starting scoring...\")\n",
                "\n",
                "  score_list = []\n",
                "  for og, pred in zip(test_og_raw, test_prediction_raw):\n",
                "    if verbose >= 2:\n",
                "        print(score(og, pred))\n",
                "    if verbose >= 3:\n",
                "        print(\"og: \", og)\n",
                "        print(\"pred: \", pred)\n",
                "    score_list.append(score(og, pred))\n",
                "\n",
                "  tot_score = sum(score_list) / len(score_list)\n",
                "\n",
                "  return tot_score"
            ]
        },
        {
            "cell_type": "code",
            "execution_count": 40,
            "metadata": {
                "execution": {
                    "iopub.execute_input": "2023-06-10T08:49:03.863127Z",
                    "iopub.status.busy": "2023-06-10T08:49:03.862754Z",
                    "iopub.status.idle": "2023-06-10T08:49:03.871087Z",
                    "shell.execute_reply": "2023-06-10T08:49:03.869950Z",
                    "shell.execute_reply.started": "2023-06-10T08:49:03.863097Z"
                },
                "id": "4IlH-yfJp2cb",
                "trusted": true
            },
            "outputs": [],
            "source": [
                "def compute_final_score(test_shuf, test_original, sampler='beam', indx_list=None, verbose=0):\n",
                "    # Compute the final score on 3K samples from the test\n",
                "\n",
                "    batch_scores = []\n",
                "    if indx_list is None:\n",
                "        indx_list = np.random.choice(np.arange(len(test_shuf)), 3000, replace=False)\n",
                "\n",
                "    for i in range(0, indx_list.shape[0], 100):\n",
                "        if verbose >= 1:\n",
                "            print(f\"Computing score on {i}:{i+100}\")\n",
                "        batch_scores.append(compute_final_score_batch(test_shuf, test_original, indx_list=indx_list[i:i+100], sampler=sampler, verbose=verbose-1))\n",
                "        if verbose >=1:\n",
                "            print(f\"Score = {batch_scores[-1]}\")\n",
                "    \n",
                "    return sum(batch_scores) / len(batch_scores)"
            ]
        },
        {
            "cell_type": "code",
            "execution_count": 41,
            "metadata": {
                "execution": {
                    "iopub.execute_input": "2023-06-10T08:49:04.198450Z",
                    "iopub.status.busy": "2023-06-10T08:49:04.198038Z",
                    "iopub.status.idle": "2023-06-10T08:49:04.208440Z",
                    "shell.execute_reply": "2023-06-10T08:49:04.207460Z",
                    "shell.execute_reply.started": "2023-06-10T08:49:04.198416Z"
                },
                "id": "8ApcGdot2Z27",
                "trusted": true
            },
            "outputs": [],
            "source": [
                "# Convert to tensor so that we can use them for inference\n",
                "test_batch = tf.convert_to_tensor(c_test)\n",
                "original_batch = tf.convert_to_tensor(x_test)"
            ]
        },
        {
            "cell_type": "code",
            "execution_count": 42,
            "metadata": {
                "execution": {
                    "iopub.execute_input": "2023-06-10T08:49:06.140394Z",
                    "iopub.status.busy": "2023-06-10T08:49:06.139660Z",
                    "iopub.status.idle": "2023-06-10T08:49:06.148352Z",
                    "shell.execute_reply": "2023-06-10T08:49:06.147361Z",
                    "shell.execute_reply.started": "2023-06-10T08:49:06.140356Z"
                },
                "id": "zAPFep3YtrAT",
                "trusted": true
            },
            "outputs": [],
            "source": [
                "np.random.seed(583996) # we set a random seed for reproducibility\n",
                "indx_list_full = np.random.choice(np.arange(len(c_test)), 3000, replace=False)"
            ]
        },
        {
            "attachments": {},
            "cell_type": "markdown",
            "metadata": {},
            "source": [
                "Score of the network trained on 80% of the training set. This is NOT the final score, we need to train on the whole train set."
            ]
        },
        {
            "cell_type": "code",
            "execution_count": 100,
            "metadata": {
                "colab": {
                    "base_uri": "https://localhost:8080/"
                },
                "execution": {
                    "iopub.execute_input": "2023-06-09T15:21:56.096490Z",
                    "iopub.status.busy": "2023-06-09T15:21:56.096064Z",
                    "iopub.status.idle": "2023-06-09T15:28:02.105535Z",
                    "shell.execute_reply": "2023-06-09T15:28:02.101516Z",
                    "shell.execute_reply.started": "2023-06-09T15:21:56.096456Z"
                },
                "id": "Rxu3L0d4ubef",
                "outputId": "31674e20-a0e6-479b-cc6f-a78508e8d667",
                "trusted": true
            },
            "outputs": [
                {
                    "data": {
                        "text/plain": [
                            "0.5386672235501635"
                        ]
                    },
                    "execution_count": 100,
                    "metadata": {},
                    "output_type": "execute_result"
                }
            ],
            "source": [
                "compute_final_score(c_test, x_test, indx_list=indx_list_full, sampler=\"beam\",verbose=0)"
            ]
        },
        {
            "attachments": {},
            "cell_type": "markdown",
            "metadata": {},
            "source": [
                "Now we train on the whole training set so we need to change a bit the callbacks. Essentially the previous run was done to evaluate the model and get an idea of it's behavior, now that we know that is not prone to overfitting we just train until we reach the same number of epochs as in the previous fit."
            ]
        },
        {
            "cell_type": "code",
            "execution_count": 46,
            "metadata": {
                "execution": {
                    "iopub.execute_input": "2023-06-10T10:17:16.367061Z",
                    "iopub.status.busy": "2023-06-10T10:17:16.366701Z",
                    "iopub.status.idle": "2023-06-10T11:56:29.854050Z",
                    "shell.execute_reply": "2023-06-10T11:56:29.851971Z",
                    "shell.execute_reply.started": "2023-06-10T10:17:16.367034Z"
                },
                "trusted": true
            },
            "outputs": [
                {
                    "name": "stdout",
                    "output_type": "stream",
                    "text": [
                        "Epoch 1/200\n",
                        "751/751 [==============================] - ETA: 0s - loss: 5.1053 - masked_accuracy: 0.3160\n",
                        "Epoch 1: masked_accuracy improved from -inf to 0.31600, saving model to ./DeepLearning/transformers_checkpoints/callback_checkpts/1686392236/weights.01-0.3160.hdf5\n",
                        "751/751 [==============================] - 250s 234ms/step - loss: 5.1053 - masked_accuracy: 0.3160 - lr: 5.0000e-04\n",
                        "Epoch 2/200\n",
                        "751/751 [==============================] - ETA: 0s - loss: 3.2842 - masked_accuracy: 0.4945\n",
                        "Epoch 2: masked_accuracy improved from 0.31600 to 0.49451, saving model to ./DeepLearning/transformers_checkpoints/callback_checkpts/1686392236/weights.02-0.4945.hdf5\n",
                        "751/751 [==============================] - 151s 201ms/step - loss: 3.2842 - masked_accuracy: 0.4945 - lr: 5.0000e-04\n",
                        "Epoch 3/200\n",
                        "751/751 [==============================] - ETA: 0s - loss: 2.4554 - masked_accuracy: 0.5771\n",
                        "Epoch 3: masked_accuracy improved from 0.49451 to 0.57708, saving model to ./DeepLearning/transformers_checkpoints/callback_checkpts/1686392236/weights.03-0.5771.hdf5\n",
                        "751/751 [==============================] - 146s 195ms/step - loss: 2.4554 - masked_accuracy: 0.5771 - lr: 5.0000e-04\n",
                        "Epoch 4/200\n",
                        "751/751 [==============================] - ETA: 0s - loss: 1.9522 - masked_accuracy: 0.6297\n",
                        "Epoch 4: masked_accuracy improved from 0.57708 to 0.62974, saving model to ./DeepLearning/transformers_checkpoints/callback_checkpts/1686392236/weights.04-0.6297.hdf5\n",
                        "751/751 [==============================] - 147s 196ms/step - loss: 1.9522 - masked_accuracy: 0.6297 - lr: 5.0000e-04\n",
                        "Epoch 5/200\n",
                        "751/751 [==============================] - ETA: 0s - loss: 1.6262 - masked_accuracy: 0.6659\n",
                        "Epoch 5: masked_accuracy improved from 0.62974 to 0.66592, saving model to ./DeepLearning/transformers_checkpoints/callback_checkpts/1686392236/weights.05-0.6659.hdf5\n",
                        "751/751 [==============================] - 146s 195ms/step - loss: 1.6262 - masked_accuracy: 0.6659 - lr: 5.0000e-04\n",
                        "Epoch 6/200\n",
                        "751/751 [==============================] - ETA: 0s - loss: 1.4098 - masked_accuracy: 0.6920\n",
                        "Epoch 6: masked_accuracy improved from 0.66592 to 0.69196, saving model to ./DeepLearning/transformers_checkpoints/callback_checkpts/1686392236/weights.06-0.6920.hdf5\n",
                        "751/751 [==============================] - 146s 195ms/step - loss: 1.4098 - masked_accuracy: 0.6920 - lr: 5.0000e-04\n",
                        "Epoch 7/200\n",
                        "751/751 [==============================] - ETA: 0s - loss: 1.2549 - masked_accuracy: 0.7121\n",
                        "Epoch 7: masked_accuracy improved from 0.69196 to 0.71207, saving model to ./DeepLearning/transformers_checkpoints/callback_checkpts/1686392236/weights.07-0.7121.hdf5\n",
                        "751/751 [==============================] - 146s 195ms/step - loss: 1.2549 - masked_accuracy: 0.7121 - lr: 5.0000e-04\n",
                        "Epoch 8/200\n",
                        "751/751 [==============================] - ETA: 0s - loss: 1.1404 - masked_accuracy: 0.7284\n",
                        "Epoch 8: masked_accuracy improved from 0.71207 to 0.72835, saving model to ./DeepLearning/transformers_checkpoints/callback_checkpts/1686392236/weights.08-0.7284.hdf5\n",
                        "751/751 [==============================] - 146s 195ms/step - loss: 1.1404 - masked_accuracy: 0.7284 - lr: 5.0000e-04\n",
                        "Epoch 9/200\n",
                        "751/751 [==============================] - ETA: 0s - loss: 1.0439 - masked_accuracy: 0.7432\n",
                        "Epoch 9: masked_accuracy improved from 0.72835 to 0.74321, saving model to ./DeepLearning/transformers_checkpoints/callback_checkpts/1686392236/weights.09-0.7432.hdf5\n",
                        "751/751 [==============================] - 147s 195ms/step - loss: 1.0439 - masked_accuracy: 0.7432 - lr: 5.0000e-04\n",
                        "Epoch 10/200\n",
                        "751/751 [==============================] - ETA: 0s - loss: 0.9672 - masked_accuracy: 0.7558\n",
                        "Epoch 10: masked_accuracy improved from 0.74321 to 0.75584, saving model to ./DeepLearning/transformers_checkpoints/callback_checkpts/1686392236/weights.10-0.7558.hdf5\n",
                        "751/751 [==============================] - 145s 193ms/step - loss: 0.9672 - masked_accuracy: 0.7558 - lr: 5.0000e-04\n",
                        "Epoch 11/200\n",
                        "751/751 [==============================] - ETA: 0s - loss: 0.9013 - masked_accuracy: 0.7670\n",
                        "Epoch 11: masked_accuracy improved from 0.75584 to 0.76695, saving model to ./DeepLearning/transformers_checkpoints/callback_checkpts/1686392236/weights.11-0.7670.hdf5\n",
                        "751/751 [==============================] - 145s 192ms/step - loss: 0.9013 - masked_accuracy: 0.7670 - lr: 5.0000e-04\n",
                        "Epoch 12/200\n",
                        "751/751 [==============================] - ETA: 0s - loss: 0.8445 - masked_accuracy: 0.7776\n",
                        "Epoch 12: masked_accuracy improved from 0.76695 to 0.77761, saving model to ./DeepLearning/transformers_checkpoints/callback_checkpts/1686392236/weights.12-0.7776.hdf5\n",
                        "751/751 [==============================] - 145s 193ms/step - loss: 0.8445 - masked_accuracy: 0.7776 - lr: 5.0000e-04\n",
                        "Epoch 13/200\n",
                        "751/751 [==============================] - ETA: 0s - loss: 0.7968 - masked_accuracy: 0.7870\n",
                        "Epoch 13: masked_accuracy improved from 0.77761 to 0.78696, saving model to ./DeepLearning/transformers_checkpoints/callback_checkpts/1686392236/weights.13-0.7870.hdf5\n",
                        "751/751 [==============================] - 146s 195ms/step - loss: 0.7968 - masked_accuracy: 0.7870 - lr: 5.0000e-04\n",
                        "Epoch 14/200\n",
                        "751/751 [==============================] - ETA: 0s - loss: 0.7510 - masked_accuracy: 0.7966\n",
                        "Epoch 14: masked_accuracy improved from 0.78696 to 0.79655, saving model to ./DeepLearning/transformers_checkpoints/callback_checkpts/1686392236/weights.14-0.7966.hdf5\n",
                        "751/751 [==============================] - 145s 193ms/step - loss: 0.7510 - masked_accuracy: 0.7966 - lr: 5.0000e-04\n",
                        "Epoch 15/200\n",
                        "751/751 [==============================] - ETA: 0s - loss: 0.7107 - masked_accuracy: 0.8048\n",
                        "Epoch 15: masked_accuracy improved from 0.79655 to 0.80481, saving model to ./DeepLearning/transformers_checkpoints/callback_checkpts/1686392236/weights.15-0.8048.hdf5\n",
                        "751/751 [==============================] - 145s 194ms/step - loss: 0.7107 - masked_accuracy: 0.8048 - lr: 5.0000e-04\n",
                        "Epoch 16/200\n",
                        "751/751 [==============================] - ETA: 0s - loss: 0.6751 - masked_accuracy: 0.8125\n",
                        "Epoch 16: masked_accuracy improved from 0.80481 to 0.81250, saving model to ./DeepLearning/transformers_checkpoints/callback_checkpts/1686392236/weights.16-0.8125.hdf5\n",
                        "751/751 [==============================] - 145s 193ms/step - loss: 0.6751 - masked_accuracy: 0.8125 - lr: 5.0000e-04\n",
                        "Epoch 17/200\n",
                        "751/751 [==============================] - ETA: 0s - loss: 0.6408 - masked_accuracy: 0.8201\n",
                        "Epoch 17: masked_accuracy improved from 0.81250 to 0.82005, saving model to ./DeepLearning/transformers_checkpoints/callback_checkpts/1686392236/weights.17-0.8201.hdf5\n",
                        "751/751 [==============================] - 145s 193ms/step - loss: 0.6408 - masked_accuracy: 0.8201 - lr: 5.0000e-04\n",
                        "Epoch 18/200\n",
                        "751/751 [==============================] - ETA: 0s - loss: 0.6115 - masked_accuracy: 0.8266\n",
                        "Epoch 18: masked_accuracy improved from 0.82005 to 0.82656, saving model to ./DeepLearning/transformers_checkpoints/callback_checkpts/1686392236/weights.18-0.8266.hdf5\n",
                        "751/751 [==============================] - 145s 193ms/step - loss: 0.6115 - masked_accuracy: 0.8266 - lr: 5.0000e-04\n",
                        "Epoch 19/200\n",
                        "751/751 [==============================] - ETA: 0s - loss: 0.5844 - masked_accuracy: 0.8330\n",
                        "Epoch 19: masked_accuracy improved from 0.82656 to 0.83298, saving model to ./DeepLearning/transformers_checkpoints/callback_checkpts/1686392236/weights.19-0.8330.hdf5\n",
                        "751/751 [==============================] - 145s 193ms/step - loss: 0.5844 - masked_accuracy: 0.8330 - lr: 5.0000e-04\n",
                        "Epoch 20/200\n",
                        "751/751 [==============================] - ETA: 0s - loss: 0.5602 - masked_accuracy: 0.8392\n",
                        "Epoch 20: masked_accuracy improved from 0.83298 to 0.83919, saving model to ./DeepLearning/transformers_checkpoints/callback_checkpts/1686392236/weights.20-0.8392.hdf5\n",
                        "751/751 [==============================] - 145s 193ms/step - loss: 0.5602 - masked_accuracy: 0.8392 - lr: 5.0000e-04\n",
                        "Epoch 21/200\n",
                        "751/751 [==============================] - ETA: 0s - loss: 0.5378 - masked_accuracy: 0.8446\n",
                        "Epoch 21: masked_accuracy improved from 0.83919 to 0.84461, saving model to ./DeepLearning/transformers_checkpoints/callback_checkpts/1686392236/weights.21-0.8446.hdf5\n",
                        "751/751 [==============================] - 146s 195ms/step - loss: 0.5378 - masked_accuracy: 0.8446 - lr: 5.0000e-04\n",
                        "Epoch 22/200\n",
                        "751/751 [==============================] - ETA: 0s - loss: 0.5180 - masked_accuracy: 0.8495\n",
                        "Epoch 22: masked_accuracy improved from 0.84461 to 0.84952, saving model to ./DeepLearning/transformers_checkpoints/callback_checkpts/1686392236/weights.22-0.8495.hdf5\n",
                        "751/751 [==============================] - 146s 195ms/step - loss: 0.5180 - masked_accuracy: 0.8495 - lr: 5.0000e-04\n",
                        "Epoch 23/200\n",
                        "751/751 [==============================] - ETA: 0s - loss: 0.4977 - masked_accuracy: 0.8548\n",
                        "Epoch 23: masked_accuracy improved from 0.84952 to 0.85476, saving model to ./DeepLearning/transformers_checkpoints/callback_checkpts/1686392236/weights.23-0.8548.hdf5\n",
                        "751/751 [==============================] - 146s 195ms/step - loss: 0.4977 - masked_accuracy: 0.8548 - lr: 5.0000e-04\n",
                        "Epoch 24/200\n",
                        "751/751 [==============================] - ETA: 0s - loss: 0.4808 - masked_accuracy: 0.8592\n",
                        "Epoch 24: masked_accuracy improved from 0.85476 to 0.85921, saving model to ./DeepLearning/transformers_checkpoints/callback_checkpts/1686392236/weights.24-0.8592.hdf5\n",
                        "751/751 [==============================] - 146s 194ms/step - loss: 0.4808 - masked_accuracy: 0.8592 - lr: 5.0000e-04\n",
                        "Epoch 25/200\n",
                        "751/751 [==============================] - ETA: 0s - loss: 0.4623 - masked_accuracy: 0.8640\n",
                        "Epoch 25: masked_accuracy improved from 0.85921 to 0.86403, saving model to ./DeepLearning/transformers_checkpoints/callback_checkpts/1686392236/weights.25-0.8640.hdf5\n",
                        "751/751 [==============================] - 146s 195ms/step - loss: 0.4623 - masked_accuracy: 0.8640 - lr: 5.0000e-04\n",
                        "Epoch 26/200\n",
                        "751/751 [==============================] - ETA: 0s - loss: 0.4501 - masked_accuracy: 0.8671\n",
                        "Epoch 26: masked_accuracy improved from 0.86403 to 0.86713, saving model to ./DeepLearning/transformers_checkpoints/callback_checkpts/1686392236/weights.26-0.8671.hdf5\n",
                        "751/751 [==============================] - 146s 194ms/step - loss: 0.4501 - masked_accuracy: 0.8671 - lr: 5.0000e-04\n",
                        "Epoch 27/200\n",
                        "751/751 [==============================] - ETA: 0s - loss: 0.4344 - masked_accuracy: 0.8713\n",
                        "Epoch 27: masked_accuracy improved from 0.86713 to 0.87126, saving model to ./DeepLearning/transformers_checkpoints/callback_checkpts/1686392236/weights.27-0.8713.hdf5\n",
                        "751/751 [==============================] - 146s 195ms/step - loss: 0.4344 - masked_accuracy: 0.8713 - lr: 5.0000e-04\n",
                        "Epoch 28/200\n",
                        "751/751 [==============================] - ETA: 0s - loss: 0.4212 - masked_accuracy: 0.8748\n",
                        "Epoch 28: masked_accuracy improved from 0.87126 to 0.87478, saving model to ./DeepLearning/transformers_checkpoints/callback_checkpts/1686392236/weights.28-0.8748.hdf5\n",
                        "751/751 [==============================] - 146s 194ms/step - loss: 0.4212 - masked_accuracy: 0.8748 - lr: 5.0000e-04\n",
                        "Epoch 29/200\n",
                        "751/751 [==============================] - ETA: 0s - loss: 0.4088 - masked_accuracy: 0.8783\n",
                        "Epoch 29: masked_accuracy improved from 0.87478 to 0.87832, saving model to ./DeepLearning/transformers_checkpoints/callback_checkpts/1686392236/weights.29-0.8783.hdf5\n",
                        "751/751 [==============================] - 146s 195ms/step - loss: 0.4088 - masked_accuracy: 0.8783 - lr: 5.0000e-04\n",
                        "Epoch 30/200\n",
                        "751/751 [==============================] - ETA: 0s - loss: 0.3979 - masked_accuracy: 0.8810\n",
                        "Epoch 30: masked_accuracy improved from 0.87832 to 0.88102, saving model to ./DeepLearning/transformers_checkpoints/callback_checkpts/1686392236/weights.30-0.8810.hdf5\n",
                        "751/751 [==============================] - 146s 195ms/step - loss: 0.3979 - masked_accuracy: 0.8810 - lr: 5.0000e-04\n",
                        "Epoch 31/200\n",
                        "751/751 [==============================] - ETA: 0s - loss: 0.3887 - masked_accuracy: 0.8842\n",
                        "Epoch 31: masked_accuracy improved from 0.88102 to 0.88422, saving model to ./DeepLearning/transformers_checkpoints/callback_checkpts/1686392236/weights.31-0.8842.hdf5\n",
                        "751/751 [==============================] - 146s 194ms/step - loss: 0.3887 - masked_accuracy: 0.8842 - lr: 5.0000e-04\n",
                        "Epoch 32/200\n",
                        "751/751 [==============================] - ETA: 0s - loss: 0.3780 - masked_accuracy: 0.8872\n",
                        "Epoch 32: masked_accuracy improved from 0.88422 to 0.88717, saving model to ./DeepLearning/transformers_checkpoints/callback_checkpts/1686392236/weights.32-0.8872.hdf5\n",
                        "751/751 [==============================] - 146s 195ms/step - loss: 0.3780 - masked_accuracy: 0.8872 - lr: 5.0000e-04\n",
                        "Epoch 33/200\n",
                        "751/751 [==============================] - ETA: 0s - loss: 0.3690 - masked_accuracy: 0.8898\n",
                        "Epoch 33: masked_accuracy improved from 0.88717 to 0.88983, saving model to ./DeepLearning/transformers_checkpoints/callback_checkpts/1686392236/weights.33-0.8898.hdf5\n",
                        "751/751 [==============================] - 146s 194ms/step - loss: 0.3690 - masked_accuracy: 0.8898 - lr: 5.0000e-04\n",
                        "Epoch 34/200\n",
                        "751/751 [==============================] - ETA: 0s - loss: 0.3587 - masked_accuracy: 0.8928\n",
                        "Epoch 34: masked_accuracy improved from 0.88983 to 0.89279, saving model to ./DeepLearning/transformers_checkpoints/callback_checkpts/1686392236/weights.34-0.8928.hdf5\n",
                        "751/751 [==============================] - 146s 195ms/step - loss: 0.3587 - masked_accuracy: 0.8928 - lr: 5.0000e-04\n",
                        "Epoch 35/200\n",
                        "751/751 [==============================] - ETA: 0s - loss: 0.3535 - masked_accuracy: 0.8942\n",
                        "Epoch 35: masked_accuracy improved from 0.89279 to 0.89421, saving model to ./DeepLearning/transformers_checkpoints/callback_checkpts/1686392236/weights.35-0.8942.hdf5\n",
                        "751/751 [==============================] - 146s 194ms/step - loss: 0.3535 - masked_accuracy: 0.8942 - lr: 5.0000e-04\n",
                        "Epoch 36/200\n",
                        "751/751 [==============================] - ETA: 0s - loss: 0.3431 - masked_accuracy: 0.8967\n",
                        "Epoch 36: masked_accuracy improved from 0.89421 to 0.89674, saving model to ./DeepLearning/transformers_checkpoints/callback_checkpts/1686392236/weights.36-0.8967.hdf5\n",
                        "\n",
                        "Epoch 36: ReduceLROnPlateau reducing learning rate to 0.00010000000474974513.\n",
                        "751/751 [==============================] - 146s 194ms/step - loss: 0.3431 - masked_accuracy: 0.8967 - lr: 5.0000e-04\n",
                        "Epoch 37/200\n",
                        "751/751 [==============================] - ETA: 0s - loss: 0.2011 - masked_accuracy: 0.9368\n",
                        "Epoch 37: masked_accuracy improved from 0.89674 to 0.93681, saving model to ./DeepLearning/transformers_checkpoints/callback_checkpts/1686392236/weights.37-0.9368.hdf5\n",
                        "751/751 [==============================] - 146s 195ms/step - loss: 0.2011 - masked_accuracy: 0.9368 - lr: 1.0000e-04\n",
                        "Epoch 38/200\n",
                        "751/751 [==============================] - ETA: 0s - loss: 0.1500 - masked_accuracy: 0.9521\n",
                        "Epoch 38: masked_accuracy improved from 0.93681 to 0.95206, saving model to ./DeepLearning/transformers_checkpoints/callback_checkpts/1686392236/weights.38-0.9521.hdf5\n",
                        "751/751 [==============================] - 146s 194ms/step - loss: 0.1500 - masked_accuracy: 0.9521 - lr: 1.0000e-04\n",
                        "Epoch 39/200\n",
                        "751/751 [==============================] - ETA: 0s - loss: 0.1309 - masked_accuracy: 0.9583\n",
                        "Epoch 39: masked_accuracy improved from 0.95206 to 0.95825, saving model to ./DeepLearning/transformers_checkpoints/callback_checkpts/1686392236/weights.39-0.9583.hdf5\n",
                        "751/751 [==============================] - 146s 195ms/step - loss: 0.1309 - masked_accuracy: 0.9583 - lr: 1.0000e-04\n",
                        "Epoch 40/200\n",
                        "751/751 [==============================] - ETA: 0s - loss: 0.1192 - masked_accuracy: 0.9622\n",
                        "Epoch 40: masked_accuracy improved from 0.95825 to 0.96220, saving model to ./DeepLearning/transformers_checkpoints/callback_checkpts/1686392236/weights.40-0.9622.hdf5\n",
                        "751/751 [==============================] - 146s 195ms/step - loss: 0.1192 - masked_accuracy: 0.9622 - lr: 1.0000e-04\n"
                    ]
                }
            ],
            "source": [
                "model_checkpoint_callback = tf.keras.callbacks.ModelCheckpoint(\n",
                "    filepath=checkpoint_filepath + 'callback_checkpts/' + f'{floor(time())}/' +'weights.{epoch:02d}-{masked_accuracy:.4f}.hdf5',\n",
                "    save_weights_only=True,\n",
                "    monitor='masked_accuracy',\n",
                "    verbose=1,\n",
                "    mode='max',\n",
                "    save_best_only=True\n",
                ")\n",
                "\n",
                "early_stopping_callback = tf.keras.callbacks.EarlyStopping(\n",
                "    monitor=\"masked_accuracy\",\n",
                "    min_delta=0.001,\n",
                "    patience=10,\n",
                "    verbose=1,\n",
                "    mode=\"max\",\n",
                "    baseline=None,\n",
                "    restore_best_weights=True,\n",
                "    start_from_epoch=5\n",
                ")\n",
                "\n",
                "reduce_lr_callback = tf.keras.callbacks.ReduceLROnPlateau(\n",
                "    monitor='masked_accuracy', \n",
                "    factor=0.2,\n",
                "    verbose=1,\n",
                "    patience=4,\n",
                "    min_lr=0.0000001,\n",
                "    mode='max',\n",
                "    min_delta=0.01\n",
                ")\n",
                "\n",
                "transformer = Transformer(\n",
                "    num_enc_layers=num_enc_layers,\n",
                "    num_dec_layers=num_dec_layers,\n",
                "    d_model=d_model,\n",
                "    num_heads=num_heads,\n",
                "    dff=dff,\n",
                "    input_vocab_size=VOCABULARY_SIZE,\n",
                "    target_vocab_size=VOCABULARY_SIZE,\n",
                "    dropout_rate=dropout_rate)\n",
                "\n",
                "optimizer = tf.keras.optimizers.Adam(learning_rate, beta_1=0.9, beta_2=0.98,\n",
                "                                     epsilon=1e-9)\n",
                "\n",
                "transformer.compile(\n",
                "    loss=masked_loss,\n",
                "    optimizer=optimizer,\n",
                "    metrics=[masked_accuracy])\n",
                "\n",
                "history_full = transformer.fit(x=[c_train, x_train],\n",
                "                               y =y_train,\n",
                "                               batch_size=BATCH_SIZE,\n",
                "                               epochs=40,  # We use around the same number of epochs as with the validation set\n",
                "                               callbacks=[\n",
                "                                  model_checkpoint_callback,\n",
                "                                  early_stopping_callback,\n",
                "                                  reduce_lr_callback\n",
                "                               ])"
            ]
        },
        {
            "attachments": {},
            "cell_type": "markdown",
            "metadata": {},
            "source": [
                "Final score of the network. As we can see training on the whole training set improves the score."
            ]
        },
        {
            "cell_type": "code",
            "execution_count": null,
            "metadata": {
                "trusted": true
            },
            "outputs": [
                {
                    "data": {
                        "text/plain": [
                            "0.5510725135510062"
                        ]
                    },
                    "execution_count": 47,
                    "metadata": {},
                    "output_type": "execute_result"
                }
            ],
            "source": [
                "compute_final_score(c_test, x_test, indx_list=indx_list_full, sampler=\"beam\",verbose=0)"
            ]
        }
    ],
    "metadata": {
        "accelerator": "GPU",
        "colab": {
            "gpuType": "T4",
            "provenance": []
        },
        "kernelspec": {
            "display_name": "Python 3",
            "language": "python",
            "name": "python3"
        },
        "language_info": {
            "codemirror_mode": {
                "name": "ipython",
                "version": 3
            },
            "file_extension": ".py",
            "mimetype": "text/x-python",
            "name": "python",
            "nbconvert_exporter": "python",
            "pygments_lexer": "ipython3",
            "version": "3.10.10"
        },
        "widgets": {
            "application/vnd.jupyter.widget-state+json": {
                "00044770e6bb497a8cd8cd696605e364": {
                    "model_module": "@jupyter-widgets/controls",
                    "model_module_version": "1.5.0",
                    "model_name": "DescriptionStyleModel",
                    "state": {
                        "_model_module": "@jupyter-widgets/controls",
                        "_model_module_version": "1.5.0",
                        "_model_name": "DescriptionStyleModel",
                        "_view_count": null,
                        "_view_module": "@jupyter-widgets/base",
                        "_view_module_version": "1.2.0",
                        "_view_name": "StyleView",
                        "description_width": ""
                    }
                },
                "0216ff4082d5483e95f7c9c780527c98": {
                    "model_module": "@jupyter-widgets/controls",
                    "model_module_version": "1.5.0",
                    "model_name": "DescriptionStyleModel",
                    "state": {
                        "_model_module": "@jupyter-widgets/controls",
                        "_model_module_version": "1.5.0",
                        "_model_name": "DescriptionStyleModel",
                        "_view_count": null,
                        "_view_module": "@jupyter-widgets/base",
                        "_view_module_version": "1.2.0",
                        "_view_name": "StyleView",
                        "description_width": ""
                    }
                },
                "082f9625611146f18e7d8912a9e8ca43": {
                    "model_module": "@jupyter-widgets/base",
                    "model_module_version": "1.2.0",
                    "model_name": "LayoutModel",
                    "state": {
                        "_model_module": "@jupyter-widgets/base",
                        "_model_module_version": "1.2.0",
                        "_model_name": "LayoutModel",
                        "_view_count": null,
                        "_view_module": "@jupyter-widgets/base",
                        "_view_module_version": "1.2.0",
                        "_view_name": "LayoutView",
                        "align_content": null,
                        "align_items": null,
                        "align_self": null,
                        "border": null,
                        "bottom": null,
                        "display": null,
                        "flex": null,
                        "flex_flow": null,
                        "grid_area": null,
                        "grid_auto_columns": null,
                        "grid_auto_flow": null,
                        "grid_auto_rows": null,
                        "grid_column": null,
                        "grid_gap": null,
                        "grid_row": null,
                        "grid_template_areas": null,
                        "grid_template_columns": null,
                        "grid_template_rows": null,
                        "height": null,
                        "justify_content": null,
                        "justify_items": null,
                        "left": null,
                        "margin": null,
                        "max_height": null,
                        "max_width": null,
                        "min_height": null,
                        "min_width": null,
                        "object_fit": null,
                        "object_position": null,
                        "order": null,
                        "overflow": null,
                        "overflow_x": null,
                        "overflow_y": null,
                        "padding": null,
                        "right": null,
                        "top": null,
                        "visibility": null,
                        "width": null
                    }
                },
                "114a08e8c83046b097c5809afbadc6df": {
                    "model_module": "@jupyter-widgets/controls",
                    "model_module_version": "1.5.0",
                    "model_name": "DescriptionStyleModel",
                    "state": {
                        "_model_module": "@jupyter-widgets/controls",
                        "_model_module_version": "1.5.0",
                        "_model_name": "DescriptionStyleModel",
                        "_view_count": null,
                        "_view_module": "@jupyter-widgets/base",
                        "_view_module_version": "1.2.0",
                        "_view_name": "StyleView",
                        "description_width": ""
                    }
                },
                "126e1fbe9fc54ec0b01a688a72391f34": {
                    "model_module": "@jupyter-widgets/controls",
                    "model_module_version": "1.5.0",
                    "model_name": "HTMLModel",
                    "state": {
                        "_dom_classes": [],
                        "_model_module": "@jupyter-widgets/controls",
                        "_model_module_version": "1.5.0",
                        "_model_name": "HTMLModel",
                        "_view_count": null,
                        "_view_module": "@jupyter-widgets/controls",
                        "_view_module_version": "1.5.0",
                        "_view_name": "HTMLView",
                        "description": "",
                        "description_tooltip": null,
                        "layout": "IPY_MODEL_1e3eec34fdb9453ea17fe35600f27ad3",
                        "placeholder": "​",
                        "style": "IPY_MODEL_00044770e6bb497a8cd8cd696605e364",
                        "value": " 235M/235M [00:06&lt;00:00, 37.4MB/s]"
                    }
                },
                "13275462dd67456d83fc33af7994d777": {
                    "model_module": "@jupyter-widgets/controls",
                    "model_module_version": "1.5.0",
                    "model_name": "DescriptionStyleModel",
                    "state": {
                        "_model_module": "@jupyter-widgets/controls",
                        "_model_module_version": "1.5.0",
                        "_model_name": "DescriptionStyleModel",
                        "_view_count": null,
                        "_view_module": "@jupyter-widgets/base",
                        "_view_module_version": "1.2.0",
                        "_view_name": "StyleView",
                        "description_width": ""
                    }
                },
                "17c12f9fe17d4ea893c59db04aa2ee49": {
                    "model_module": "@jupyter-widgets/controls",
                    "model_module_version": "1.5.0",
                    "model_name": "FloatProgressModel",
                    "state": {
                        "_dom_classes": [],
                        "_model_module": "@jupyter-widgets/controls",
                        "_model_module_version": "1.5.0",
                        "_model_name": "FloatProgressModel",
                        "_view_count": null,
                        "_view_module": "@jupyter-widgets/controls",
                        "_view_module_version": "1.5.0",
                        "_view_name": "ProgressView",
                        "bar_style": "success",
                        "description": "",
                        "description_tooltip": null,
                        "layout": "IPY_MODEL_210932a190974591a6acd1a5cce865e3",
                        "max": 30394,
                        "min": 0,
                        "orientation": "horizontal",
                        "style": "IPY_MODEL_b38e5f26ccbf4b9e9453f573e90f62b9",
                        "value": 30394
                    }
                },
                "1e3eec34fdb9453ea17fe35600f27ad3": {
                    "model_module": "@jupyter-widgets/base",
                    "model_module_version": "1.2.0",
                    "model_name": "LayoutModel",
                    "state": {
                        "_model_module": "@jupyter-widgets/base",
                        "_model_module_version": "1.2.0",
                        "_model_name": "LayoutModel",
                        "_view_count": null,
                        "_view_module": "@jupyter-widgets/base",
                        "_view_module_version": "1.2.0",
                        "_view_name": "LayoutView",
                        "align_content": null,
                        "align_items": null,
                        "align_self": null,
                        "border": null,
                        "bottom": null,
                        "display": null,
                        "flex": null,
                        "flex_flow": null,
                        "grid_area": null,
                        "grid_auto_columns": null,
                        "grid_auto_flow": null,
                        "grid_auto_rows": null,
                        "grid_column": null,
                        "grid_gap": null,
                        "grid_row": null,
                        "grid_template_areas": null,
                        "grid_template_columns": null,
                        "grid_template_rows": null,
                        "height": null,
                        "justify_content": null,
                        "justify_items": null,
                        "left": null,
                        "margin": null,
                        "max_height": null,
                        "max_width": null,
                        "min_height": null,
                        "min_width": null,
                        "object_fit": null,
                        "object_position": null,
                        "order": null,
                        "overflow": null,
                        "overflow_x": null,
                        "overflow_y": null,
                        "padding": null,
                        "right": null,
                        "top": null,
                        "visibility": null,
                        "width": null
                    }
                },
                "210932a190974591a6acd1a5cce865e3": {
                    "model_module": "@jupyter-widgets/base",
                    "model_module_version": "1.2.0",
                    "model_name": "LayoutModel",
                    "state": {
                        "_model_module": "@jupyter-widgets/base",
                        "_model_module_version": "1.2.0",
                        "_model_name": "LayoutModel",
                        "_view_count": null,
                        "_view_module": "@jupyter-widgets/base",
                        "_view_module_version": "1.2.0",
                        "_view_name": "LayoutView",
                        "align_content": null,
                        "align_items": null,
                        "align_self": null,
                        "border": null,
                        "bottom": null,
                        "display": null,
                        "flex": null,
                        "flex_flow": null,
                        "grid_area": null,
                        "grid_auto_columns": null,
                        "grid_auto_flow": null,
                        "grid_auto_rows": null,
                        "grid_column": null,
                        "grid_gap": null,
                        "grid_row": null,
                        "grid_template_areas": null,
                        "grid_template_columns": null,
                        "grid_template_rows": null,
                        "height": null,
                        "justify_content": null,
                        "justify_items": null,
                        "left": null,
                        "margin": null,
                        "max_height": null,
                        "max_width": null,
                        "min_height": null,
                        "min_width": null,
                        "object_fit": null,
                        "object_position": null,
                        "order": null,
                        "overflow": null,
                        "overflow_x": null,
                        "overflow_y": null,
                        "padding": null,
                        "right": null,
                        "top": null,
                        "visibility": null,
                        "width": null
                    }
                },
                "28df5e8bc0ef488d89d38b18dd5b46aa": {
                    "model_module": "@jupyter-widgets/controls",
                    "model_module_version": "1.5.0",
                    "model_name": "HTMLModel",
                    "state": {
                        "_dom_classes": [],
                        "_model_module": "@jupyter-widgets/controls",
                        "_model_module_version": "1.5.0",
                        "_model_name": "HTMLModel",
                        "_view_count": null,
                        "_view_module": "@jupyter-widgets/controls",
                        "_view_module_version": "1.5.0",
                        "_view_name": "HTMLView",
                        "description": "",
                        "description_tooltip": null,
                        "layout": "IPY_MODEL_781816cc4b7c426f939063152d59d725",
                        "placeholder": "​",
                        "style": "IPY_MODEL_0216ff4082d5483e95f7c9c780527c98",
                        "value": " 1.66k/1.66k [00:00&lt;00:00, 92.5kB/s]"
                    }
                },
                "2a0b9a19fa034a149be6cf016a7cbcdc": {
                    "model_module": "@jupyter-widgets/base",
                    "model_module_version": "1.2.0",
                    "model_name": "LayoutModel",
                    "state": {
                        "_model_module": "@jupyter-widgets/base",
                        "_model_module_version": "1.2.0",
                        "_model_name": "LayoutModel",
                        "_view_count": null,
                        "_view_module": "@jupyter-widgets/base",
                        "_view_module_version": "1.2.0",
                        "_view_name": "LayoutView",
                        "align_content": null,
                        "align_items": null,
                        "align_self": null,
                        "border": null,
                        "bottom": null,
                        "display": null,
                        "flex": null,
                        "flex_flow": null,
                        "grid_area": null,
                        "grid_auto_columns": null,
                        "grid_auto_flow": null,
                        "grid_auto_rows": null,
                        "grid_column": null,
                        "grid_gap": null,
                        "grid_row": null,
                        "grid_template_areas": null,
                        "grid_template_columns": null,
                        "grid_template_rows": null,
                        "height": null,
                        "justify_content": null,
                        "justify_items": null,
                        "left": null,
                        "margin": null,
                        "max_height": null,
                        "max_width": null,
                        "min_height": null,
                        "min_width": null,
                        "object_fit": null,
                        "object_position": null,
                        "order": null,
                        "overflow": null,
                        "overflow_x": null,
                        "overflow_y": null,
                        "padding": null,
                        "right": null,
                        "top": null,
                        "visibility": null,
                        "width": null
                    }
                },
                "373046c703dd4cf796ac7cc4f0bf7bf2": {
                    "model_module": "@jupyter-widgets/controls",
                    "model_module_version": "1.5.0",
                    "model_name": "DescriptionStyleModel",
                    "state": {
                        "_model_module": "@jupyter-widgets/controls",
                        "_model_module_version": "1.5.0",
                        "_model_name": "DescriptionStyleModel",
                        "_view_count": null,
                        "_view_module": "@jupyter-widgets/base",
                        "_view_module_version": "1.2.0",
                        "_view_name": "StyleView",
                        "description_width": ""
                    }
                },
                "383fc5349eca4e9caf61eea4046e3e2e": {
                    "model_module": "@jupyter-widgets/controls",
                    "model_module_version": "1.5.0",
                    "model_name": "HBoxModel",
                    "state": {
                        "_dom_classes": [],
                        "_model_module": "@jupyter-widgets/controls",
                        "_model_module_version": "1.5.0",
                        "_model_name": "HBoxModel",
                        "_view_count": null,
                        "_view_module": "@jupyter-widgets/controls",
                        "_view_module_version": "1.5.0",
                        "_view_name": "HBoxView",
                        "box_style": "",
                        "children": [
                            "IPY_MODEL_bd2b72ef0b904d819043a38ba10bf75a",
                            "IPY_MODEL_d8d8576bee254023b6b33002b1f547ad",
                            "IPY_MODEL_126e1fbe9fc54ec0b01a688a72391f34"
                        ],
                        "layout": "IPY_MODEL_49b4dfc045e84f86bda2a9c7ce97e45c"
                    }
                },
                "3a20873302a34d4c9dc3ea8546f0db40": {
                    "model_module": "@jupyter-widgets/controls",
                    "model_module_version": "1.5.0",
                    "model_name": "DescriptionStyleModel",
                    "state": {
                        "_model_module": "@jupyter-widgets/controls",
                        "_model_module_version": "1.5.0",
                        "_model_name": "DescriptionStyleModel",
                        "_view_count": null,
                        "_view_module": "@jupyter-widgets/base",
                        "_view_module_version": "1.2.0",
                        "_view_name": "StyleView",
                        "description_width": ""
                    }
                },
                "3c9f5123820e43f0ade4433e05f9f3ff": {
                    "model_module": "@jupyter-widgets/base",
                    "model_module_version": "1.2.0",
                    "model_name": "LayoutModel",
                    "state": {
                        "_model_module": "@jupyter-widgets/base",
                        "_model_module_version": "1.2.0",
                        "_model_name": "LayoutModel",
                        "_view_count": null,
                        "_view_module": "@jupyter-widgets/base",
                        "_view_module_version": "1.2.0",
                        "_view_name": "LayoutView",
                        "align_content": null,
                        "align_items": null,
                        "align_self": null,
                        "border": null,
                        "bottom": null,
                        "display": null,
                        "flex": null,
                        "flex_flow": null,
                        "grid_area": null,
                        "grid_auto_columns": null,
                        "grid_auto_flow": null,
                        "grid_auto_rows": null,
                        "grid_column": null,
                        "grid_gap": null,
                        "grid_row": null,
                        "grid_template_areas": null,
                        "grid_template_columns": null,
                        "grid_template_rows": null,
                        "height": null,
                        "justify_content": null,
                        "justify_items": null,
                        "left": null,
                        "margin": null,
                        "max_height": null,
                        "max_width": null,
                        "min_height": null,
                        "min_width": null,
                        "object_fit": null,
                        "object_position": null,
                        "order": null,
                        "overflow": null,
                        "overflow_x": null,
                        "overflow_y": null,
                        "padding": null,
                        "right": null,
                        "top": null,
                        "visibility": null,
                        "width": null
                    }
                },
                "40a372cc2a174448aec933e0fa0c636a": {
                    "model_module": "@jupyter-widgets/base",
                    "model_module_version": "1.2.0",
                    "model_name": "LayoutModel",
                    "state": {
                        "_model_module": "@jupyter-widgets/base",
                        "_model_module_version": "1.2.0",
                        "_model_name": "LayoutModel",
                        "_view_count": null,
                        "_view_module": "@jupyter-widgets/base",
                        "_view_module_version": "1.2.0",
                        "_view_name": "LayoutView",
                        "align_content": null,
                        "align_items": null,
                        "align_self": null,
                        "border": null,
                        "bottom": null,
                        "display": null,
                        "flex": null,
                        "flex_flow": null,
                        "grid_area": null,
                        "grid_auto_columns": null,
                        "grid_auto_flow": null,
                        "grid_auto_rows": null,
                        "grid_column": null,
                        "grid_gap": null,
                        "grid_row": null,
                        "grid_template_areas": null,
                        "grid_template_columns": null,
                        "grid_template_rows": null,
                        "height": null,
                        "justify_content": null,
                        "justify_items": null,
                        "left": null,
                        "margin": null,
                        "max_height": null,
                        "max_width": null,
                        "min_height": null,
                        "min_width": null,
                        "object_fit": null,
                        "object_position": null,
                        "order": null,
                        "overflow": null,
                        "overflow_x": null,
                        "overflow_y": null,
                        "padding": null,
                        "right": null,
                        "top": null,
                        "visibility": null,
                        "width": null
                    }
                },
                "41277d226b2045b49737f89559baaa4f": {
                    "model_module": "@jupyter-widgets/base",
                    "model_module_version": "1.2.0",
                    "model_name": "LayoutModel",
                    "state": {
                        "_model_module": "@jupyter-widgets/base",
                        "_model_module_version": "1.2.0",
                        "_model_name": "LayoutModel",
                        "_view_count": null,
                        "_view_module": "@jupyter-widgets/base",
                        "_view_module_version": "1.2.0",
                        "_view_name": "LayoutView",
                        "align_content": null,
                        "align_items": null,
                        "align_self": null,
                        "border": null,
                        "bottom": null,
                        "display": null,
                        "flex": null,
                        "flex_flow": null,
                        "grid_area": null,
                        "grid_auto_columns": null,
                        "grid_auto_flow": null,
                        "grid_auto_rows": null,
                        "grid_column": null,
                        "grid_gap": null,
                        "grid_row": null,
                        "grid_template_areas": null,
                        "grid_template_columns": null,
                        "grid_template_rows": null,
                        "height": null,
                        "justify_content": null,
                        "justify_items": null,
                        "left": null,
                        "margin": null,
                        "max_height": null,
                        "max_width": null,
                        "min_height": null,
                        "min_width": null,
                        "object_fit": null,
                        "object_position": null,
                        "order": null,
                        "overflow": null,
                        "overflow_x": null,
                        "overflow_y": null,
                        "padding": null,
                        "right": null,
                        "top": null,
                        "visibility": null,
                        "width": null
                    }
                },
                "42be62a9c9a84099a0d3639946a56871": {
                    "model_module": "@jupyter-widgets/controls",
                    "model_module_version": "1.5.0",
                    "model_name": "HBoxModel",
                    "state": {
                        "_dom_classes": [],
                        "_model_module": "@jupyter-widgets/controls",
                        "_model_module_version": "1.5.0",
                        "_model_name": "HBoxModel",
                        "_view_count": null,
                        "_view_module": "@jupyter-widgets/controls",
                        "_view_module_version": "1.5.0",
                        "_view_name": "HBoxView",
                        "box_style": "",
                        "children": [
                            "IPY_MODEL_59c74c99698a4f01b5e9c26f3455eb37",
                            "IPY_MODEL_dc8d33157d2942099229b7f247c50a49",
                            "IPY_MODEL_28df5e8bc0ef488d89d38b18dd5b46aa"
                        ],
                        "layout": "IPY_MODEL_41277d226b2045b49737f89559baaa4f"
                    }
                },
                "46b80da0724f4de08a852c5c80f89e89": {
                    "model_module": "@jupyter-widgets/controls",
                    "model_module_version": "1.5.0",
                    "model_name": "FloatProgressModel",
                    "state": {
                        "_dom_classes": [],
                        "_model_module": "@jupyter-widgets/controls",
                        "_model_module_version": "1.5.0",
                        "_model_name": "FloatProgressModel",
                        "_view_count": null,
                        "_view_module": "@jupyter-widgets/controls",
                        "_view_module_version": "1.5.0",
                        "_view_name": "ProgressView",
                        "bar_style": "success",
                        "description": "",
                        "description_tooltip": null,
                        "layout": "IPY_MODEL_b2a0d66bfeee4756917866f7d5532d1d",
                        "max": 35871,
                        "min": 0,
                        "orientation": "horizontal",
                        "style": "IPY_MODEL_64ea27974e524850b4a3be59afc47405",
                        "value": 35871
                    }
                },
                "49b4dfc045e84f86bda2a9c7ce97e45c": {
                    "model_module": "@jupyter-widgets/base",
                    "model_module_version": "1.2.0",
                    "model_name": "LayoutModel",
                    "state": {
                        "_model_module": "@jupyter-widgets/base",
                        "_model_module_version": "1.2.0",
                        "_model_name": "LayoutModel",
                        "_view_count": null,
                        "_view_module": "@jupyter-widgets/base",
                        "_view_module_version": "1.2.0",
                        "_view_name": "LayoutView",
                        "align_content": null,
                        "align_items": null,
                        "align_self": null,
                        "border": null,
                        "bottom": null,
                        "display": null,
                        "flex": null,
                        "flex_flow": null,
                        "grid_area": null,
                        "grid_auto_columns": null,
                        "grid_auto_flow": null,
                        "grid_auto_rows": null,
                        "grid_column": null,
                        "grid_gap": null,
                        "grid_row": null,
                        "grid_template_areas": null,
                        "grid_template_columns": null,
                        "grid_template_rows": null,
                        "height": null,
                        "justify_content": null,
                        "justify_items": null,
                        "left": null,
                        "margin": null,
                        "max_height": null,
                        "max_width": null,
                        "min_height": null,
                        "min_width": null,
                        "object_fit": null,
                        "object_position": null,
                        "order": null,
                        "overflow": null,
                        "overflow_x": null,
                        "overflow_y": null,
                        "padding": null,
                        "right": null,
                        "top": null,
                        "visibility": null,
                        "width": null
                    }
                },
                "4d01b4fda08e498a9ec6ce51cb0e0aa4": {
                    "model_module": "@jupyter-widgets/controls",
                    "model_module_version": "1.5.0",
                    "model_name": "HTMLModel",
                    "state": {
                        "_dom_classes": [],
                        "_model_module": "@jupyter-widgets/controls",
                        "_model_module_version": "1.5.0",
                        "_model_name": "HTMLModel",
                        "_view_count": null,
                        "_view_module": "@jupyter-widgets/controls",
                        "_view_module_version": "1.5.0",
                        "_view_name": "HTMLView",
                        "description": "",
                        "description_tooltip": null,
                        "layout": "IPY_MODEL_a77554a9da9347f1aeaf9b4ce940934a",
                        "placeholder": "​",
                        "style": "IPY_MODEL_833cd8ec4b9c46fe9e2aeb5ad40a8110",
                        "value": "100%"
                    }
                },
                "4dbe38c6d32542b0bf1a0d637e783576": {
                    "model_module": "@jupyter-widgets/controls",
                    "model_module_version": "1.5.0",
                    "model_name": "HTMLModel",
                    "state": {
                        "_dom_classes": [],
                        "_model_module": "@jupyter-widgets/controls",
                        "_model_module_version": "1.5.0",
                        "_model_name": "HTMLModel",
                        "_view_count": null,
                        "_view_module": "@jupyter-widgets/controls",
                        "_view_module_version": "1.5.0",
                        "_view_name": "HTMLView",
                        "description": "",
                        "description_tooltip": null,
                        "layout": "IPY_MODEL_f6ed950827794754b3e6d746e73a34b3",
                        "placeholder": "​",
                        "style": "IPY_MODEL_555501d571054ced92a0d94f0b392798",
                        "value": " 30.4k/30.4k [00:00&lt;00:00, 1.01MB/s]"
                    }
                },
                "555501d571054ced92a0d94f0b392798": {
                    "model_module": "@jupyter-widgets/controls",
                    "model_module_version": "1.5.0",
                    "model_name": "DescriptionStyleModel",
                    "state": {
                        "_model_module": "@jupyter-widgets/controls",
                        "_model_module_version": "1.5.0",
                        "_model_name": "DescriptionStyleModel",
                        "_view_count": null,
                        "_view_module": "@jupyter-widgets/base",
                        "_view_module_version": "1.2.0",
                        "_view_name": "StyleView",
                        "description_width": ""
                    }
                },
                "5626a318b09742c7ba5dbf0bcbbb429f": {
                    "model_module": "@jupyter-widgets/base",
                    "model_module_version": "1.2.0",
                    "model_name": "LayoutModel",
                    "state": {
                        "_model_module": "@jupyter-widgets/base",
                        "_model_module_version": "1.2.0",
                        "_model_name": "LayoutModel",
                        "_view_count": null,
                        "_view_module": "@jupyter-widgets/base",
                        "_view_module_version": "1.2.0",
                        "_view_name": "LayoutView",
                        "align_content": null,
                        "align_items": null,
                        "align_self": null,
                        "border": null,
                        "bottom": null,
                        "display": null,
                        "flex": null,
                        "flex_flow": null,
                        "grid_area": null,
                        "grid_auto_columns": null,
                        "grid_auto_flow": null,
                        "grid_auto_rows": null,
                        "grid_column": null,
                        "grid_gap": null,
                        "grid_row": null,
                        "grid_template_areas": null,
                        "grid_template_columns": null,
                        "grid_template_rows": null,
                        "height": null,
                        "justify_content": null,
                        "justify_items": null,
                        "left": null,
                        "margin": null,
                        "max_height": null,
                        "max_width": null,
                        "min_height": null,
                        "min_width": null,
                        "object_fit": null,
                        "object_position": null,
                        "order": null,
                        "overflow": null,
                        "overflow_x": null,
                        "overflow_y": null,
                        "padding": null,
                        "right": null,
                        "top": null,
                        "visibility": null,
                        "width": null
                    }
                },
                "59c74c99698a4f01b5e9c26f3455eb37": {
                    "model_module": "@jupyter-widgets/controls",
                    "model_module_version": "1.5.0",
                    "model_name": "HTMLModel",
                    "state": {
                        "_dom_classes": [],
                        "_model_module": "@jupyter-widgets/controls",
                        "_model_module_version": "1.5.0",
                        "_model_name": "HTMLModel",
                        "_view_count": null,
                        "_view_module": "@jupyter-widgets/controls",
                        "_view_module_version": "1.5.0",
                        "_view_name": "HTMLView",
                        "description": "",
                        "description_tooltip": null,
                        "layout": "IPY_MODEL_5cfdf643d95b48deb30b269632530303",
                        "placeholder": "​",
                        "style": "IPY_MODEL_13275462dd67456d83fc33af7994d777",
                        "value": "Downloading: 100%"
                    }
                },
                "5cfdf643d95b48deb30b269632530303": {
                    "model_module": "@jupyter-widgets/base",
                    "model_module_version": "1.2.0",
                    "model_name": "LayoutModel",
                    "state": {
                        "_model_module": "@jupyter-widgets/base",
                        "_model_module_version": "1.2.0",
                        "_model_name": "LayoutModel",
                        "_view_count": null,
                        "_view_module": "@jupyter-widgets/base",
                        "_view_module_version": "1.2.0",
                        "_view_name": "LayoutView",
                        "align_content": null,
                        "align_items": null,
                        "align_self": null,
                        "border": null,
                        "bottom": null,
                        "display": null,
                        "flex": null,
                        "flex_flow": null,
                        "grid_area": null,
                        "grid_auto_columns": null,
                        "grid_auto_flow": null,
                        "grid_auto_rows": null,
                        "grid_column": null,
                        "grid_gap": null,
                        "grid_row": null,
                        "grid_template_areas": null,
                        "grid_template_columns": null,
                        "grid_template_rows": null,
                        "height": null,
                        "justify_content": null,
                        "justify_items": null,
                        "left": null,
                        "margin": null,
                        "max_height": null,
                        "max_width": null,
                        "min_height": null,
                        "min_width": null,
                        "object_fit": null,
                        "object_position": null,
                        "order": null,
                        "overflow": null,
                        "overflow_x": null,
                        "overflow_y": null,
                        "padding": null,
                        "right": null,
                        "top": null,
                        "visibility": null,
                        "width": null
                    }
                },
                "5d7bd768999d4b93872231cbaf7873b4": {
                    "model_module": "@jupyter-widgets/base",
                    "model_module_version": "1.2.0",
                    "model_name": "LayoutModel",
                    "state": {
                        "_model_module": "@jupyter-widgets/base",
                        "_model_module_version": "1.2.0",
                        "_model_name": "LayoutModel",
                        "_view_count": null,
                        "_view_module": "@jupyter-widgets/base",
                        "_view_module_version": "1.2.0",
                        "_view_name": "LayoutView",
                        "align_content": null,
                        "align_items": null,
                        "align_self": null,
                        "border": null,
                        "bottom": null,
                        "display": null,
                        "flex": null,
                        "flex_flow": null,
                        "grid_area": null,
                        "grid_auto_columns": null,
                        "grid_auto_flow": null,
                        "grid_auto_rows": null,
                        "grid_column": null,
                        "grid_gap": null,
                        "grid_row": null,
                        "grid_template_areas": null,
                        "grid_template_columns": null,
                        "grid_template_rows": null,
                        "height": null,
                        "justify_content": null,
                        "justify_items": null,
                        "left": null,
                        "margin": null,
                        "max_height": null,
                        "max_width": null,
                        "min_height": null,
                        "min_width": null,
                        "object_fit": null,
                        "object_position": null,
                        "order": null,
                        "overflow": null,
                        "overflow_x": null,
                        "overflow_y": null,
                        "padding": null,
                        "right": null,
                        "top": null,
                        "visibility": null,
                        "width": null
                    }
                },
                "64ea27974e524850b4a3be59afc47405": {
                    "model_module": "@jupyter-widgets/controls",
                    "model_module_version": "1.5.0",
                    "model_name": "ProgressStyleModel",
                    "state": {
                        "_model_module": "@jupyter-widgets/controls",
                        "_model_module_version": "1.5.0",
                        "_model_name": "ProgressStyleModel",
                        "_view_count": null,
                        "_view_module": "@jupyter-widgets/base",
                        "_view_module_version": "1.2.0",
                        "_view_name": "StyleView",
                        "bar_color": null,
                        "description_width": ""
                    }
                },
                "6fb7a99b0fa54bb39ead1baec8032a62": {
                    "model_module": "@jupyter-widgets/controls",
                    "model_module_version": "1.5.0",
                    "model_name": "DescriptionStyleModel",
                    "state": {
                        "_model_module": "@jupyter-widgets/controls",
                        "_model_module_version": "1.5.0",
                        "_model_name": "DescriptionStyleModel",
                        "_view_count": null,
                        "_view_module": "@jupyter-widgets/base",
                        "_view_module_version": "1.2.0",
                        "_view_name": "StyleView",
                        "description_width": ""
                    }
                },
                "71e07acdc6814c1e9e3ed44c8cb8a859": {
                    "model_module": "@jupyter-widgets/controls",
                    "model_module_version": "1.5.0",
                    "model_name": "ProgressStyleModel",
                    "state": {
                        "_model_module": "@jupyter-widgets/controls",
                        "_model_module_version": "1.5.0",
                        "_model_name": "ProgressStyleModel",
                        "_view_count": null,
                        "_view_module": "@jupyter-widgets/base",
                        "_view_module_version": "1.2.0",
                        "_view_name": "StyleView",
                        "bar_color": null,
                        "description_width": ""
                    }
                },
                "772066da53214f92a428aff111114ad6": {
                    "model_module": "@jupyter-widgets/controls",
                    "model_module_version": "1.5.0",
                    "model_name": "HBoxModel",
                    "state": {
                        "_dom_classes": [],
                        "_model_module": "@jupyter-widgets/controls",
                        "_model_module_version": "1.5.0",
                        "_model_name": "HBoxModel",
                        "_view_count": null,
                        "_view_module": "@jupyter-widgets/controls",
                        "_view_module_version": "1.5.0",
                        "_view_name": "HBoxView",
                        "box_style": "",
                        "children": [
                            "IPY_MODEL_fbe8d0e5be884c1b8260aa6fdc1affff",
                            "IPY_MODEL_46b80da0724f4de08a852c5c80f89e89",
                            "IPY_MODEL_9ef97fa579514de580f15b28172eb4b9"
                        ],
                        "layout": "IPY_MODEL_5626a318b09742c7ba5dbf0bcbbb429f"
                    }
                },
                "781816cc4b7c426f939063152d59d725": {
                    "model_module": "@jupyter-widgets/base",
                    "model_module_version": "1.2.0",
                    "model_name": "LayoutModel",
                    "state": {
                        "_model_module": "@jupyter-widgets/base",
                        "_model_module_version": "1.2.0",
                        "_model_name": "LayoutModel",
                        "_view_count": null,
                        "_view_module": "@jupyter-widgets/base",
                        "_view_module_version": "1.2.0",
                        "_view_name": "LayoutView",
                        "align_content": null,
                        "align_items": null,
                        "align_self": null,
                        "border": null,
                        "bottom": null,
                        "display": null,
                        "flex": null,
                        "flex_flow": null,
                        "grid_area": null,
                        "grid_auto_columns": null,
                        "grid_auto_flow": null,
                        "grid_auto_rows": null,
                        "grid_column": null,
                        "grid_gap": null,
                        "grid_row": null,
                        "grid_template_areas": null,
                        "grid_template_columns": null,
                        "grid_template_rows": null,
                        "height": null,
                        "justify_content": null,
                        "justify_items": null,
                        "left": null,
                        "margin": null,
                        "max_height": null,
                        "max_width": null,
                        "min_height": null,
                        "min_width": null,
                        "object_fit": null,
                        "object_position": null,
                        "order": null,
                        "overflow": null,
                        "overflow_x": null,
                        "overflow_y": null,
                        "padding": null,
                        "right": null,
                        "top": null,
                        "visibility": null,
                        "width": null
                    }
                },
                "79b44e70d07041ca9f2a964d90d5024b": {
                    "model_module": "@jupyter-widgets/controls",
                    "model_module_version": "1.5.0",
                    "model_name": "FloatProgressModel",
                    "state": {
                        "_dom_classes": [],
                        "_model_module": "@jupyter-widgets/controls",
                        "_model_module_version": "1.5.0",
                        "_model_name": "FloatProgressModel",
                        "_view_count": null,
                        "_view_module": "@jupyter-widgets/controls",
                        "_view_module_version": "1.5.0",
                        "_view_name": "ProgressView",
                        "bar_style": "success",
                        "description": "",
                        "description_tooltip": null,
                        "layout": "IPY_MODEL_d9307b97fab34f7fab48d00765382795",
                        "max": 1,
                        "min": 0,
                        "orientation": "horizontal",
                        "style": "IPY_MODEL_e58355adf43a48d8b736c99e49666f18",
                        "value": 1
                    }
                },
                "7d94b0167fca42148ff1600a9a960530": {
                    "model_module": "@jupyter-widgets/controls",
                    "model_module_version": "1.5.0",
                    "model_name": "DescriptionStyleModel",
                    "state": {
                        "_model_module": "@jupyter-widgets/controls",
                        "_model_module_version": "1.5.0",
                        "_model_name": "DescriptionStyleModel",
                        "_view_count": null,
                        "_view_module": "@jupyter-widgets/base",
                        "_view_module_version": "1.2.0",
                        "_view_name": "StyleView",
                        "description_width": ""
                    }
                },
                "833cd8ec4b9c46fe9e2aeb5ad40a8110": {
                    "model_module": "@jupyter-widgets/controls",
                    "model_module_version": "1.5.0",
                    "model_name": "DescriptionStyleModel",
                    "state": {
                        "_model_module": "@jupyter-widgets/controls",
                        "_model_module_version": "1.5.0",
                        "_model_name": "DescriptionStyleModel",
                        "_view_count": null,
                        "_view_module": "@jupyter-widgets/base",
                        "_view_module_version": "1.2.0",
                        "_view_name": "StyleView",
                        "description_width": ""
                    }
                },
                "8496fdd7205e46dfa49aeda6ce8dec71": {
                    "model_module": "@jupyter-widgets/controls",
                    "model_module_version": "1.5.0",
                    "model_name": "DescriptionStyleModel",
                    "state": {
                        "_model_module": "@jupyter-widgets/controls",
                        "_model_module_version": "1.5.0",
                        "_model_name": "DescriptionStyleModel",
                        "_view_count": null,
                        "_view_module": "@jupyter-widgets/base",
                        "_view_module_version": "1.2.0",
                        "_view_name": "StyleView",
                        "description_width": ""
                    }
                },
                "8ac281a10959401e80407877621a271c": {
                    "model_module": "@jupyter-widgets/controls",
                    "model_module_version": "1.5.0",
                    "model_name": "HTMLModel",
                    "state": {
                        "_dom_classes": [],
                        "_model_module": "@jupyter-widgets/controls",
                        "_model_module_version": "1.5.0",
                        "_model_name": "HTMLModel",
                        "_view_count": null,
                        "_view_module": "@jupyter-widgets/controls",
                        "_view_module_version": "1.5.0",
                        "_view_name": "HTMLView",
                        "description": "",
                        "description_tooltip": null,
                        "layout": "IPY_MODEL_2a0b9a19fa034a149be6cf016a7cbcdc",
                        "placeholder": "​",
                        "style": "IPY_MODEL_114a08e8c83046b097c5809afbadc6df",
                        "value": "Downloading metadata: 100%"
                    }
                },
                "8bff056f3c224fe39c25fc70a73281c2": {
                    "model_module": "@jupyter-widgets/controls",
                    "model_module_version": "1.5.0",
                    "model_name": "HBoxModel",
                    "state": {
                        "_dom_classes": [],
                        "_model_module": "@jupyter-widgets/controls",
                        "_model_module_version": "1.5.0",
                        "_model_name": "HBoxModel",
                        "_view_count": null,
                        "_view_module": "@jupyter-widgets/controls",
                        "_view_module_version": "1.5.0",
                        "_view_name": "HBoxView",
                        "box_style": "",
                        "children": [
                            "IPY_MODEL_c6953708fa9349f799916b4b317bf126",
                            "IPY_MODEL_8ce4c886009d4a97b30925f07c1d94cb",
                            "IPY_MODEL_f9975602fe2f46aab5510f362e46a08e"
                        ],
                        "layout": "IPY_MODEL_e48e0887bffb47199e70425a8b1ff67c"
                    }
                },
                "8ce4c886009d4a97b30925f07c1d94cb": {
                    "model_module": "@jupyter-widgets/controls",
                    "model_module_version": "1.5.0",
                    "model_name": "FloatProgressModel",
                    "state": {
                        "_dom_classes": [],
                        "_model_module": "@jupyter-widgets/controls",
                        "_model_module_version": "1.5.0",
                        "_model_name": "FloatProgressModel",
                        "_view_count": null,
                        "_view_module": "@jupyter-widgets/controls",
                        "_view_module_version": "1.5.0",
                        "_view_name": "ProgressView",
                        "bar_style": "success",
                        "description": "",
                        "description_tooltip": null,
                        "layout": "IPY_MODEL_40a372cc2a174448aec933e0fa0c636a",
                        "max": 16258,
                        "min": 0,
                        "orientation": "horizontal",
                        "style": "IPY_MODEL_c2308012c0944a9c9d8ebc6df8607c35",
                        "value": 16258
                    }
                },
                "926f1c84bb90488e8c630c4ef6867559": {
                    "model_module": "@jupyter-widgets/base",
                    "model_module_version": "1.2.0",
                    "model_name": "LayoutModel",
                    "state": {
                        "_model_module": "@jupyter-widgets/base",
                        "_model_module_version": "1.2.0",
                        "_model_name": "LayoutModel",
                        "_view_count": null,
                        "_view_module": "@jupyter-widgets/base",
                        "_view_module_version": "1.2.0",
                        "_view_name": "LayoutView",
                        "align_content": null,
                        "align_items": null,
                        "align_self": null,
                        "border": null,
                        "bottom": null,
                        "display": null,
                        "flex": null,
                        "flex_flow": null,
                        "grid_area": null,
                        "grid_auto_columns": null,
                        "grid_auto_flow": null,
                        "grid_auto_rows": null,
                        "grid_column": null,
                        "grid_gap": null,
                        "grid_row": null,
                        "grid_template_areas": null,
                        "grid_template_columns": null,
                        "grid_template_rows": null,
                        "height": null,
                        "justify_content": null,
                        "justify_items": null,
                        "left": null,
                        "margin": null,
                        "max_height": null,
                        "max_width": null,
                        "min_height": null,
                        "min_width": null,
                        "object_fit": null,
                        "object_position": null,
                        "order": null,
                        "overflow": null,
                        "overflow_x": null,
                        "overflow_y": null,
                        "padding": null,
                        "right": null,
                        "top": null,
                        "visibility": null,
                        "width": null
                    }
                },
                "9ef97fa579514de580f15b28172eb4b9": {
                    "model_module": "@jupyter-widgets/controls",
                    "model_module_version": "1.5.0",
                    "model_name": "HTMLModel",
                    "state": {
                        "_dom_classes": [],
                        "_model_module": "@jupyter-widgets/controls",
                        "_model_module_version": "1.5.0",
                        "_model_name": "HTMLModel",
                        "_view_count": null,
                        "_view_module": "@jupyter-widgets/controls",
                        "_view_module_version": "1.5.0",
                        "_view_name": "HTMLView",
                        "description": "",
                        "description_tooltip": null,
                        "layout": "IPY_MODEL_3c9f5123820e43f0ade4433e05f9f3ff",
                        "placeholder": "​",
                        "style": "IPY_MODEL_8496fdd7205e46dfa49aeda6ce8dec71",
                        "value": " 35.9k/35.9k [00:00&lt;00:00, 651kB/s]"
                    }
                },
                "a4aa815730e84156801e5ce8a795b34f": {
                    "model_module": "@jupyter-widgets/controls",
                    "model_module_version": "1.5.0",
                    "model_name": "HTMLModel",
                    "state": {
                        "_dom_classes": [],
                        "_model_module": "@jupyter-widgets/controls",
                        "_model_module_version": "1.5.0",
                        "_model_name": "HTMLModel",
                        "_view_count": null,
                        "_view_module": "@jupyter-widgets/controls",
                        "_view_module_version": "1.5.0",
                        "_view_name": "HTMLView",
                        "description": "",
                        "description_tooltip": null,
                        "layout": "IPY_MODEL_5d7bd768999d4b93872231cbaf7873b4",
                        "placeholder": "​",
                        "style": "IPY_MODEL_6fb7a99b0fa54bb39ead1baec8032a62",
                        "value": " 1/1 [00:00&lt;00:00, 16.74it/s]"
                    }
                },
                "a4b34b62ebe1486cacab3485767ca14e": {
                    "model_module": "@jupyter-widgets/controls",
                    "model_module_version": "1.5.0",
                    "model_name": "DescriptionStyleModel",
                    "state": {
                        "_model_module": "@jupyter-widgets/controls",
                        "_model_module_version": "1.5.0",
                        "_model_name": "DescriptionStyleModel",
                        "_view_count": null,
                        "_view_module": "@jupyter-widgets/base",
                        "_view_module_version": "1.2.0",
                        "_view_name": "StyleView",
                        "description_width": ""
                    }
                },
                "a77554a9da9347f1aeaf9b4ce940934a": {
                    "model_module": "@jupyter-widgets/base",
                    "model_module_version": "1.2.0",
                    "model_name": "LayoutModel",
                    "state": {
                        "_model_module": "@jupyter-widgets/base",
                        "_model_module_version": "1.2.0",
                        "_model_name": "LayoutModel",
                        "_view_count": null,
                        "_view_module": "@jupyter-widgets/base",
                        "_view_module_version": "1.2.0",
                        "_view_name": "LayoutView",
                        "align_content": null,
                        "align_items": null,
                        "align_self": null,
                        "border": null,
                        "bottom": null,
                        "display": null,
                        "flex": null,
                        "flex_flow": null,
                        "grid_area": null,
                        "grid_auto_columns": null,
                        "grid_auto_flow": null,
                        "grid_auto_rows": null,
                        "grid_column": null,
                        "grid_gap": null,
                        "grid_row": null,
                        "grid_template_areas": null,
                        "grid_template_columns": null,
                        "grid_template_rows": null,
                        "height": null,
                        "justify_content": null,
                        "justify_items": null,
                        "left": null,
                        "margin": null,
                        "max_height": null,
                        "max_width": null,
                        "min_height": null,
                        "min_width": null,
                        "object_fit": null,
                        "object_position": null,
                        "order": null,
                        "overflow": null,
                        "overflow_x": null,
                        "overflow_y": null,
                        "padding": null,
                        "right": null,
                        "top": null,
                        "visibility": null,
                        "width": null
                    }
                },
                "add990e6e6764322aca66ab705a91699": {
                    "model_module": "@jupyter-widgets/controls",
                    "model_module_version": "1.5.0",
                    "model_name": "ProgressStyleModel",
                    "state": {
                        "_model_module": "@jupyter-widgets/controls",
                        "_model_module_version": "1.5.0",
                        "_model_name": "ProgressStyleModel",
                        "_view_count": null,
                        "_view_module": "@jupyter-widgets/base",
                        "_view_module_version": "1.2.0",
                        "_view_name": "StyleView",
                        "bar_color": null,
                        "description_width": ""
                    }
                },
                "af26cd328b3741d5a2cb1795eae48f92": {
                    "model_module": "@jupyter-widgets/base",
                    "model_module_version": "1.2.0",
                    "model_name": "LayoutModel",
                    "state": {
                        "_model_module": "@jupyter-widgets/base",
                        "_model_module_version": "1.2.0",
                        "_model_name": "LayoutModel",
                        "_view_count": null,
                        "_view_module": "@jupyter-widgets/base",
                        "_view_module_version": "1.2.0",
                        "_view_name": "LayoutView",
                        "align_content": null,
                        "align_items": null,
                        "align_self": null,
                        "border": null,
                        "bottom": null,
                        "display": null,
                        "flex": null,
                        "flex_flow": null,
                        "grid_area": null,
                        "grid_auto_columns": null,
                        "grid_auto_flow": null,
                        "grid_auto_rows": null,
                        "grid_column": null,
                        "grid_gap": null,
                        "grid_row": null,
                        "grid_template_areas": null,
                        "grid_template_columns": null,
                        "grid_template_rows": null,
                        "height": null,
                        "justify_content": null,
                        "justify_items": null,
                        "left": null,
                        "margin": null,
                        "max_height": null,
                        "max_width": null,
                        "min_height": null,
                        "min_width": null,
                        "object_fit": null,
                        "object_position": null,
                        "order": null,
                        "overflow": null,
                        "overflow_x": null,
                        "overflow_y": null,
                        "padding": null,
                        "right": null,
                        "top": null,
                        "visibility": null,
                        "width": null
                    }
                },
                "b2a0d66bfeee4756917866f7d5532d1d": {
                    "model_module": "@jupyter-widgets/base",
                    "model_module_version": "1.2.0",
                    "model_name": "LayoutModel",
                    "state": {
                        "_model_module": "@jupyter-widgets/base",
                        "_model_module_version": "1.2.0",
                        "_model_name": "LayoutModel",
                        "_view_count": null,
                        "_view_module": "@jupyter-widgets/base",
                        "_view_module_version": "1.2.0",
                        "_view_name": "LayoutView",
                        "align_content": null,
                        "align_items": null,
                        "align_self": null,
                        "border": null,
                        "bottom": null,
                        "display": null,
                        "flex": null,
                        "flex_flow": null,
                        "grid_area": null,
                        "grid_auto_columns": null,
                        "grid_auto_flow": null,
                        "grid_auto_rows": null,
                        "grid_column": null,
                        "grid_gap": null,
                        "grid_row": null,
                        "grid_template_areas": null,
                        "grid_template_columns": null,
                        "grid_template_rows": null,
                        "height": null,
                        "justify_content": null,
                        "justify_items": null,
                        "left": null,
                        "margin": null,
                        "max_height": null,
                        "max_width": null,
                        "min_height": null,
                        "min_width": null,
                        "object_fit": null,
                        "object_position": null,
                        "order": null,
                        "overflow": null,
                        "overflow_x": null,
                        "overflow_y": null,
                        "padding": null,
                        "right": null,
                        "top": null,
                        "visibility": null,
                        "width": null
                    }
                },
                "b38e5f26ccbf4b9e9453f573e90f62b9": {
                    "model_module": "@jupyter-widgets/controls",
                    "model_module_version": "1.5.0",
                    "model_name": "ProgressStyleModel",
                    "state": {
                        "_model_module": "@jupyter-widgets/controls",
                        "_model_module_version": "1.5.0",
                        "_model_name": "ProgressStyleModel",
                        "_view_count": null,
                        "_view_module": "@jupyter-widgets/base",
                        "_view_module_version": "1.2.0",
                        "_view_name": "StyleView",
                        "bar_color": null,
                        "description_width": ""
                    }
                },
                "bd2b72ef0b904d819043a38ba10bf75a": {
                    "model_module": "@jupyter-widgets/controls",
                    "model_module_version": "1.5.0",
                    "model_name": "HTMLModel",
                    "state": {
                        "_dom_classes": [],
                        "_model_module": "@jupyter-widgets/controls",
                        "_model_module_version": "1.5.0",
                        "_model_name": "HTMLModel",
                        "_view_count": null,
                        "_view_module": "@jupyter-widgets/controls",
                        "_view_module_version": "1.5.0",
                        "_view_name": "HTMLView",
                        "description": "",
                        "description_tooltip": null,
                        "layout": "IPY_MODEL_dd3fea6bee504e4fb71453513c997f1a",
                        "placeholder": "​",
                        "style": "IPY_MODEL_a4b34b62ebe1486cacab3485767ca14e",
                        "value": "Downloading: 100%"
                    }
                },
                "c2308012c0944a9c9d8ebc6df8607c35": {
                    "model_module": "@jupyter-widgets/controls",
                    "model_module_version": "1.5.0",
                    "model_name": "ProgressStyleModel",
                    "state": {
                        "_model_module": "@jupyter-widgets/controls",
                        "_model_module_version": "1.5.0",
                        "_model_name": "ProgressStyleModel",
                        "_view_count": null,
                        "_view_module": "@jupyter-widgets/base",
                        "_view_module_version": "1.2.0",
                        "_view_name": "StyleView",
                        "bar_color": null,
                        "description_width": ""
                    }
                },
                "c6953708fa9349f799916b4b317bf126": {
                    "model_module": "@jupyter-widgets/controls",
                    "model_module_version": "1.5.0",
                    "model_name": "HTMLModel",
                    "state": {
                        "_dom_classes": [],
                        "_model_module": "@jupyter-widgets/controls",
                        "_model_module_version": "1.5.0",
                        "_model_name": "HTMLModel",
                        "_view_count": null,
                        "_view_module": "@jupyter-widgets/controls",
                        "_view_module_version": "1.5.0",
                        "_view_name": "HTMLView",
                        "description": "",
                        "description_tooltip": null,
                        "layout": "IPY_MODEL_af26cd328b3741d5a2cb1795eae48f92",
                        "placeholder": "​",
                        "style": "IPY_MODEL_7d94b0167fca42148ff1600a9a960530",
                        "value": "Downloading readme: 100%"
                    }
                },
                "cb0b7920e4014cf48748ed70e3863d31": {
                    "model_module": "@jupyter-widgets/controls",
                    "model_module_version": "1.5.0",
                    "model_name": "HBoxModel",
                    "state": {
                        "_dom_classes": [],
                        "_model_module": "@jupyter-widgets/controls",
                        "_model_module_version": "1.5.0",
                        "_model_name": "HBoxModel",
                        "_view_count": null,
                        "_view_module": "@jupyter-widgets/controls",
                        "_view_module_version": "1.5.0",
                        "_view_name": "HBoxView",
                        "box_style": "",
                        "children": [
                            "IPY_MODEL_8ac281a10959401e80407877621a271c",
                            "IPY_MODEL_17c12f9fe17d4ea893c59db04aa2ee49",
                            "IPY_MODEL_4dbe38c6d32542b0bf1a0d637e783576"
                        ],
                        "layout": "IPY_MODEL_926f1c84bb90488e8c630c4ef6867559"
                    }
                },
                "d5dc33a313e64e00957cd9f79aaaf813": {
                    "model_module": "@jupyter-widgets/base",
                    "model_module_version": "1.2.0",
                    "model_name": "LayoutModel",
                    "state": {
                        "_model_module": "@jupyter-widgets/base",
                        "_model_module_version": "1.2.0",
                        "_model_name": "LayoutModel",
                        "_view_count": null,
                        "_view_module": "@jupyter-widgets/base",
                        "_view_module_version": "1.2.0",
                        "_view_name": "LayoutView",
                        "align_content": null,
                        "align_items": null,
                        "align_self": null,
                        "border": null,
                        "bottom": null,
                        "display": null,
                        "flex": null,
                        "flex_flow": null,
                        "grid_area": null,
                        "grid_auto_columns": null,
                        "grid_auto_flow": null,
                        "grid_auto_rows": null,
                        "grid_column": null,
                        "grid_gap": null,
                        "grid_row": null,
                        "grid_template_areas": null,
                        "grid_template_columns": null,
                        "grid_template_rows": null,
                        "height": null,
                        "justify_content": null,
                        "justify_items": null,
                        "left": null,
                        "margin": null,
                        "max_height": null,
                        "max_width": null,
                        "min_height": null,
                        "min_width": null,
                        "object_fit": null,
                        "object_position": null,
                        "order": null,
                        "overflow": null,
                        "overflow_x": null,
                        "overflow_y": null,
                        "padding": null,
                        "right": null,
                        "top": null,
                        "visibility": null,
                        "width": null
                    }
                },
                "d8d8576bee254023b6b33002b1f547ad": {
                    "model_module": "@jupyter-widgets/controls",
                    "model_module_version": "1.5.0",
                    "model_name": "FloatProgressModel",
                    "state": {
                        "_dom_classes": [],
                        "_model_module": "@jupyter-widgets/controls",
                        "_model_module_version": "1.5.0",
                        "_model_name": "FloatProgressModel",
                        "_view_count": null,
                        "_view_module": "@jupyter-widgets/controls",
                        "_view_module_version": "1.5.0",
                        "_view_name": "ProgressView",
                        "bar_style": "success",
                        "description": "",
                        "description_tooltip": null,
                        "layout": "IPY_MODEL_edc8cfe31657440d8ffae91b32ba4003",
                        "max": 235072360,
                        "min": 0,
                        "orientation": "horizontal",
                        "style": "IPY_MODEL_add990e6e6764322aca66ab705a91699",
                        "value": 235072360
                    }
                },
                "d9307b97fab34f7fab48d00765382795": {
                    "model_module": "@jupyter-widgets/base",
                    "model_module_version": "1.2.0",
                    "model_name": "LayoutModel",
                    "state": {
                        "_model_module": "@jupyter-widgets/base",
                        "_model_module_version": "1.2.0",
                        "_model_name": "LayoutModel",
                        "_view_count": null,
                        "_view_module": "@jupyter-widgets/base",
                        "_view_module_version": "1.2.0",
                        "_view_name": "LayoutView",
                        "align_content": null,
                        "align_items": null,
                        "align_self": null,
                        "border": null,
                        "bottom": null,
                        "display": null,
                        "flex": null,
                        "flex_flow": null,
                        "grid_area": null,
                        "grid_auto_columns": null,
                        "grid_auto_flow": null,
                        "grid_auto_rows": null,
                        "grid_column": null,
                        "grid_gap": null,
                        "grid_row": null,
                        "grid_template_areas": null,
                        "grid_template_columns": null,
                        "grid_template_rows": null,
                        "height": null,
                        "justify_content": null,
                        "justify_items": null,
                        "left": null,
                        "margin": null,
                        "max_height": null,
                        "max_width": null,
                        "min_height": null,
                        "min_width": null,
                        "object_fit": null,
                        "object_position": null,
                        "order": null,
                        "overflow": null,
                        "overflow_x": null,
                        "overflow_y": null,
                        "padding": null,
                        "right": null,
                        "top": null,
                        "visibility": null,
                        "width": null
                    }
                },
                "dac150f312e54f24b8b644ae21319883": {
                    "model_module": "@jupyter-widgets/controls",
                    "model_module_version": "1.5.0",
                    "model_name": "HBoxModel",
                    "state": {
                        "_dom_classes": [],
                        "_model_module": "@jupyter-widgets/controls",
                        "_model_module_version": "1.5.0",
                        "_model_name": "HBoxModel",
                        "_view_count": null,
                        "_view_module": "@jupyter-widgets/controls",
                        "_view_module_version": "1.5.0",
                        "_view_name": "HBoxView",
                        "box_style": "",
                        "children": [
                            "IPY_MODEL_4d01b4fda08e498a9ec6ce51cb0e0aa4",
                            "IPY_MODEL_79b44e70d07041ca9f2a964d90d5024b",
                            "IPY_MODEL_a4aa815730e84156801e5ce8a795b34f"
                        ],
                        "layout": "IPY_MODEL_e59a77ccd4c946abb2f7d84ca33711be"
                    }
                },
                "dc8d33157d2942099229b7f247c50a49": {
                    "model_module": "@jupyter-widgets/controls",
                    "model_module_version": "1.5.0",
                    "model_name": "FloatProgressModel",
                    "state": {
                        "_dom_classes": [],
                        "_model_module": "@jupyter-widgets/controls",
                        "_model_module_version": "1.5.0",
                        "_model_name": "FloatProgressModel",
                        "_view_count": null,
                        "_view_module": "@jupyter-widgets/controls",
                        "_view_module_version": "1.5.0",
                        "_view_name": "ProgressView",
                        "bar_style": "success",
                        "description": "",
                        "description_tooltip": null,
                        "layout": "IPY_MODEL_fd32dae5092a41a487c72c1b2c1af76f",
                        "max": 1660,
                        "min": 0,
                        "orientation": "horizontal",
                        "style": "IPY_MODEL_71e07acdc6814c1e9e3ed44c8cb8a859",
                        "value": 1660
                    }
                },
                "dd3fea6bee504e4fb71453513c997f1a": {
                    "model_module": "@jupyter-widgets/base",
                    "model_module_version": "1.2.0",
                    "model_name": "LayoutModel",
                    "state": {
                        "_model_module": "@jupyter-widgets/base",
                        "_model_module_version": "1.2.0",
                        "_model_name": "LayoutModel",
                        "_view_count": null,
                        "_view_module": "@jupyter-widgets/base",
                        "_view_module_version": "1.2.0",
                        "_view_name": "LayoutView",
                        "align_content": null,
                        "align_items": null,
                        "align_self": null,
                        "border": null,
                        "bottom": null,
                        "display": null,
                        "flex": null,
                        "flex_flow": null,
                        "grid_area": null,
                        "grid_auto_columns": null,
                        "grid_auto_flow": null,
                        "grid_auto_rows": null,
                        "grid_column": null,
                        "grid_gap": null,
                        "grid_row": null,
                        "grid_template_areas": null,
                        "grid_template_columns": null,
                        "grid_template_rows": null,
                        "height": null,
                        "justify_content": null,
                        "justify_items": null,
                        "left": null,
                        "margin": null,
                        "max_height": null,
                        "max_width": null,
                        "min_height": null,
                        "min_width": null,
                        "object_fit": null,
                        "object_position": null,
                        "order": null,
                        "overflow": null,
                        "overflow_x": null,
                        "overflow_y": null,
                        "padding": null,
                        "right": null,
                        "top": null,
                        "visibility": null,
                        "width": null
                    }
                },
                "e48e0887bffb47199e70425a8b1ff67c": {
                    "model_module": "@jupyter-widgets/base",
                    "model_module_version": "1.2.0",
                    "model_name": "LayoutModel",
                    "state": {
                        "_model_module": "@jupyter-widgets/base",
                        "_model_module_version": "1.2.0",
                        "_model_name": "LayoutModel",
                        "_view_count": null,
                        "_view_module": "@jupyter-widgets/base",
                        "_view_module_version": "1.2.0",
                        "_view_name": "LayoutView",
                        "align_content": null,
                        "align_items": null,
                        "align_self": null,
                        "border": null,
                        "bottom": null,
                        "display": null,
                        "flex": null,
                        "flex_flow": null,
                        "grid_area": null,
                        "grid_auto_columns": null,
                        "grid_auto_flow": null,
                        "grid_auto_rows": null,
                        "grid_column": null,
                        "grid_gap": null,
                        "grid_row": null,
                        "grid_template_areas": null,
                        "grid_template_columns": null,
                        "grid_template_rows": null,
                        "height": null,
                        "justify_content": null,
                        "justify_items": null,
                        "left": null,
                        "margin": null,
                        "max_height": null,
                        "max_width": null,
                        "min_height": null,
                        "min_width": null,
                        "object_fit": null,
                        "object_position": null,
                        "order": null,
                        "overflow": null,
                        "overflow_x": null,
                        "overflow_y": null,
                        "padding": null,
                        "right": null,
                        "top": null,
                        "visibility": null,
                        "width": null
                    }
                },
                "e58355adf43a48d8b736c99e49666f18": {
                    "model_module": "@jupyter-widgets/controls",
                    "model_module_version": "1.5.0",
                    "model_name": "ProgressStyleModel",
                    "state": {
                        "_model_module": "@jupyter-widgets/controls",
                        "_model_module_version": "1.5.0",
                        "_model_name": "ProgressStyleModel",
                        "_view_count": null,
                        "_view_module": "@jupyter-widgets/base",
                        "_view_module_version": "1.2.0",
                        "_view_name": "StyleView",
                        "bar_color": null,
                        "description_width": ""
                    }
                },
                "e59a77ccd4c946abb2f7d84ca33711be": {
                    "model_module": "@jupyter-widgets/base",
                    "model_module_version": "1.2.0",
                    "model_name": "LayoutModel",
                    "state": {
                        "_model_module": "@jupyter-widgets/base",
                        "_model_module_version": "1.2.0",
                        "_model_name": "LayoutModel",
                        "_view_count": null,
                        "_view_module": "@jupyter-widgets/base",
                        "_view_module_version": "1.2.0",
                        "_view_name": "LayoutView",
                        "align_content": null,
                        "align_items": null,
                        "align_self": null,
                        "border": null,
                        "bottom": null,
                        "display": null,
                        "flex": null,
                        "flex_flow": null,
                        "grid_area": null,
                        "grid_auto_columns": null,
                        "grid_auto_flow": null,
                        "grid_auto_rows": null,
                        "grid_column": null,
                        "grid_gap": null,
                        "grid_row": null,
                        "grid_template_areas": null,
                        "grid_template_columns": null,
                        "grid_template_rows": null,
                        "height": null,
                        "justify_content": null,
                        "justify_items": null,
                        "left": null,
                        "margin": null,
                        "max_height": null,
                        "max_width": null,
                        "min_height": null,
                        "min_width": null,
                        "object_fit": null,
                        "object_position": null,
                        "order": null,
                        "overflow": null,
                        "overflow_x": null,
                        "overflow_y": null,
                        "padding": null,
                        "right": null,
                        "top": null,
                        "visibility": null,
                        "width": null
                    }
                },
                "edc8cfe31657440d8ffae91b32ba4003": {
                    "model_module": "@jupyter-widgets/base",
                    "model_module_version": "1.2.0",
                    "model_name": "LayoutModel",
                    "state": {
                        "_model_module": "@jupyter-widgets/base",
                        "_model_module_version": "1.2.0",
                        "_model_name": "LayoutModel",
                        "_view_count": null,
                        "_view_module": "@jupyter-widgets/base",
                        "_view_module_version": "1.2.0",
                        "_view_name": "LayoutView",
                        "align_content": null,
                        "align_items": null,
                        "align_self": null,
                        "border": null,
                        "bottom": null,
                        "display": null,
                        "flex": null,
                        "flex_flow": null,
                        "grid_area": null,
                        "grid_auto_columns": null,
                        "grid_auto_flow": null,
                        "grid_auto_rows": null,
                        "grid_column": null,
                        "grid_gap": null,
                        "grid_row": null,
                        "grid_template_areas": null,
                        "grid_template_columns": null,
                        "grid_template_rows": null,
                        "height": null,
                        "justify_content": null,
                        "justify_items": null,
                        "left": null,
                        "margin": null,
                        "max_height": null,
                        "max_width": null,
                        "min_height": null,
                        "min_width": null,
                        "object_fit": null,
                        "object_position": null,
                        "order": null,
                        "overflow": null,
                        "overflow_x": null,
                        "overflow_y": null,
                        "padding": null,
                        "right": null,
                        "top": null,
                        "visibility": null,
                        "width": null
                    }
                },
                "f6ed950827794754b3e6d746e73a34b3": {
                    "model_module": "@jupyter-widgets/base",
                    "model_module_version": "1.2.0",
                    "model_name": "LayoutModel",
                    "state": {
                        "_model_module": "@jupyter-widgets/base",
                        "_model_module_version": "1.2.0",
                        "_model_name": "LayoutModel",
                        "_view_count": null,
                        "_view_module": "@jupyter-widgets/base",
                        "_view_module_version": "1.2.0",
                        "_view_name": "LayoutView",
                        "align_content": null,
                        "align_items": null,
                        "align_self": null,
                        "border": null,
                        "bottom": null,
                        "display": null,
                        "flex": null,
                        "flex_flow": null,
                        "grid_area": null,
                        "grid_auto_columns": null,
                        "grid_auto_flow": null,
                        "grid_auto_rows": null,
                        "grid_column": null,
                        "grid_gap": null,
                        "grid_row": null,
                        "grid_template_areas": null,
                        "grid_template_columns": null,
                        "grid_template_rows": null,
                        "height": null,
                        "justify_content": null,
                        "justify_items": null,
                        "left": null,
                        "margin": null,
                        "max_height": null,
                        "max_width": null,
                        "min_height": null,
                        "min_width": null,
                        "object_fit": null,
                        "object_position": null,
                        "order": null,
                        "overflow": null,
                        "overflow_x": null,
                        "overflow_y": null,
                        "padding": null,
                        "right": null,
                        "top": null,
                        "visibility": null,
                        "width": null
                    }
                },
                "f9975602fe2f46aab5510f362e46a08e": {
                    "model_module": "@jupyter-widgets/controls",
                    "model_module_version": "1.5.0",
                    "model_name": "HTMLModel",
                    "state": {
                        "_dom_classes": [],
                        "_model_module": "@jupyter-widgets/controls",
                        "_model_module_version": "1.5.0",
                        "_model_name": "HTMLModel",
                        "_view_count": null,
                        "_view_module": "@jupyter-widgets/controls",
                        "_view_module_version": "1.5.0",
                        "_view_name": "HTMLView",
                        "description": "",
                        "description_tooltip": null,
                        "layout": "IPY_MODEL_d5dc33a313e64e00957cd9f79aaaf813",
                        "placeholder": "​",
                        "style": "IPY_MODEL_373046c703dd4cf796ac7cc4f0bf7bf2",
                        "value": " 16.3k/16.3k [00:00&lt;00:00, 785kB/s]"
                    }
                },
                "fbe8d0e5be884c1b8260aa6fdc1affff": {
                    "model_module": "@jupyter-widgets/controls",
                    "model_module_version": "1.5.0",
                    "model_name": "HTMLModel",
                    "state": {
                        "_dom_classes": [],
                        "_model_module": "@jupyter-widgets/controls",
                        "_model_module_version": "1.5.0",
                        "_model_name": "HTMLModel",
                        "_view_count": null,
                        "_view_module": "@jupyter-widgets/controls",
                        "_view_module_version": "1.5.0",
                        "_view_name": "HTMLView",
                        "description": "",
                        "description_tooltip": null,
                        "layout": "IPY_MODEL_082f9625611146f18e7d8912a9e8ca43",
                        "placeholder": "​",
                        "style": "IPY_MODEL_3a20873302a34d4c9dc3ea8546f0db40",
                        "value": "Downloading builder script: 100%"
                    }
                },
                "fd32dae5092a41a487c72c1b2c1af76f": {
                    "model_module": "@jupyter-widgets/base",
                    "model_module_version": "1.2.0",
                    "model_name": "LayoutModel",
                    "state": {
                        "_model_module": "@jupyter-widgets/base",
                        "_model_module_version": "1.2.0",
                        "_model_name": "LayoutModel",
                        "_view_count": null,
                        "_view_module": "@jupyter-widgets/base",
                        "_view_module_version": "1.2.0",
                        "_view_name": "LayoutView",
                        "align_content": null,
                        "align_items": null,
                        "align_self": null,
                        "border": null,
                        "bottom": null,
                        "display": null,
                        "flex": null,
                        "flex_flow": null,
                        "grid_area": null,
                        "grid_auto_columns": null,
                        "grid_auto_flow": null,
                        "grid_auto_rows": null,
                        "grid_column": null,
                        "grid_gap": null,
                        "grid_row": null,
                        "grid_template_areas": null,
                        "grid_template_columns": null,
                        "grid_template_rows": null,
                        "height": null,
                        "justify_content": null,
                        "justify_items": null,
                        "left": null,
                        "margin": null,
                        "max_height": null,
                        "max_width": null,
                        "min_height": null,
                        "min_width": null,
                        "object_fit": null,
                        "object_position": null,
                        "order": null,
                        "overflow": null,
                        "overflow_x": null,
                        "overflow_y": null,
                        "padding": null,
                        "right": null,
                        "top": null,
                        "visibility": null,
                        "width": null
                    }
                }
            }
        }
    },
    "nbformat": 4,
    "nbformat_minor": 4
}
